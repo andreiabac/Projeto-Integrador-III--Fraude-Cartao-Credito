{
 "cells": [
  {
   "cell_type": "code",
   "execution_count": 78,
   "id": "ae1b30fb-edfe-4780-b256-7ebb2423e422",
   "metadata": {},
   "outputs": [],
   "source": [
    "import pandas as pd\n",
    "import numpy as np\n",
    "import seaborn as sns\n",
    "import matplotlib.pyplot as plt\n",
    "from matplotlib.gridspec import GridSpec\n",
    "%matplotlib inline\n",
    "from sklearn.model_selection import train_test_split\n",
    "from sklearn.ensemble import RandomForestClassifier \n",
    "from sklearn.neighbors import KNeighborsClassifier\n",
    "from sklearn.model_selection import cross_val_score, KFold\n",
    "from sklearn.linear_model import LogisticRegression\n",
    "from sklearn.tree import DecisionTreeClassifier\n",
    "from sklearn.naive_bayes import GaussianNB\n",
    "from sklearn.preprocessing import StandardScaler, MinMaxScaler\n",
    "from sklearn.metrics import confusion_matrix, accuracy_score, recall_score, roc_curve, auc, roc_auc_score, f1_score, mean_absolute_error, classification_report \n",
    "from sklearn.calibration import CalibratedClassifierCV, CalibrationDisplay"
   ]
  },
  {
   "cell_type": "markdown",
   "id": "b11cbc04-25ed-4854-a7b5-db09b677b534",
   "metadata": {},
   "source": [
    "Análise Exploratória dos Dados"
   ]
  },
  {
   "cell_type": "code",
   "execution_count": 79,
   "id": "8cd52585-6006-48eb-b82e-1d0e687051f2",
   "metadata": {},
   "outputs": [],
   "source": [
    "data_location = \"../Projeto-Integrador-III--Fraude-Cartao-Credito/Data/card_transdata.csv\"\n",
    "data = pd.read_csv(data_location, sep = \",\")"
   ]
  },
  {
   "cell_type": "code",
   "execution_count": 80,
   "id": "3ce93d3c-01bc-47f6-a5ce-082d5f4ac01c",
   "metadata": {},
   "outputs": [
    {
     "data": {
      "text/html": [
       "<div>\n",
       "<style scoped>\n",
       "    .dataframe tbody tr th:only-of-type {\n",
       "        vertical-align: middle;\n",
       "    }\n",
       "\n",
       "    .dataframe tbody tr th {\n",
       "        vertical-align: top;\n",
       "    }\n",
       "\n",
       "    .dataframe thead th {\n",
       "        text-align: right;\n",
       "    }\n",
       "</style>\n",
       "<table border=\"1\" class=\"dataframe\">\n",
       "  <thead>\n",
       "    <tr style=\"text-align: right;\">\n",
       "      <th></th>\n",
       "      <th>distance_from_home</th>\n",
       "      <th>distance_from_last_transaction</th>\n",
       "      <th>ratio_to_median_purchase_price</th>\n",
       "      <th>repeat_retailer</th>\n",
       "      <th>used_chip</th>\n",
       "      <th>used_pin_number</th>\n",
       "      <th>online_order</th>\n",
       "      <th>fraud</th>\n",
       "    </tr>\n",
       "  </thead>\n",
       "  <tbody>\n",
       "    <tr>\n",
       "      <th>0</th>\n",
       "      <td>57.877857</td>\n",
       "      <td>0.311140</td>\n",
       "      <td>1.945940</td>\n",
       "      <td>1.0</td>\n",
       "      <td>1.0</td>\n",
       "      <td>0.0</td>\n",
       "      <td>0.0</td>\n",
       "      <td>0.0</td>\n",
       "    </tr>\n",
       "    <tr>\n",
       "      <th>1</th>\n",
       "      <td>10.829943</td>\n",
       "      <td>0.175592</td>\n",
       "      <td>1.294219</td>\n",
       "      <td>1.0</td>\n",
       "      <td>0.0</td>\n",
       "      <td>0.0</td>\n",
       "      <td>0.0</td>\n",
       "      <td>0.0</td>\n",
       "    </tr>\n",
       "    <tr>\n",
       "      <th>2</th>\n",
       "      <td>5.091079</td>\n",
       "      <td>0.805153</td>\n",
       "      <td>0.427715</td>\n",
       "      <td>1.0</td>\n",
       "      <td>0.0</td>\n",
       "      <td>0.0</td>\n",
       "      <td>1.0</td>\n",
       "      <td>0.0</td>\n",
       "    </tr>\n",
       "    <tr>\n",
       "      <th>3</th>\n",
       "      <td>2.247564</td>\n",
       "      <td>5.600044</td>\n",
       "      <td>0.362663</td>\n",
       "      <td>1.0</td>\n",
       "      <td>1.0</td>\n",
       "      <td>0.0</td>\n",
       "      <td>1.0</td>\n",
       "      <td>0.0</td>\n",
       "    </tr>\n",
       "    <tr>\n",
       "      <th>4</th>\n",
       "      <td>44.190936</td>\n",
       "      <td>0.566486</td>\n",
       "      <td>2.222767</td>\n",
       "      <td>1.0</td>\n",
       "      <td>1.0</td>\n",
       "      <td>0.0</td>\n",
       "      <td>1.0</td>\n",
       "      <td>0.0</td>\n",
       "    </tr>\n",
       "  </tbody>\n",
       "</table>\n",
       "</div>"
      ],
      "text/plain": [
       "   distance_from_home  distance_from_last_transaction  \\\n",
       "0           57.877857                        0.311140   \n",
       "1           10.829943                        0.175592   \n",
       "2            5.091079                        0.805153   \n",
       "3            2.247564                        5.600044   \n",
       "4           44.190936                        0.566486   \n",
       "\n",
       "   ratio_to_median_purchase_price  repeat_retailer  used_chip  \\\n",
       "0                        1.945940              1.0        1.0   \n",
       "1                        1.294219              1.0        0.0   \n",
       "2                        0.427715              1.0        0.0   \n",
       "3                        0.362663              1.0        1.0   \n",
       "4                        2.222767              1.0        1.0   \n",
       "\n",
       "   used_pin_number  online_order  fraud  \n",
       "0              0.0           0.0    0.0  \n",
       "1              0.0           0.0    0.0  \n",
       "2              0.0           1.0    0.0  \n",
       "3              0.0           1.0    0.0  \n",
       "4              0.0           1.0    0.0  "
      ]
     },
     "execution_count": 80,
     "metadata": {},
     "output_type": "execute_result"
    }
   ],
   "source": [
    "data.head()"
   ]
  },
  {
   "cell_type": "markdown",
   "id": "7f717698-33b2-4ad3-9f8a-487a444bb556",
   "metadata": {},
   "source": [
    "Verificando se há dados nulos"
   ]
  },
  {
   "cell_type": "code",
   "execution_count": 81,
   "id": "74e35297-0d45-484d-a545-02935b5d052e",
   "metadata": {},
   "outputs": [
    {
     "data": {
      "text/plain": [
       "distance_from_home                0\n",
       "distance_from_last_transaction    0\n",
       "ratio_to_median_purchase_price    0\n",
       "repeat_retailer                   0\n",
       "used_chip                         0\n",
       "used_pin_number                   0\n",
       "online_order                      0\n",
       "fraud                             0\n",
       "dtype: int64"
      ]
     },
     "execution_count": 81,
     "metadata": {},
     "output_type": "execute_result"
    }
   ],
   "source": [
    "data.isnull().sum()"
   ]
  },
  {
   "cell_type": "code",
   "execution_count": 82,
   "id": "ef1495b6-6d93-4df3-bc7c-17e6e427b537",
   "metadata": {},
   "outputs": [
    {
     "data": {
      "text/plain": [
       "array([0., 1.])"
      ]
     },
     "execution_count": 82,
     "metadata": {},
     "output_type": "execute_result"
    }
   ],
   "source": [
    "data.fraud.unique()"
   ]
  },
  {
   "cell_type": "code",
   "execution_count": 83,
   "id": "6e2c8bca-6048-409e-9a44-f2182b62c5f8",
   "metadata": {},
   "outputs": [
    {
     "name": "stdout",
     "output_type": "stream",
     "text": [
      "\n",
      "Conjunto de dados, linhas e colunas\n",
      "\n",
      "The shape of the data set is: (1000000, 8)\n",
      "\n",
      "---------------------------------------------\n",
      "\n",
      "\n",
      "Check valores nulos\n",
      "\n",
      "Checking for missing values: \n",
      "\n",
      "distance_from_home                0\n",
      "distance_from_last_transaction    0\n",
      "ratio_to_median_purchase_price    0\n",
      "repeat_retailer                   0\n",
      "used_chip                         0\n",
      "used_pin_number                   0\n",
      "online_order                      0\n",
      "fraud                             0\n",
      "dtype: int64\n",
      "\n",
      "---------------------------------------------\n",
      "\n",
      "\n",
      "Estatísticas\n",
      "\n",
      "       distance_from_home  distance_from_last_transaction  \\\n",
      "count      1000000.000000                  1000000.000000   \n",
      "mean            26.628792                        5.036519   \n",
      "std             65.390784                       25.843093   \n",
      "min              0.004874                        0.000118   \n",
      "25%              3.878008                        0.296671   \n",
      "50%              9.967760                        0.998650   \n",
      "75%             25.743985                        3.355748   \n",
      "max          10632.723672                    11851.104565   \n",
      "\n",
      "       ratio_to_median_purchase_price  repeat_retailer       used_chip  \\\n",
      "count                  1000000.000000   1000000.000000  1000000.000000   \n",
      "mean                         1.824182         0.881536        0.350399   \n",
      "std                          2.799589         0.323157        0.477095   \n",
      "min                          0.004399         0.000000        0.000000   \n",
      "25%                          0.475673         1.000000        0.000000   \n",
      "50%                          0.997717         1.000000        0.000000   \n",
      "75%                          2.096370         1.000000        1.000000   \n",
      "max                        267.802942         1.000000        1.000000   \n",
      "\n",
      "       used_pin_number    online_order           fraud  \n",
      "count   1000000.000000  1000000.000000  1000000.000000  \n",
      "mean          0.100608        0.650552        0.087403  \n",
      "std           0.300809        0.476796        0.282425  \n",
      "min           0.000000        0.000000        0.000000  \n",
      "25%           0.000000        0.000000        0.000000  \n",
      "50%           0.000000        1.000000        0.000000  \n",
      "75%           0.000000        1.000000        0.000000  \n",
      "max           1.000000        1.000000        1.000000  \n",
      "\n",
      "---------------------------------------------\n",
      "\n",
      "\n",
      "Informações do dataset\n",
      "\n",
      "<class 'pandas.core.frame.DataFrame'>\n",
      "RangeIndex: 1000000 entries, 0 to 999999\n",
      "Data columns (total 8 columns):\n",
      " #   Column                          Non-Null Count    Dtype  \n",
      "---  ------                          --------------    -----  \n",
      " 0   distance_from_home              1000000 non-null  float64\n",
      " 1   distance_from_last_transaction  1000000 non-null  float64\n",
      " 2   ratio_to_median_purchase_price  1000000 non-null  float64\n",
      " 3   repeat_retailer                 1000000 non-null  float64\n",
      " 4   used_chip                       1000000 non-null  float64\n",
      " 5   used_pin_number                 1000000 non-null  float64\n",
      " 6   online_order                    1000000 non-null  float64\n",
      " 7   fraud                           1000000 non-null  float64\n",
      "dtypes: float64(8)\n",
      "memory usage: 61.0 MB\n",
      "None\n",
      "\n",
      "---------------------------------------------\n",
      "\n",
      "\n",
      "Check balanceamento da target fraud\n",
      "\n",
      "0.0    912597\n",
      "1.0     87403\n",
      "Name: fraud, dtype: int64\n",
      "\n",
      "---------------------------------------------\n",
      "\n"
     ]
    }
   ],
   "source": [
    "print('\\nConjunto de dados, linhas e colunas\\n')\n",
    "print('The shape of the data set is:',data.shape)\n",
    "print('\\n---------------------------------------------\\n')\n",
    "\n",
    "print('\\nCheck valores nulos\\n')\n",
    "print('Checking for missing values: \\n')\n",
    "print(pd.isnull(data).sum())\n",
    "print('\\n---------------------------------------------\\n')\n",
    "\n",
    "print('\\nEstatísticas\\n')\n",
    "print(data.describe())\n",
    "print('\\n---------------------------------------------\\n')\n",
    "\n",
    "print('\\nInformações do dataset\\n')\n",
    "print(data.info())\n",
    "print('\\n---------------------------------------------\\n')\n",
    "\n",
    "print('\\nCheck balanceamento da target fraud\\n')\n",
    "print(data['fraud'].value_counts())\n",
    "print('\\n---------------------------------------------\\n')"
   ]
  },
  {
   "cell_type": "markdown",
   "id": "2de6d114-61be-4a48-8eef-907744670aba",
   "metadata": {},
   "source": [
    "Observando a distribuição dos dados"
   ]
  },
  {
   "cell_type": "code",
   "execution_count": 84,
   "id": "bd2bbc27-7503-401d-bb4e-7689c446b3d8",
   "metadata": {},
   "outputs": [
    {
     "data": {
      "image/png": "[encoded data removed]",
      "text/plain": [
       "<Figure size 1440x720 with 2 Axes>"
      ]
     },
     "metadata": {
      "needs_background": "light"
     },
     "output_type": "display_data"
    }
   ],
   "source": [
    "# Quais variáveis estão mais correlacionadas com a variável target?\n",
    "plt.figure(figsize = (20,10))\n",
    "plt.title('Correlation')\n",
    "sns.heatmap(data.corr(), \n",
    "            annot = True, \n",
    "            vmin = -1, \n",
    "            cmap = 'Blues'\n",
    "           );\n",
    "plt.savefig(\"../Projeto-Integrador-III--Fraude-Cartao-Credito/img/Correlation1.png\", dpi = 600 )"
   ]
  },
  {
   "cell_type": "markdown",
   "id": "afa1c728-7c78-43f4-ab7f-8aae57526a2e",
   "metadata": {},
   "source": [
    "# Balanceamento da variável target"
   ]
  },
  {
   "cell_type": "code",
   "execution_count": 85,
   "id": "99a2067a-6a1c-4592-9bdb-d8a959e687d3",
   "metadata": {},
   "outputs": [
    {
     "data": {
      "text/plain": [
       "0.0    0.912597\n",
       "1.0    0.087403\n",
       "Name: fraud, dtype: float64"
      ]
     },
     "execution_count": 85,
     "metadata": {},
     "output_type": "execute_result"
    }
   ],
   "source": [
    "data['fraud'].value_counts(normalize = True)"
   ]
  },
  {
   "cell_type": "code",
   "execution_count": 86,
   "id": "ef6490a1-5069-498d-a222-a1ebc5267a45",
   "metadata": {},
   "outputs": [
    {
     "data": {
      "text/plain": [
       "0.0    912597\n",
       "1.0     87403\n",
       "Name: fraud, dtype: int64"
      ]
     },
     "execution_count": 86,
     "metadata": {},
     "output_type": "execute_result"
    }
   ],
   "source": [
    "data.fraud.value_counts()"
   ]
  },
  {
   "cell_type": "markdown",
   "id": "4d15612e-46ec-4a3e-aac2-a3a2ba9dd907",
   "metadata": {},
   "source": [
    "Verificamos que nesse conjunto apenas 8% dos dados são de cartões fraudados"
   ]
  },
  {
   "cell_type": "markdown",
   "id": "5e90c711-eace-4acf-bad6-7240d79a275d",
   "metadata": {},
   "source": [
    "Para resolver o problema do balanceamento vamos primeiramente criar dois datasets, um para os dados com frades e outro com dados sem fraude"
   ]
  },
  {
   "cell_type": "code",
   "execution_count": 87,
   "id": "da8810d1-34b9-4a37-9984-774a3d6aeb05",
   "metadata": {},
   "outputs": [],
   "source": [
    "no_fraud=data[data.fraud == 0]\n",
    "fraud=data[data.fraud == 1]"
   ]
  },
  {
   "cell_type": "markdown",
   "id": "da5e3360-3c13-4144-ab36-71efdc9a6942",
   "metadata": {},
   "source": [
    "Pegando uma amostra de 5000 para cada cada dataset, com fraude e sem fraude"
   ]
  },
  {
   "cell_type": "code",
   "execution_count": 88,
   "id": "b27228f4-d450-4cc8-9045-f23d844181fa",
   "metadata": {},
   "outputs": [],
   "source": [
    "dt_no_fraude_sample=no_fraud.sample(n=5000)\n",
    "dt_fraude_sample=fraud.sample(n=5000)"
   ]
  },
  {
   "cell_type": "markdown",
   "id": "309832c5-975a-4115-8889-8cf400855656",
   "metadata": {},
   "source": [
    "Criação de um novo dataset com as amostras criadas anteriormente"
   ]
  },
  {
   "cell_type": "code",
   "execution_count": 89,
   "id": "9a89c5c3-7cb6-45d9-a189-ca8a28932cb0",
   "metadata": {},
   "outputs": [],
   "source": [
    "data_fraud=pd.concat([dt_no_fraude_sample,dt_fraude_sample],axis=0)"
   ]
  },
  {
   "cell_type": "code",
   "execution_count": 90,
   "id": "2ba34efc-90d8-43ba-8912-8fbd816d3c00",
   "metadata": {},
   "outputs": [
    {
     "data": {
      "text/plain": [
       "0.0    0.5\n",
       "1.0    0.5\n",
       "Name: fraud, dtype: float64"
      ]
     },
     "execution_count": 90,
     "metadata": {},
     "output_type": "execute_result"
    }
   ],
   "source": [
    "data_fraud['fraud'].value_counts(normalize = True)"
   ]
  },
  {
   "cell_type": "code",
   "execution_count": 91,
   "id": "4a6e169e",
   "metadata": {},
   "outputs": [
    {
     "data": {
      "text/plain": [
       "(10000, 8)"
      ]
     },
     "execution_count": 91,
     "metadata": {},
     "output_type": "execute_result"
    }
   ],
   "source": [
    "data_fraud.shape"
   ]
  },
  {
   "cell_type": "code",
   "execution_count": 92,
   "id": "4f9b12c8-7eed-4f8e-b14f-0f6e663366f4",
   "metadata": {},
   "outputs": [
    {
     "data": {
      "text/html": [
       "<div>\n",
       "<style scoped>\n",
       "    .dataframe tbody tr th:only-of-type {\n",
       "        vertical-align: middle;\n",
       "    }\n",
       "\n",
       "    .dataframe tbody tr th {\n",
       "        vertical-align: top;\n",
       "    }\n",
       "\n",
       "    .dataframe thead th {\n",
       "        text-align: right;\n",
       "    }\n",
       "</style>\n",
       "<table border=\"1\" class=\"dataframe\">\n",
       "  <thead>\n",
       "    <tr style=\"text-align: right;\">\n",
       "      <th></th>\n",
       "      <th>distance_from_home</th>\n",
       "      <th>distance_from_last_transaction</th>\n",
       "      <th>ratio_to_median_purchase_price</th>\n",
       "      <th>repeat_retailer</th>\n",
       "      <th>used_chip</th>\n",
       "      <th>used_pin_number</th>\n",
       "      <th>online_order</th>\n",
       "      <th>fraud</th>\n",
       "    </tr>\n",
       "  </thead>\n",
       "  <tbody>\n",
       "    <tr>\n",
       "      <th>distance_from_home</th>\n",
       "      <td>1.000000</td>\n",
       "      <td>-0.024576</td>\n",
       "      <td>-0.083413</td>\n",
       "      <td>0.167413</td>\n",
       "      <td>-0.116635</td>\n",
       "      <td>-0.044198</td>\n",
       "      <td>0.071896</td>\n",
       "      <td>0.237706</td>\n",
       "    </tr>\n",
       "    <tr>\n",
       "      <th>distance_from_last_transaction</th>\n",
       "      <td>-0.024576</td>\n",
       "      <td>1.000000</td>\n",
       "      <td>-0.049518</td>\n",
       "      <td>-0.025021</td>\n",
       "      <td>-0.042441</td>\n",
       "      <td>-0.016363</td>\n",
       "      <td>0.032907</td>\n",
       "      <td>0.108936</td>\n",
       "    </tr>\n",
       "    <tr>\n",
       "      <th>ratio_to_median_purchase_price</th>\n",
       "      <td>-0.083413</td>\n",
       "      <td>-0.049518</td>\n",
       "      <td>1.000000</td>\n",
       "      <td>-0.045415</td>\n",
       "      <td>0.036273</td>\n",
       "      <td>-0.089465</td>\n",
       "      <td>0.140013</td>\n",
       "      <td>0.494471</td>\n",
       "    </tr>\n",
       "    <tr>\n",
       "      <th>repeat_retailer</th>\n",
       "      <td>0.167413</td>\n",
       "      <td>-0.025021</td>\n",
       "      <td>-0.045415</td>\n",
       "      <td>1.000000</td>\n",
       "      <td>0.016530</td>\n",
       "      <td>-0.001075</td>\n",
       "      <td>0.086025</td>\n",
       "      <td>-0.000630</td>\n",
       "    </tr>\n",
       "    <tr>\n",
       "      <th>used_chip</th>\n",
       "      <td>-0.116635</td>\n",
       "      <td>-0.042441</td>\n",
       "      <td>0.036273</td>\n",
       "      <td>0.016530</td>\n",
       "      <td>1.000000</td>\n",
       "      <td>0.024309</td>\n",
       "      <td>-0.024452</td>\n",
       "      <td>-0.124718</td>\n",
       "    </tr>\n",
       "    <tr>\n",
       "      <th>used_pin_number</th>\n",
       "      <td>-0.044198</td>\n",
       "      <td>-0.016363</td>\n",
       "      <td>-0.089465</td>\n",
       "      <td>-0.001075</td>\n",
       "      <td>0.024309</td>\n",
       "      <td>1.000000</td>\n",
       "      <td>-0.079621</td>\n",
       "      <td>-0.230433</td>\n",
       "    </tr>\n",
       "    <tr>\n",
       "      <th>online_order</th>\n",
       "      <td>0.071896</td>\n",
       "      <td>0.032907</td>\n",
       "      <td>0.140013</td>\n",
       "      <td>0.086025</td>\n",
       "      <td>-0.024452</td>\n",
       "      <td>-0.079621</td>\n",
       "      <td>1.000000</td>\n",
       "      <td>0.404107</td>\n",
       "    </tr>\n",
       "    <tr>\n",
       "      <th>fraud</th>\n",
       "      <td>0.237706</td>\n",
       "      <td>0.108936</td>\n",
       "      <td>0.494471</td>\n",
       "      <td>-0.000630</td>\n",
       "      <td>-0.124718</td>\n",
       "      <td>-0.230433</td>\n",
       "      <td>0.404107</td>\n",
       "      <td>1.000000</td>\n",
       "    </tr>\n",
       "  </tbody>\n",
       "</table>\n",
       "</div>"
      ],
      "text/plain": [
       "                                distance_from_home  \\\n",
       "distance_from_home                        1.000000   \n",
       "distance_from_last_transaction           -0.024576   \n",
       "ratio_to_median_purchase_price           -0.083413   \n",
       "repeat_retailer                           0.167413   \n",
       "used_chip                                -0.116635   \n",
       "used_pin_number                          -0.044198   \n",
       "online_order                              0.071896   \n",
       "fraud                                     0.237706   \n",
       "\n",
       "                                distance_from_last_transaction  \\\n",
       "distance_from_home                                   -0.024576   \n",
       "distance_from_last_transaction                        1.000000   \n",
       "ratio_to_median_purchase_price                       -0.049518   \n",
       "repeat_retailer                                      -0.025021   \n",
       "used_chip                                            -0.042441   \n",
       "used_pin_number                                      -0.016363   \n",
       "online_order                                          0.032907   \n",
       "fraud                                                 0.108936   \n",
       "\n",
       "                                ratio_to_median_purchase_price  \\\n",
       "distance_from_home                                   -0.083413   \n",
       "distance_from_last_transaction                       -0.049518   \n",
       "ratio_to_median_purchase_price                        1.000000   \n",
       "repeat_retailer                                      -0.045415   \n",
       "used_chip                                             0.036273   \n",
       "used_pin_number                                      -0.089465   \n",
       "online_order                                          0.140013   \n",
       "fraud                                                 0.494471   \n",
       "\n",
       "                                repeat_retailer  used_chip  used_pin_number  \\\n",
       "distance_from_home                     0.167413  -0.116635        -0.044198   \n",
       "distance_from_last_transaction        -0.025021  -0.042441        -0.016363   \n",
       "ratio_to_median_purchase_price        -0.045415   0.036273        -0.089465   \n",
       "repeat_retailer                        1.000000   0.016530        -0.001075   \n",
       "used_chip                              0.016530   1.000000         0.024309   \n",
       "used_pin_number                       -0.001075   0.024309         1.000000   \n",
       "online_order                           0.086025  -0.024452        -0.079621   \n",
       "fraud                                 -0.000630  -0.124718        -0.230433   \n",
       "\n",
       "                                online_order     fraud  \n",
       "distance_from_home                  0.071896  0.237706  \n",
       "distance_from_last_transaction      0.032907  0.108936  \n",
       "ratio_to_median_purchase_price      0.140013  0.494471  \n",
       "repeat_retailer                     0.086025 -0.000630  \n",
       "used_chip                          -0.024452 -0.124718  \n",
       "used_pin_number                    -0.079621 -0.230433  \n",
       "online_order                        1.000000  0.404107  \n",
       "fraud                               0.404107  1.000000  "
      ]
     },
     "execution_count": 92,
     "metadata": {},
     "output_type": "execute_result"
    }
   ],
   "source": [
    "data_fraud.corr()"
   ]
  },
  {
   "cell_type": "code",
   "execution_count": 93,
   "id": "c75c08aa-c012-40c8-b6f5-a055f7814aab",
   "metadata": {},
   "outputs": [
    {
     "data": {
      "image/png": "[encoded data removed]",
      "text/plain": [
       "<Figure size 576x864 with 2 Axes>"
      ]
     },
     "metadata": {
      "needs_background": "light"
     },
     "output_type": "display_data"
    }
   ],
   "source": [
    "plt.figure(figsize = (8,12))\n",
    "plt.title('Correlation')\n",
    "sns.heatmap(data_fraud.corr()[['fraud']], \n",
    "            annot = True\n",
    "           );\n",
    "plt.savefig(\"../Projeto-Integrador-III--Fraude-Cartao-Credito/img/Correlation2.png\", dpi = 600 )"
   ]
  },
  {
   "cell_type": "markdown",
   "id": "0b0e08e5-6e66-418a-a4e8-7383f29cc80d",
   "metadata": {},
   "source": [
    "Observando a distribuição dos dados"
   ]
  },
  {
   "cell_type": "code",
   "execution_count": 94,
   "id": "7a54fada-89dc-4d69-990f-7cf844e3a374",
   "metadata": {},
   "outputs": [],
   "source": [
    "#sns.pairplot(data_fraud, \n",
    "#            hue = 'fraud'\n",
    "#             );"
   ]
  },
  {
   "cell_type": "markdown",
   "id": "62e820e6-89bd-4a9d-bdcb-315c6a7ae7cb",
   "metadata": {},
   "source": [
    "# Criação de uma lista vazia para armazenar as métricas dos modelos"
   ]
  },
  {
   "cell_type": "code",
   "execution_count": 95,
   "id": "e8d233c4-df62-422c-b5af-44f95f8d6cee",
   "metadata": {},
   "outputs": [],
   "source": [
    "data_all=[]"
   ]
  },
  {
   "cell_type": "markdown",
   "id": "4714a785-190f-495e-a497-93b93615429d",
   "metadata": {},
   "source": [
    "# Definição das matriz features, variável varget"
   ]
  },
  {
   "cell_type": "markdown",
   "id": "e5fd2d73-c8f7-42e7-ba27-3eb2af4ae48e",
   "metadata": {},
   "source": [
    "Definindo a matriz de features e a variável target"
   ]
  },
  {
   "cell_type": "code",
   "execution_count": 96,
   "id": "2007bba7-2ba3-4f32-9198-3407f7175bfd",
   "metadata": {},
   "outputs": [],
   "source": [
    "X = data_fraud.drop(columns=['fraud'],axis=1)\n",
    "y = data_fraud[\"fraud\"]"
   ]
  },
  {
   "cell_type": "markdown",
   "id": "3b7e6882-350c-47c5-9f70-988cb855afaa",
   "metadata": {},
   "source": [
    "# Split do dataset de treino e de teste"
   ]
  },
  {
   "cell_type": "code",
   "execution_count": 97,
   "id": "f5e77529-5854-4341-8089-cf6c3c720d94",
   "metadata": {},
   "outputs": [],
   "source": [
    "X_train, X_test, y_train, y_test = train_test_split(X,y, stratify=y, random_state=12)"
   ]
  },
  {
   "cell_type": "markdown",
   "id": "08da24c8-b3fa-4e77-8501-e2b48377dfaf",
   "metadata": {
    "tags": []
   },
   "source": [
    "Padronização das features do modelos de treino e de teste"
   ]
  },
  {
   "cell_type": "code",
   "execution_count": 98,
   "id": "e16e179f-395a-446d-a359-b5c692fb6bfb",
   "metadata": {},
   "outputs": [],
   "source": [
    "scaler = StandardScaler()\n",
    "X_train_std = scaler.fit_transform(X_train)\n",
    "X_test_std = scaler.transform(X_test)"
   ]
  },
  {
   "cell_type": "markdown",
   "id": "56d67a1b-35aa-4714-b65b-e7623c6ba148",
   "metadata": {},
   "source": [
    "# Modelo 1: Regressão Logística"
   ]
  },
  {
   "cell_type": "markdown",
   "id": "7198f1ac-f38a-40de-8830-fe9eb610efe3",
   "metadata": {},
   "source": [
    "Instanciando um objeto da classe LogisticRegression"
   ]
  },
  {
   "cell_type": "code",
   "execution_count": 99,
   "id": "1c567eda-7c55-4fbd-9b92-a2677e116132",
   "metadata": {},
   "outputs": [],
   "source": [
    "lr = LogisticRegression()"
   ]
  },
  {
   "cell_type": "markdown",
   "id": "940dddb3-1d99-4626-b928-08f40f521d23",
   "metadata": {},
   "source": [
    "Ajuste do modelo"
   ]
  },
  {
   "cell_type": "code",
   "execution_count": 100,
   "id": "db8f47db-a2af-46da-8b6a-b9c88fb3f947",
   "metadata": {},
   "outputs": [
    {
     "data": {
      "text/html": [
       "<style>#sk-container-id-4 {color: black;background-color: white;}#sk-container-id-4 pre{padding: 0;}#sk-container-id-4 div.sk-toggleable {background-color: white;}#sk-container-id-4 label.sk-toggleable__label {cursor: pointer;display: block;width: 100%;margin-bottom: 0;padding: 0.3em;box-sizing: border-box;text-align: center;}#sk-container-id-4 label.sk-toggleable__label-arrow:before {content: \"▸\";float: left;margin-right: 0.25em;color: #696969;}#sk-container-id-4 label.sk-toggleable__label-arrow:hover:before {color: black;}#sk-container-id-4 div.sk-estimator:hover label.sk-toggleable__label-arrow:before {color: black;}#sk-container-id-4 div.sk-toggleable__content {max-height: 0;max-width: 0;overflow: hidden;text-align: left;background-color: #f0f8ff;}#sk-container-id-4 div.sk-toggleable__content pre {margin: 0.2em;color: black;border-radius: 0.25em;background-color: #f0f8ff;}#sk-container-id-4 input.sk-toggleable__control:checked~div.sk-toggleable__content {max-height: 200px;max-width: 100%;overflow: auto;}#sk-container-id-4 input.sk-toggleable__control:checked~label.sk-toggleable__label-arrow:before {content: \"▾\";}#sk-container-id-4 div.sk-estimator input.sk-toggleable__control:checked~label.sk-toggleable__label {background-color: #d4ebff;}#sk-container-id-4 div.sk-label input.sk-toggleable__control:checked~label.sk-toggleable__label {background-color: #d4ebff;}#sk-container-id-4 input.sk-hidden--visually {border: 0;clip: rect(1px 1px 1px 1px);clip: rect(1px, 1px, 1px, 1px);height: 1px;margin: -1px;overflow: hidden;padding: 0;position: absolute;width: 1px;}#sk-container-id-4 div.sk-estimator {font-family: monospace;background-color: #f0f8ff;border: 1px dotted black;border-radius: 0.25em;box-sizing: border-box;margin-bottom: 0.5em;}#sk-container-id-4 div.sk-estimator:hover {background-color: #d4ebff;}#sk-container-id-4 div.sk-parallel-item::after {content: \"\";width: 100%;border-bottom: 1px solid gray;flex-grow: 1;}#sk-container-id-4 div.sk-label:hover label.sk-toggleable__label {background-color: #d4ebff;}#sk-container-id-4 div.sk-serial::before {content: \"\";position: absolute;border-left: 1px solid gray;box-sizing: border-box;top: 0;bottom: 0;left: 50%;z-index: 0;}#sk-container-id-4 div.sk-serial {display: flex;flex-direction: column;align-items: center;background-color: white;padding-right: 0.2em;padding-left: 0.2em;position: relative;}#sk-container-id-4 div.sk-item {position: relative;z-index: 1;}#sk-container-id-4 div.sk-parallel {display: flex;align-items: stretch;justify-content: center;background-color: white;position: relative;}#sk-container-id-4 div.sk-item::before, #sk-container-id-4 div.sk-parallel-item::before {content: \"\";position: absolute;border-left: 1px solid gray;box-sizing: border-box;top: 0;bottom: 0;left: 50%;z-index: -1;}#sk-container-id-4 div.sk-parallel-item {display: flex;flex-direction: column;z-index: 1;position: relative;background-color: white;}#sk-container-id-4 div.sk-parallel-item:first-child::after {align-self: flex-end;width: 50%;}#sk-container-id-4 div.sk-parallel-item:last-child::after {align-self: flex-start;width: 50%;}#sk-container-id-4 div.sk-parallel-item:only-child::after {width: 0;}#sk-container-id-4 div.sk-dashed-wrapped {border: 1px dashed gray;margin: 0 0.4em 0.5em 0.4em;box-sizing: border-box;padding-bottom: 0.4em;background-color: white;}#sk-container-id-4 div.sk-label label {font-family: monospace;font-weight: bold;display: inline-block;line-height: 1.2em;}#sk-container-id-4 div.sk-label-container {text-align: center;}#sk-container-id-4 div.sk-container {/* jupyter's `normalize.less` sets `[hidden] { display: none; }` but bootstrap.min.css set `[hidden] { display: none !important; }` so we also need the `!important` here to be able to override the default hidden behavior on the sphinx rendered scikit-learn.org. See: https://github.com/scikit-learn/scikit-learn/issues/21755 */display: inline-block !important;position: relative;}#sk-container-id-4 div.sk-text-repr-fallback {display: none;}</style><div id=\"sk-container-id-4\" class=\"sk-top-container\"><div class=\"sk-text-repr-fallback\"><pre>LogisticRegression()</pre><b>In a Jupyter environment, please rerun this cell to show the HTML representation or trust the notebook. <br />On GitHub, the HTML representation is unable to render, please try loading this page with nbviewer.org.</b></div><div class=\"sk-container\" hidden><div class=\"sk-item\"><div class=\"sk-estimator sk-toggleable\"><input class=\"sk-toggleable__control sk-hidden--visually\" id=\"sk-estimator-id-4\" type=\"checkbox\" checked><label for=\"sk-estimator-id-4\" class=\"sk-toggleable__label sk-toggleable__label-arrow\">LogisticRegression</label><div class=\"sk-toggleable__content\"><pre>LogisticRegression()</pre></div></div></div></div></div>"
      ],
      "text/plain": [
       "LogisticRegression()"
      ]
     },
     "execution_count": 100,
     "metadata": {},
     "output_type": "execute_result"
    }
   ],
   "source": [
    "lr.fit(X_train_std, y_train)"
   ]
  },
  {
   "cell_type": "markdown",
   "id": "a5ec6dc5-2db0-4fa6-b987-a119a7c1bc2b",
   "metadata": {},
   "source": [
    "Visualização dos coeficientes"
   ]
  },
  {
   "cell_type": "code",
   "execution_count": 101,
   "id": "a72ceba4-f2de-400d-86fc-1032939336d5",
   "metadata": {},
   "outputs": [
    {
     "name": "stdout",
     "output_type": "stream",
     "text": [
      "[[ 2.79764052  1.89942964  5.44194441 -0.43396925 -0.60586954 -2.34735524\n",
      "   2.12915359]]\n",
      "[0.22712885]\n"
     ]
    }
   ],
   "source": [
    "print(lr.coef_)\n",
    "print(lr.intercept_)"
   ]
  },
  {
   "cell_type": "markdown",
   "id": "7ff82ad3-f004-4b58-b697-e86face76808",
   "metadata": {},
   "source": [
    "Previsão da acurácia com o modelo treinado"
   ]
  },
  {
   "cell_type": "code",
   "execution_count": 102,
   "id": "07a9a067-871b-4cc9-b63b-82fe65bb489c",
   "metadata": {},
   "outputs": [
    {
     "name": "stdout",
     "output_type": "stream",
     "text": [
      "Score train:  0.9461333333333334\n"
     ]
    }
   ],
   "source": [
    "score_train_lr = accuracy_score(y_train, lr.predict(X_train_std))\n",
    "print('Score train: ', score_train_lr)"
   ]
  },
  {
   "cell_type": "markdown",
   "id": "b60f87de-01c5-45af-9d74-46823752a94b",
   "metadata": {},
   "source": [
    "Matriz de confusão do modelo de treino"
   ]
  },
  {
   "cell_type": "code",
   "execution_count": 103,
   "id": "d8feb701-6a50-4ba7-9c78-9580d51876b9",
   "metadata": {},
   "outputs": [
    {
     "data": {
      "image/png": "[encoded data removed]",
      "text/plain": [
       "<Figure size 432x288 with 2 Axes>"
      ]
     },
     "metadata": {
      "needs_background": "light"
     },
     "output_type": "display_data"
    }
   ],
   "source": [
    "sns.heatmap(confusion_matrix(y_train, lr.predict(X_train_std)), \n",
    "            annot = True, \n",
    "            fmt = '4d'\n",
    "           )\n",
    "\n",
    "plt.title('Confusion Matrix Logistic Regression - Train')\n",
    "plt.xlabel('Predict')\n",
    "plt.ylabel('Real');\n",
    "plt.savefig(\"../Projeto-Integrador-III--Fraude-Cartao-Credito/img/confusion-LR-Train.png\", dpi = 600 )"
   ]
  },
  {
   "cell_type": "markdown",
   "id": "e318e44f-b724-4d85-8f12-17f419ce7644",
   "metadata": {},
   "source": [
    "Observamos que há uma acurácia de 94%, dos 3750 casos positivos de fraud 3588 foram fraudes verdadeiras. Isso implica que nosso classificador está dizendo 95% das detecções de fraudes são positivas."
   ]
  },
  {
   "cell_type": "markdown",
   "id": "2a1d2ca4-a95c-402f-a82e-680f9caa0498",
   "metadata": {},
   "source": [
    "Previsão da acurácia com o modelo de teste"
   ]
  },
  {
   "cell_type": "code",
   "execution_count": 104,
   "id": "57c1d141-f074-4089-bdd7-be1eaae78aeb",
   "metadata": {},
   "outputs": [],
   "source": [
    "y_test_pred_lr = lr.predict(X_test_std)"
   ]
  },
  {
   "cell_type": "markdown",
   "id": "e0d47df8-5fa9-44dd-8b22-0e9b2345c59a",
   "metadata": {},
   "source": [
    "Acurácia do modelo de teste"
   ]
  },
  {
   "cell_type": "code",
   "execution_count": 105,
   "id": "4334dcbe-cb06-4652-9206-b26961bbb251",
   "metadata": {},
   "outputs": [
    {
     "name": "stdout",
     "output_type": "stream",
     "text": [
      "Score test:  0.9424\n"
     ]
    }
   ],
   "source": [
    "score_test_lr = accuracy_score(y_test, y_test_pred_lr)\n",
    "print('Score test: ', score_test_lr)"
   ]
  },
  {
   "cell_type": "markdown",
   "id": "6d60ae2c-66f9-42a9-b298-55622c08fdf0",
   "metadata": {},
   "source": [
    "Matriz de confusão do modelo de teste"
   ]
  },
  {
   "cell_type": "code",
   "execution_count": 106,
   "id": "0321ca02-e3e1-4112-8e77-f9f80f1808f5",
   "metadata": {
    "tags": []
   },
   "outputs": [
    {
     "data": {
      "image/png": "[encoded data removed]",
      "text/plain": [
       "<Figure size 432x288 with 2 Axes>"
      ]
     },
     "metadata": {
      "needs_background": "light"
     },
     "output_type": "display_data"
    }
   ],
   "source": [
    "sns.heatmap(confusion_matrix(y_test, lr.predict(X_test_std)), \n",
    "            annot = True, \n",
    "            fmt = '4d'\n",
    "           )\n",
    "\n",
    "plt.title('Confusion Matrix Logistic Regression - Test')\n",
    "plt.xlabel('Predict')\n",
    "plt.ylabel('Real');\n",
    "plt.savefig(\"../Projeto-Integrador-III--Fraude-Cartao-Credito/img/confusion-LR-test.png\", dpi = 600 )"
   ]
  },
  {
   "cell_type": "markdown",
   "id": "2e859d87-ca24-4cb5-9deb-fb1eef3c7aa5",
   "metadata": {},
   "source": [
    "Observamos que há uma acurácia de 94%, dos 1250 casos positivos de fraud 1188 foram fraudes verdadeiras. Isso implica que nosso classificador está dizendo 95% das detecções de fraudes são positivas."
   ]
  },
  {
   "cell_type": "markdown",
   "id": "ed26ad0d-3720-4b70-aef5-09fb9a3946cb",
   "metadata": {},
   "source": [
    "Métricas do modelo de teste"
   ]
  },
  {
   "cell_type": "code",
   "execution_count": 107,
   "id": "6f3bf1e4-4288-4619-b863-3d6d10bd5cfa",
   "metadata": {},
   "outputs": [
    {
     "name": "stdout",
     "output_type": "stream",
     "text": [
      "Classification Report:\n",
      "----------------------\n",
      "               precision    recall  f1-score   support\n",
      "\n",
      "  No Fraud 0       0.95      0.93      0.94      1250\n",
      "     Fraud 1       0.93      0.95      0.94      1250\n",
      "\n",
      "    accuracy                           0.94      2500\n",
      "   macro avg       0.94      0.94      0.94      2500\n",
      "weighted avg       0.94      0.94      0.94      2500\n",
      "\n"
     ]
    }
   ],
   "source": [
    "target_names=['No Fraud 0', 'Fraud 1']\n",
    "report_class = classification_report(y_test, y_test_pred_lr, target_names=target_names)\n",
    "print(\"Classification Report:\\n----------------------\\n\", report_class)"
   ]
  },
  {
   "cell_type": "markdown",
   "id": "399331de-fa55-4b69-bf30-d7febe192f86",
   "metadata": {},
   "source": [
    "Inserindo as métricas na lista para armazenamento"
   ]
  },
  {
   "cell_type": "code",
   "execution_count": 108,
   "id": "abf72c9d-e98d-45fa-8c41-6a556b545caf",
   "metadata": {},
   "outputs": [],
   "source": [
    "m='Logistic Regression'\n",
    "test_recall_lr = recall_score(y_test, y_test_pred_lr, pos_label=1)\n",
    "fpr_lr, tpr_lr, thresholds = roc_curve(y_test, y_test_pred_lr, pos_label=1)\n",
    "test_auc_lr = auc(fpr_lr,tpr_lr)\n",
    "f1_score_lr = f1_score(y_test, y_test_pred_lr)\n",
    "data_all.append([m,score_train_lr,score_test_lr,test_recall_lr,test_auc_lr,f1_score_lr])"
   ]
  },
  {
   "cell_type": "markdown",
   "id": "af0550b0-cf56-4d70-8209-3ec22b02bd68",
   "metadata": {},
   "source": [
    "# Modelo 2: Randon Forest"
   ]
  },
  {
   "cell_type": "markdown",
   "id": "aceb6509-d6c5-4d3d-9237-9ba1eeb488ae",
   "metadata": {},
   "source": [
    "Instanciando a classe Randon Forest"
   ]
  },
  {
   "cell_type": "code",
   "execution_count": 109,
   "id": "cdd09fa5-232e-4011-af82-f2b71c15152e",
   "metadata": {},
   "outputs": [],
   "source": [
    "rf=RandomForestClassifier()"
   ]
  },
  {
   "cell_type": "markdown",
   "id": "fb91dc72-856b-4eb7-9302-7439a24d30b3",
   "metadata": {},
   "source": [
    "Treino do modelo usando os conjuntos de treinamento y_pred=clf.predict(X_test)"
   ]
  },
  {
   "cell_type": "code",
   "execution_count": 110,
   "id": "c527a47f-77fd-4f23-9c35-bbefac0614ab",
   "metadata": {},
   "outputs": [
    {
     "data": {
      "text/html": [
       "<style>#sk-container-id-5 {color: black;background-color: white;}#sk-container-id-5 pre{padding: 0;}#sk-container-id-5 div.sk-toggleable {background-color: white;}#sk-container-id-5 label.sk-toggleable__label {cursor: pointer;display: block;width: 100%;margin-bottom: 0;padding: 0.3em;box-sizing: border-box;text-align: center;}#sk-container-id-5 label.sk-toggleable__label-arrow:before {content: \"▸\";float: left;margin-right: 0.25em;color: #696969;}#sk-container-id-5 label.sk-toggleable__label-arrow:hover:before {color: black;}#sk-container-id-5 div.sk-estimator:hover label.sk-toggleable__label-arrow:before {color: black;}#sk-container-id-5 div.sk-toggleable__content {max-height: 0;max-width: 0;overflow: hidden;text-align: left;background-color: #f0f8ff;}#sk-container-id-5 div.sk-toggleable__content pre {margin: 0.2em;color: black;border-radius: 0.25em;background-color: #f0f8ff;}#sk-container-id-5 input.sk-toggleable__control:checked~div.sk-toggleable__content {max-height: 200px;max-width: 100%;overflow: auto;}#sk-container-id-5 input.sk-toggleable__control:checked~label.sk-toggleable__label-arrow:before {content: \"▾\";}#sk-container-id-5 div.sk-estimator input.sk-toggleable__control:checked~label.sk-toggleable__label {background-color: #d4ebff;}#sk-container-id-5 div.sk-label input.sk-toggleable__control:checked~label.sk-toggleable__label {background-color: #d4ebff;}#sk-container-id-5 input.sk-hidden--visually {border: 0;clip: rect(1px 1px 1px 1px);clip: rect(1px, 1px, 1px, 1px);height: 1px;margin: -1px;overflow: hidden;padding: 0;position: absolute;width: 1px;}#sk-container-id-5 div.sk-estimator {font-family: monospace;background-color: #f0f8ff;border: 1px dotted black;border-radius: 0.25em;box-sizing: border-box;margin-bottom: 0.5em;}#sk-container-id-5 div.sk-estimator:hover {background-color: #d4ebff;}#sk-container-id-5 div.sk-parallel-item::after {content: \"\";width: 100%;border-bottom: 1px solid gray;flex-grow: 1;}#sk-container-id-5 div.sk-label:hover label.sk-toggleable__label {background-color: #d4ebff;}#sk-container-id-5 div.sk-serial::before {content: \"\";position: absolute;border-left: 1px solid gray;box-sizing: border-box;top: 0;bottom: 0;left: 50%;z-index: 0;}#sk-container-id-5 div.sk-serial {display: flex;flex-direction: column;align-items: center;background-color: white;padding-right: 0.2em;padding-left: 0.2em;position: relative;}#sk-container-id-5 div.sk-item {position: relative;z-index: 1;}#sk-container-id-5 div.sk-parallel {display: flex;align-items: stretch;justify-content: center;background-color: white;position: relative;}#sk-container-id-5 div.sk-item::before, #sk-container-id-5 div.sk-parallel-item::before {content: \"\";position: absolute;border-left: 1px solid gray;box-sizing: border-box;top: 0;bottom: 0;left: 50%;z-index: -1;}#sk-container-id-5 div.sk-parallel-item {display: flex;flex-direction: column;z-index: 1;position: relative;background-color: white;}#sk-container-id-5 div.sk-parallel-item:first-child::after {align-self: flex-end;width: 50%;}#sk-container-id-5 div.sk-parallel-item:last-child::after {align-self: flex-start;width: 50%;}#sk-container-id-5 div.sk-parallel-item:only-child::after {width: 0;}#sk-container-id-5 div.sk-dashed-wrapped {border: 1px dashed gray;margin: 0 0.4em 0.5em 0.4em;box-sizing: border-box;padding-bottom: 0.4em;background-color: white;}#sk-container-id-5 div.sk-label label {font-family: monospace;font-weight: bold;display: inline-block;line-height: 1.2em;}#sk-container-id-5 div.sk-label-container {text-align: center;}#sk-container-id-5 div.sk-container {/* jupyter's `normalize.less` sets `[hidden] { display: none; }` but bootstrap.min.css set `[hidden] { display: none !important; }` so we also need the `!important` here to be able to override the default hidden behavior on the sphinx rendered scikit-learn.org. See: https://github.com/scikit-learn/scikit-learn/issues/21755 */display: inline-block !important;position: relative;}#sk-container-id-5 div.sk-text-repr-fallback {display: none;}</style><div id=\"sk-container-id-5\" class=\"sk-top-container\"><div class=\"sk-text-repr-fallback\"><pre>RandomForestClassifier()</pre><b>In a Jupyter environment, please rerun this cell to show the HTML representation or trust the notebook. <br />On GitHub, the HTML representation is unable to render, please try loading this page with nbviewer.org.</b></div><div class=\"sk-container\" hidden><div class=\"sk-item\"><div class=\"sk-estimator sk-toggleable\"><input class=\"sk-toggleable__control sk-hidden--visually\" id=\"sk-estimator-id-5\" type=\"checkbox\" checked><label for=\"sk-estimator-id-5\" class=\"sk-toggleable__label sk-toggleable__label-arrow\">RandomForestClassifier</label><div class=\"sk-toggleable__content\"><pre>RandomForestClassifier()</pre></div></div></div></div></div>"
      ],
      "text/plain": [
       "RandomForestClassifier()"
      ]
     },
     "execution_count": 110,
     "metadata": {},
     "output_type": "execute_result"
    }
   ],
   "source": [
    "rf.fit(X_train_std, y_train)"
   ]
  },
  {
   "cell_type": "markdown",
   "id": "ef065c99-4f8d-4c4f-a35a-41acb36c1349",
   "metadata": {},
   "source": [
    "Previsão da acurácia com o modelo de teste"
   ]
  },
  {
   "cell_type": "code",
   "execution_count": 111,
   "id": "aa2278a3-b346-4736-ad9e-8dc269f94713",
   "metadata": {},
   "outputs": [
    {
     "name": "stdout",
     "output_type": "stream",
     "text": [
      "Score train:  1.0\n"
     ]
    }
   ],
   "source": [
    "score_train_rf = accuracy_score(y_train, rf.predict(X_train_std))\n",
    "print('Score train: ', score_train_rf)"
   ]
  },
  {
   "cell_type": "markdown",
   "id": "73da44ac-9e83-4331-a25c-cdfa8a90bd21",
   "metadata": {},
   "source": [
    "Atribuindo A variável y_test_pred a previsão"
   ]
  },
  {
   "cell_type": "code",
   "execution_count": 112,
   "id": "b7cc0e1b-9b31-474f-8031-466a0c857595",
   "metadata": {},
   "outputs": [],
   "source": [
    "y_test_pred_rf = rf.predict(X_test_std)"
   ]
  },
  {
   "cell_type": "markdown",
   "id": "74929443-ca3b-4182-8b27-40dfbed85fcc",
   "metadata": {},
   "source": [
    "Atribuindo a variável score_test a acurácia"
   ]
  },
  {
   "cell_type": "code",
   "execution_count": 113,
   "id": "2c73e251-9ad6-4148-9816-04456a6c3561",
   "metadata": {},
   "outputs": [
    {
     "name": "stdout",
     "output_type": "stream",
     "text": [
      "Score test:  0.9984\n"
     ]
    }
   ],
   "source": [
    "score_test_rf = accuracy_score(y_test, y_test_pred_rf)\n",
    "print('Score test: ', score_test_rf)"
   ]
  },
  {
   "cell_type": "markdown",
   "id": "d2aca1c4-6150-479a-9103-2a4bd8426848",
   "metadata": {},
   "source": [
    "Matriz de confusão do modelo de treino"
   ]
  },
  {
   "cell_type": "code",
   "execution_count": 114,
   "id": "15e74e5f-9827-4da4-8ce7-d06a6230c9f7",
   "metadata": {},
   "outputs": [
    {
     "data": {
      "image/png": "[encoded data removed]",
      "text/plain": [
       "<Figure size 432x288 with 2 Axes>"
      ]
     },
     "metadata": {
      "needs_background": "light"
     },
     "output_type": "display_data"
    }
   ],
   "source": [
    "sns.heatmap(confusion_matrix(y_train, rf.predict(X_train_std)), \n",
    "            annot = True, \n",
    "            fmt = '4d'\n",
    "           )\n",
    "\n",
    "plt.title('Confusion Matrix Randon Forest - Train')\n",
    "plt.xlabel('Predict')\n",
    "plt.ylabel('Real');\n",
    "plt.savefig(\"../Projeto-Integrador-III--Fraude-Cartao-Credito/img/confusion-RF-train.png\", dpi = 600 )"
   ]
  },
  {
   "cell_type": "markdown",
   "id": "2116d66b-0340-48fd-9b47-6356c9bd149d",
   "metadata": {},
   "source": [
    "Matriz de confusão do modelo de teste"
   ]
  },
  {
   "cell_type": "code",
   "execution_count": 115,
   "id": "436c74e7-9fdf-4b37-ae25-0b1a59637faf",
   "metadata": {},
   "outputs": [
    {
     "data": {
      "image/png": "[encoded data removed]",
      "text/plain": [
       "<Figure size 432x288 with 2 Axes>"
      ]
     },
     "metadata": {
      "needs_background": "light"
     },
     "output_type": "display_data"
    }
   ],
   "source": [
    "sns.heatmap(confusion_matrix(y_test, rf.predict(X_test_std)), \n",
    "            annot = True, \n",
    "            fmt = '4d'\n",
    "           )\n",
    "\n",
    "plt.title('Confusion Matrix Randon Forest - Test')\n",
    "plt.xlabel('Predict')\n",
    "plt.ylabel('Real');\n",
    "plt.savefig(\"../Projeto-Integrador-III--Fraude-Cartao-Credito/img/confusion-RF-test.png\", dpi = 600 )"
   ]
  },
  {
   "cell_type": "markdown",
   "id": "ded4a69c-ecad-406f-a9b4-b517b1d0cc48",
   "metadata": {},
   "source": [
    "Observando as métricas"
   ]
  },
  {
   "cell_type": "code",
   "execution_count": 116,
   "id": "095e0d90-818a-4dd5-b54b-7a2f0b599799",
   "metadata": {},
   "outputs": [
    {
     "name": "stdout",
     "output_type": "stream",
     "text": [
      "Classification Report:\n",
      "----------------------\n",
      "               precision    recall  f1-score   support\n",
      "\n",
      "  No Fraud 0       1.00      1.00      1.00      1250\n",
      "     Fraud 1       1.00      1.00      1.00      1250\n",
      "\n",
      "    accuracy                           1.00      2500\n",
      "   macro avg       1.00      1.00      1.00      2500\n",
      "weighted avg       1.00      1.00      1.00      2500\n",
      "\n"
     ]
    }
   ],
   "source": [
    "target_names=['No Fraud 0', 'Fraud 1']\n",
    "report_class = classification_report(y_test, y_test_pred_rf, target_names=target_names)\n",
    "print(\"Classification Report:\\n----------------------\\n\", report_class)"
   ]
  },
  {
   "cell_type": "markdown",
   "id": "6871d281-0929-4208-8481-c7d01497222d",
   "metadata": {},
   "source": [
    "Inserindo as métricas na lista para armazenamento"
   ]
  },
  {
   "cell_type": "code",
   "execution_count": 117,
   "id": "1a0f9891-49b7-473b-85ed-643f450404fa",
   "metadata": {},
   "outputs": [],
   "source": [
    "m='Randon Forest'\n",
    "test_recall_rf = recall_score(y_test, y_test_pred_rf, pos_label=1)\n",
    "fpr_rf, tpr_rf, thresholds = roc_curve(y_test, y_test_pred_rf, pos_label=1)\n",
    "test_auc_rf = auc(fpr_rf,tpr_rf)\n",
    "f1_score_rf = f1_score(y_test, y_test_pred_rf)\n",
    "data_all.append([m,score_train_rf,score_test_rf,test_recall_rf,test_auc_rf,f1_score_rf])"
   ]
  },
  {
   "cell_type": "markdown",
   "id": "ec34f1c2",
   "metadata": {},
   "source": [
    "# Modelo 3: KNeighborsRegressor"
   ]
  },
  {
   "cell_type": "markdown",
   "id": "f484d622",
   "metadata": {},
   "source": [
    "Escolha da escolher metrica (Euclidean,  Manhattan ou Chebyshev)\n",
    "Escolher com quantos vizinhos a quantidade de vizinhos próximos pelo modelo de validação cruzada."
   ]
  },
  {
   "cell_type": "code",
   "execution_count": 118,
   "id": "1efccb5a-130e-45a3-adbb-8659d0b70d36",
   "metadata": {},
   "outputs": [],
   "source": [
    "# Usamos cross validation co, 5 folds\n",
    "kf = KFold(n_splits = 5, shuffle = True, random_state = 12)\n",
    "scores_para_df = []\n",
    "for i in range(1, 26):\n",
    "# Em cada iteração, instanciamos o modelo com um hiperparâmetro diferente\n",
    "    model_euclidean = KNeighborsClassifier(metric = 'euclidean', n_neighbors = i)\n",
    "    model_manhattan = KNeighborsClassifier(metric = 'manhattan', n_neighbors = i)\n",
    "    model_chebyshev = KNeighborsClassifier(metric = 'chebyshev', n_neighbors = i)\n",
    "# cross_val_scores retorna uma matriz de 5 resultados,\n",
    "# um para cada partição que automaticamente criou CV\n",
    "    cv_scores = cross_val_score(model_euclidean, X_train_std, y_train, cv = kf)\n",
    "    cv_scores2 = cross_val_score(model_manhattan, X_train_std, y_train, cv = kf)\n",
    "    cv_scores3 = cross_val_score(model_chebyshev, X_train_std, y_train, cv = kf)\n",
    "# Para cada valor de n_neighbours, criamos um dicionário com o valor\n",
    "# de n_neighbours e a média das pontuações\n",
    "    dict_row_score = { 'n_neighbors': i, 'euclidean': np.mean(cv_scores),'manhattan': np.mean(cv_scores2),'chebyshev': np.mean(cv_scores3)}\n",
    "\n",
    "# Salvamos cada um na lista definida fora do loop\n",
    "    scores_para_df.append(dict_row_score)"
   ]
  },
  {
   "cell_type": "markdown",
   "id": "810527b1",
   "metadata": {},
   "source": [
    "De acordo com os vizinhos próximos as 3 melhores accuracy das metricas estão grifadas em amarelo"
   ]
  },
  {
   "cell_type": "code",
   "execution_count": 119,
   "id": "943ddafe-a8cd-41ba-a1c2-c8e85715fa2e",
   "metadata": {},
   "outputs": [],
   "source": [
    "df_scores = pd.DataFrame(scores_para_df)"
   ]
  },
  {
   "cell_type": "code",
   "execution_count": 120,
   "id": "dd05a37f",
   "metadata": {},
   "outputs": [
    {
     "data": {
      "text/html": [
       "<style type=\"text/css\">\n",
       "#T_2a4a4_row0_col1, #T_2a4a4_row0_col2, #T_2a4a4_row0_col3 {\n",
       "  background-color: yellow;\n",
       "}\n",
       "</style>\n",
       "<table id=\"T_2a4a4\">\n",
       "  <thead>\n",
       "    <tr>\n",
       "      <th class=\"blank level0\" >&nbsp;</th>\n",
       "      <th id=\"T_2a4a4_level0_col0\" class=\"col_heading level0 col0\" >n_neighbors</th>\n",
       "      <th id=\"T_2a4a4_level0_col1\" class=\"col_heading level0 col1\" >euclidean</th>\n",
       "      <th id=\"T_2a4a4_level0_col2\" class=\"col_heading level0 col2\" >manhattan</th>\n",
       "      <th id=\"T_2a4a4_level0_col3\" class=\"col_heading level0 col3\" >chebyshev</th>\n",
       "    </tr>\n",
       "  </thead>\n",
       "  <tbody>\n",
       "    <tr>\n",
       "      <th id=\"T_2a4a4_level0_row0\" class=\"row_heading level0 row0\" >0</th>\n",
       "      <td id=\"T_2a4a4_row0_col0\" class=\"data row0 col0\" >1</td>\n",
       "      <td id=\"T_2a4a4_row0_col1\" class=\"data row0 col1\" >0.990800</td>\n",
       "      <td id=\"T_2a4a4_row0_col2\" class=\"data row0 col2\" >0.991067</td>\n",
       "      <td id=\"T_2a4a4_row0_col3\" class=\"data row0 col3\" >0.991067</td>\n",
       "    </tr>\n",
       "    <tr>\n",
       "      <th id=\"T_2a4a4_level0_row1\" class=\"row_heading level0 row1\" >1</th>\n",
       "      <td id=\"T_2a4a4_row1_col0\" class=\"data row1 col0\" >2</td>\n",
       "      <td id=\"T_2a4a4_row1_col1\" class=\"data row1 col1\" >0.987467</td>\n",
       "      <td id=\"T_2a4a4_row1_col2\" class=\"data row1 col2\" >0.988267</td>\n",
       "      <td id=\"T_2a4a4_row1_col3\" class=\"data row1 col3\" >0.986267</td>\n",
       "    </tr>\n",
       "    <tr>\n",
       "      <th id=\"T_2a4a4_level0_row2\" class=\"row_heading level0 row2\" >2</th>\n",
       "      <td id=\"T_2a4a4_row2_col0\" class=\"data row2 col0\" >3</td>\n",
       "      <td id=\"T_2a4a4_row2_col1\" class=\"data row2 col1\" >0.988400</td>\n",
       "      <td id=\"T_2a4a4_row2_col2\" class=\"data row2 col2\" >0.989333</td>\n",
       "      <td id=\"T_2a4a4_row2_col3\" class=\"data row2 col3\" >0.987467</td>\n",
       "    </tr>\n",
       "    <tr>\n",
       "      <th id=\"T_2a4a4_level0_row3\" class=\"row_heading level0 row3\" >3</th>\n",
       "      <td id=\"T_2a4a4_row3_col0\" class=\"data row3 col0\" >4</td>\n",
       "      <td id=\"T_2a4a4_row3_col1\" class=\"data row3 col1\" >0.988933</td>\n",
       "      <td id=\"T_2a4a4_row3_col2\" class=\"data row3 col2\" >0.988533</td>\n",
       "      <td id=\"T_2a4a4_row3_col3\" class=\"data row3 col3\" >0.988933</td>\n",
       "    </tr>\n",
       "    <tr>\n",
       "      <th id=\"T_2a4a4_level0_row4\" class=\"row_heading level0 row4\" >4</th>\n",
       "      <td id=\"T_2a4a4_row4_col0\" class=\"data row4 col0\" >5</td>\n",
       "      <td id=\"T_2a4a4_row4_col1\" class=\"data row4 col1\" >0.988533</td>\n",
       "      <td id=\"T_2a4a4_row4_col2\" class=\"data row4 col2\" >0.988000</td>\n",
       "      <td id=\"T_2a4a4_row4_col3\" class=\"data row4 col3\" >0.987467</td>\n",
       "    </tr>\n",
       "    <tr>\n",
       "      <th id=\"T_2a4a4_level0_row5\" class=\"row_heading level0 row5\" >5</th>\n",
       "      <td id=\"T_2a4a4_row5_col0\" class=\"data row5 col0\" >6</td>\n",
       "      <td id=\"T_2a4a4_row5_col1\" class=\"data row5 col1\" >0.987733</td>\n",
       "      <td id=\"T_2a4a4_row5_col2\" class=\"data row5 col2\" >0.986800</td>\n",
       "      <td id=\"T_2a4a4_row5_col3\" class=\"data row5 col3\" >0.988400</td>\n",
       "    </tr>\n",
       "    <tr>\n",
       "      <th id=\"T_2a4a4_level0_row6\" class=\"row_heading level0 row6\" >6</th>\n",
       "      <td id=\"T_2a4a4_row6_col0\" class=\"data row6 col0\" >7</td>\n",
       "      <td id=\"T_2a4a4_row6_col1\" class=\"data row6 col1\" >0.987200</td>\n",
       "      <td id=\"T_2a4a4_row6_col2\" class=\"data row6 col2\" >0.986933</td>\n",
       "      <td id=\"T_2a4a4_row6_col3\" class=\"data row6 col3\" >0.986667</td>\n",
       "    </tr>\n",
       "    <tr>\n",
       "      <th id=\"T_2a4a4_level0_row7\" class=\"row_heading level0 row7\" >7</th>\n",
       "      <td id=\"T_2a4a4_row7_col0\" class=\"data row7 col0\" >8</td>\n",
       "      <td id=\"T_2a4a4_row7_col1\" class=\"data row7 col1\" >0.987467</td>\n",
       "      <td id=\"T_2a4a4_row7_col2\" class=\"data row7 col2\" >0.987067</td>\n",
       "      <td id=\"T_2a4a4_row7_col3\" class=\"data row7 col3\" >0.987067</td>\n",
       "    </tr>\n",
       "    <tr>\n",
       "      <th id=\"T_2a4a4_level0_row8\" class=\"row_heading level0 row8\" >8</th>\n",
       "      <td id=\"T_2a4a4_row8_col0\" class=\"data row8 col0\" >9</td>\n",
       "      <td id=\"T_2a4a4_row8_col1\" class=\"data row8 col1\" >0.986267</td>\n",
       "      <td id=\"T_2a4a4_row8_col2\" class=\"data row8 col2\" >0.986533</td>\n",
       "      <td id=\"T_2a4a4_row8_col3\" class=\"data row8 col3\" >0.985467</td>\n",
       "    </tr>\n",
       "    <tr>\n",
       "      <th id=\"T_2a4a4_level0_row9\" class=\"row_heading level0 row9\" >9</th>\n",
       "      <td id=\"T_2a4a4_row9_col0\" class=\"data row9 col0\" >10</td>\n",
       "      <td id=\"T_2a4a4_row9_col1\" class=\"data row9 col1\" >0.986667</td>\n",
       "      <td id=\"T_2a4a4_row9_col2\" class=\"data row9 col2\" >0.986933</td>\n",
       "      <td id=\"T_2a4a4_row9_col3\" class=\"data row9 col3\" >0.985733</td>\n",
       "    </tr>\n",
       "    <tr>\n",
       "      <th id=\"T_2a4a4_level0_row10\" class=\"row_heading level0 row10\" >10</th>\n",
       "      <td id=\"T_2a4a4_row10_col0\" class=\"data row10 col0\" >11</td>\n",
       "      <td id=\"T_2a4a4_row10_col1\" class=\"data row10 col1\" >0.985867</td>\n",
       "      <td id=\"T_2a4a4_row10_col2\" class=\"data row10 col2\" >0.985067</td>\n",
       "      <td id=\"T_2a4a4_row10_col3\" class=\"data row10 col3\" >0.984533</td>\n",
       "    </tr>\n",
       "    <tr>\n",
       "      <th id=\"T_2a4a4_level0_row11\" class=\"row_heading level0 row11\" >11</th>\n",
       "      <td id=\"T_2a4a4_row11_col0\" class=\"data row11 col0\" >12</td>\n",
       "      <td id=\"T_2a4a4_row11_col1\" class=\"data row11 col1\" >0.985600</td>\n",
       "      <td id=\"T_2a4a4_row11_col2\" class=\"data row11 col2\" >0.985733</td>\n",
       "      <td id=\"T_2a4a4_row11_col3\" class=\"data row11 col3\" >0.985333</td>\n",
       "    </tr>\n",
       "    <tr>\n",
       "      <th id=\"T_2a4a4_level0_row12\" class=\"row_heading level0 row12\" >12</th>\n",
       "      <td id=\"T_2a4a4_row12_col0\" class=\"data row12 col0\" >13</td>\n",
       "      <td id=\"T_2a4a4_row12_col1\" class=\"data row12 col1\" >0.984133</td>\n",
       "      <td id=\"T_2a4a4_row12_col2\" class=\"data row12 col2\" >0.985200</td>\n",
       "      <td id=\"T_2a4a4_row12_col3\" class=\"data row12 col3\" >0.984000</td>\n",
       "    </tr>\n",
       "    <tr>\n",
       "      <th id=\"T_2a4a4_level0_row13\" class=\"row_heading level0 row13\" >13</th>\n",
       "      <td id=\"T_2a4a4_row13_col0\" class=\"data row13 col0\" >14</td>\n",
       "      <td id=\"T_2a4a4_row13_col1\" class=\"data row13 col1\" >0.984667</td>\n",
       "      <td id=\"T_2a4a4_row13_col2\" class=\"data row13 col2\" >0.985333</td>\n",
       "      <td id=\"T_2a4a4_row13_col3\" class=\"data row13 col3\" >0.984400</td>\n",
       "    </tr>\n",
       "    <tr>\n",
       "      <th id=\"T_2a4a4_level0_row14\" class=\"row_heading level0 row14\" >14</th>\n",
       "      <td id=\"T_2a4a4_row14_col0\" class=\"data row14 col0\" >15</td>\n",
       "      <td id=\"T_2a4a4_row14_col1\" class=\"data row14 col1\" >0.984400</td>\n",
       "      <td id=\"T_2a4a4_row14_col2\" class=\"data row14 col2\" >0.984800</td>\n",
       "      <td id=\"T_2a4a4_row14_col3\" class=\"data row14 col3\" >0.982933</td>\n",
       "    </tr>\n",
       "    <tr>\n",
       "      <th id=\"T_2a4a4_level0_row15\" class=\"row_heading level0 row15\" >15</th>\n",
       "      <td id=\"T_2a4a4_row15_col0\" class=\"data row15 col0\" >16</td>\n",
       "      <td id=\"T_2a4a4_row15_col1\" class=\"data row15 col1\" >0.984533</td>\n",
       "      <td id=\"T_2a4a4_row15_col2\" class=\"data row15 col2\" >0.984400</td>\n",
       "      <td id=\"T_2a4a4_row15_col3\" class=\"data row15 col3\" >0.983200</td>\n",
       "    </tr>\n",
       "    <tr>\n",
       "      <th id=\"T_2a4a4_level0_row16\" class=\"row_heading level0 row16\" >16</th>\n",
       "      <td id=\"T_2a4a4_row16_col0\" class=\"data row16 col0\" >17</td>\n",
       "      <td id=\"T_2a4a4_row16_col1\" class=\"data row16 col1\" >0.984000</td>\n",
       "      <td id=\"T_2a4a4_row16_col2\" class=\"data row16 col2\" >0.984267</td>\n",
       "      <td id=\"T_2a4a4_row16_col3\" class=\"data row16 col3\" >0.982533</td>\n",
       "    </tr>\n",
       "    <tr>\n",
       "      <th id=\"T_2a4a4_level0_row17\" class=\"row_heading level0 row17\" >17</th>\n",
       "      <td id=\"T_2a4a4_row17_col0\" class=\"data row17 col0\" >18</td>\n",
       "      <td id=\"T_2a4a4_row17_col1\" class=\"data row17 col1\" >0.983600</td>\n",
       "      <td id=\"T_2a4a4_row17_col2\" class=\"data row17 col2\" >0.983867</td>\n",
       "      <td id=\"T_2a4a4_row17_col3\" class=\"data row17 col3\" >0.982800</td>\n",
       "    </tr>\n",
       "    <tr>\n",
       "      <th id=\"T_2a4a4_level0_row18\" class=\"row_heading level0 row18\" >18</th>\n",
       "      <td id=\"T_2a4a4_row18_col0\" class=\"data row18 col0\" >19</td>\n",
       "      <td id=\"T_2a4a4_row18_col1\" class=\"data row18 col1\" >0.983333</td>\n",
       "      <td id=\"T_2a4a4_row18_col2\" class=\"data row18 col2\" >0.983200</td>\n",
       "      <td id=\"T_2a4a4_row18_col3\" class=\"data row18 col3\" >0.981467</td>\n",
       "    </tr>\n",
       "    <tr>\n",
       "      <th id=\"T_2a4a4_level0_row19\" class=\"row_heading level0 row19\" >19</th>\n",
       "      <td id=\"T_2a4a4_row19_col0\" class=\"data row19 col0\" >20</td>\n",
       "      <td id=\"T_2a4a4_row19_col1\" class=\"data row19 col1\" >0.982800</td>\n",
       "      <td id=\"T_2a4a4_row19_col2\" class=\"data row19 col2\" >0.983067</td>\n",
       "      <td id=\"T_2a4a4_row19_col3\" class=\"data row19 col3\" >0.981600</td>\n",
       "    </tr>\n",
       "    <tr>\n",
       "      <th id=\"T_2a4a4_level0_row20\" class=\"row_heading level0 row20\" >20</th>\n",
       "      <td id=\"T_2a4a4_row20_col0\" class=\"data row20 col0\" >21</td>\n",
       "      <td id=\"T_2a4a4_row20_col1\" class=\"data row20 col1\" >0.982267</td>\n",
       "      <td id=\"T_2a4a4_row20_col2\" class=\"data row20 col2\" >0.982400</td>\n",
       "      <td id=\"T_2a4a4_row20_col3\" class=\"data row20 col3\" >0.980933</td>\n",
       "    </tr>\n",
       "    <tr>\n",
       "      <th id=\"T_2a4a4_level0_row21\" class=\"row_heading level0 row21\" >21</th>\n",
       "      <td id=\"T_2a4a4_row21_col0\" class=\"data row21 col0\" >22</td>\n",
       "      <td id=\"T_2a4a4_row21_col1\" class=\"data row21 col1\" >0.982667</td>\n",
       "      <td id=\"T_2a4a4_row21_col2\" class=\"data row21 col2\" >0.982000</td>\n",
       "      <td id=\"T_2a4a4_row21_col3\" class=\"data row21 col3\" >0.980800</td>\n",
       "    </tr>\n",
       "    <tr>\n",
       "      <th id=\"T_2a4a4_level0_row22\" class=\"row_heading level0 row22\" >22</th>\n",
       "      <td id=\"T_2a4a4_row22_col0\" class=\"data row22 col0\" >23</td>\n",
       "      <td id=\"T_2a4a4_row22_col1\" class=\"data row22 col1\" >0.982533</td>\n",
       "      <td id=\"T_2a4a4_row22_col2\" class=\"data row22 col2\" >0.982133</td>\n",
       "      <td id=\"T_2a4a4_row22_col3\" class=\"data row22 col3\" >0.980400</td>\n",
       "    </tr>\n",
       "    <tr>\n",
       "      <th id=\"T_2a4a4_level0_row23\" class=\"row_heading level0 row23\" >23</th>\n",
       "      <td id=\"T_2a4a4_row23_col0\" class=\"data row23 col0\" >24</td>\n",
       "      <td id=\"T_2a4a4_row23_col1\" class=\"data row23 col1\" >0.981733</td>\n",
       "      <td id=\"T_2a4a4_row23_col2\" class=\"data row23 col2\" >0.981600</td>\n",
       "      <td id=\"T_2a4a4_row23_col3\" class=\"data row23 col3\" >0.980133</td>\n",
       "    </tr>\n",
       "    <tr>\n",
       "      <th id=\"T_2a4a4_level0_row24\" class=\"row_heading level0 row24\" >24</th>\n",
       "      <td id=\"T_2a4a4_row24_col0\" class=\"data row24 col0\" >25</td>\n",
       "      <td id=\"T_2a4a4_row24_col1\" class=\"data row24 col1\" >0.981867</td>\n",
       "      <td id=\"T_2a4a4_row24_col2\" class=\"data row24 col2\" >0.981333</td>\n",
       "      <td id=\"T_2a4a4_row24_col3\" class=\"data row24 col3\" >0.979867</td>\n",
       "    </tr>\n",
       "  </tbody>\n",
       "</table>\n"
      ],
      "text/plain": [
       "<pandas.io.formats.style.Styler at 0x1a2a87482e0>"
      ]
     },
     "execution_count": 120,
     "metadata": {},
     "output_type": "execute_result"
    }
   ],
   "source": [
    "df_scores.style.highlight_max(subset=['euclidean','manhattan','chebyshev'])"
   ]
  },
  {
   "cell_type": "markdown",
   "id": "39fa2b7d",
   "metadata": {},
   "source": [
    "Conforme identificado acima qual melhor parâmetro de distância e vizinhos se aplica ao modelo."
   ]
  },
  {
   "cell_type": "code",
   "execution_count": 121,
   "id": "936599d2",
   "metadata": {},
   "outputs": [],
   "source": [
    "knn = KNeighborsClassifier(metric = 'euclidean', n_neighbors = 3)"
   ]
  },
  {
   "cell_type": "markdown",
   "id": "17bd2f38-5fee-4408-b549-f7a46a4f7337",
   "metadata": {},
   "source": [
    "Treino do modelo usando a distancia e métrica identificada"
   ]
  },
  {
   "cell_type": "code",
   "execution_count": 122,
   "id": "69720f2c",
   "metadata": {},
   "outputs": [],
   "source": [
    "knn.fit(X_train_std, y_train);"
   ]
  },
  {
   "cell_type": "markdown",
   "id": "d6f872f8-d12b-45d4-9364-3f0ab1e4aa68",
   "metadata": {},
   "source": [
    "Previsão com o modelo de teste"
   ]
  },
  {
   "cell_type": "code",
   "execution_count": 123,
   "id": "c1eff078",
   "metadata": {},
   "outputs": [],
   "source": [
    "y_test_pred_knn = knn.predict(X_test_std)"
   ]
  },
  {
   "cell_type": "markdown",
   "id": "e13ac802-d9fc-4d92-9069-485904e2a03f",
   "metadata": {},
   "source": [
    "Previsão valores e a acurácia"
   ]
  },
  {
   "cell_type": "code",
   "execution_count": 124,
   "id": "d48e17d7-f17f-450f-a2a9-49904d42d230",
   "metadata": {},
   "outputs": [
    {
     "data": {
      "text/plain": [
       "0.9904"
      ]
     },
     "execution_count": 124,
     "metadata": {},
     "output_type": "execute_result"
    }
   ],
   "source": [
    "accuracy_score(y_test, y_test_pred_knn).round(4)"
   ]
  },
  {
   "cell_type": "code",
   "execution_count": 125,
   "id": "250e12e7-00ed-44f8-bf30-206137d6e6cd",
   "metadata": {},
   "outputs": [
    {
     "name": "stdout",
     "output_type": "stream",
     "text": [
      "Score train:  0.9961333333333333\n"
     ]
    }
   ],
   "source": [
    "score_train_knn = accuracy_score(y_train, knn.predict(X_train_std))\n",
    "print('Score train: ', score_train_knn)"
   ]
  },
  {
   "cell_type": "code",
   "execution_count": 126,
   "id": "113420fd-1d76-47e9-8e4f-1ab4290bd3d6",
   "metadata": {},
   "outputs": [
    {
     "name": "stdout",
     "output_type": "stream",
     "text": [
      "Score test:  0.9904\n"
     ]
    }
   ],
   "source": [
    "score_test_knn = accuracy_score(y_test, y_test_pred_knn)\n",
    "print('Score test: ', score_test_knn)"
   ]
  },
  {
   "cell_type": "markdown",
   "id": "f29cb5a9-42ec-4cf2-ab15-2145093ceff8",
   "metadata": {},
   "source": [
    "Matriz de confusão modelo treino"
   ]
  },
  {
   "cell_type": "code",
   "execution_count": 127,
   "id": "4a14f145-1b83-4d6c-966b-1c5f0f472779",
   "metadata": {},
   "outputs": [
    {
     "data": {
      "image/png": "[encoded data removed]",
      "text/plain": [
       "<Figure size 432x288 with 2 Axes>"
      ]
     },
     "metadata": {
      "needs_background": "light"
     },
     "output_type": "display_data"
    }
   ],
   "source": [
    "sns.heatmap(confusion_matrix(y_train, knn.predict(X_train_std)), \n",
    "            annot = True, \n",
    "            fmt = '4d'\n",
    "           )\n",
    "\n",
    "plt.title('Confusion Matrix KNeighbors Regressor - Train')\n",
    "plt.xlabel('Predict')\n",
    "plt.ylabel('Real');\n",
    "plt.savefig(\"../Projeto-Integrador-III--Fraude-Cartao-Credito/img/confusion-knn-train.png\", dpi = 600 )"
   ]
  },
  {
   "cell_type": "markdown",
   "id": "b2d85c04-faf9-4421-a1c8-d1c7b103822d",
   "metadata": {},
   "source": [
    "Matriz de confusão modelo teste"
   ]
  },
  {
   "cell_type": "code",
   "execution_count": 128,
   "id": "e1df5d44",
   "metadata": {},
   "outputs": [
    {
     "data": {
      "text/plain": [
       "array([[1228,   22],\n",
       "       [   2, 1248]], dtype=int64)"
      ]
     },
     "execution_count": 128,
     "metadata": {},
     "output_type": "execute_result"
    }
   ],
   "source": [
    "confusion_matrix(y_test,y_test_pred_knn)"
   ]
  },
  {
   "cell_type": "code",
   "execution_count": 129,
   "id": "5e4a2674",
   "metadata": {},
   "outputs": [
    {
     "data": {
      "image/png": "[encoded data removed]",
      "text/plain": [
       "<Figure size 432x288 with 2 Axes>"
      ]
     },
     "metadata": {
      "needs_background": "light"
     },
     "output_type": "display_data"
    }
   ],
   "source": [
    "sns.heatmap(confusion_matrix(y_test, knn.predict(X_test_std)), \n",
    "            annot = True, \n",
    "            fmt = '4d'\n",
    "           )\n",
    "\n",
    "plt.title('Confusion Matrix KNeighbors Regressor -  Test')\n",
    "plt.xlabel('Predict')\n",
    "plt.ylabel('Real');\n",
    "plt.savefig(\"../Projeto-Integrador-III--Fraude-Cartao-Credito/img/confusion-knn-test.png\", dpi = 600 )"
   ]
  },
  {
   "cell_type": "markdown",
   "id": "b4d9b783-231f-467e-9ae2-075ee594fec3",
   "metadata": {},
   "source": [
    "Observando as métricas"
   ]
  },
  {
   "cell_type": "code",
   "execution_count": 130,
   "id": "56569772",
   "metadata": {},
   "outputs": [
    {
     "name": "stdout",
     "output_type": "stream",
     "text": [
      "Classification Report:\n",
      "----------------------\n",
      "               precision    recall  f1-score   support\n",
      "\n",
      "  No Fraud 0       1.00      0.98      0.99      1250\n",
      "     Fraud 1       0.98      1.00      0.99      1250\n",
      "\n",
      "    accuracy                           0.99      2500\n",
      "   macro avg       0.99      0.99      0.99      2500\n",
      "weighted avg       0.99      0.99      0.99      2500\n",
      "\n"
     ]
    }
   ],
   "source": [
    "target_names=['No Fraud 0', 'Fraud 1']\n",
    "report_class = classification_report(y_test, y_test_pred_knn, target_names=target_names)\n",
    "print(\"Classification Report:\\n----------------------\\n\", report_class)"
   ]
  },
  {
   "cell_type": "markdown",
   "id": "c5c05ede-1884-44ff-8133-6c4d6268c12f",
   "metadata": {},
   "source": [
    "Inserindo as métricas na lista para armazenamento"
   ]
  },
  {
   "cell_type": "code",
   "execution_count": 131,
   "id": "2a2bc586-a12a-4f05-987c-c2ea77e93d41",
   "metadata": {},
   "outputs": [],
   "source": [
    "m='KNN'\n",
    "test_recall_knn = recall_score(y_test, y_test_pred_knn, pos_label=1)\n",
    "fpr_knn, tpr_knn, thresholds = roc_curve(y_test, y_test_pred_knn, pos_label=1)\n",
    "test_auc_knn = auc(fpr_knn,tpr_knn)\n",
    "f1_score_knn = f1_score(y_test, y_test_pred_knn)\n",
    "data_all.append([m,score_train_knn,score_test_knn,test_recall_knn,test_auc_knn,f1_score_knn])"
   ]
  },
  {
   "cell_type": "markdown",
   "id": "455cd2b6-23d6-4595-b743-03b89bda08fb",
   "metadata": {},
   "source": [
    "# Modelo 4: Decision Tree Classifier"
   ]
  },
  {
   "cell_type": "markdown",
   "id": "e7c69a08-cf97-4e05-b118-359fa907e80a",
   "metadata": {},
   "source": [
    "Intanciando a classe Decison Tree Classifier, definimos o random_state de 12"
   ]
  },
  {
   "cell_type": "code",
   "execution_count": 132,
   "id": "1f4cf783-95d9-4550-9d92-afb9822b52ca",
   "metadata": {},
   "outputs": [],
   "source": [
    "dt = DecisionTreeClassifier(random_state=12)"
   ]
  },
  {
   "cell_type": "markdown",
   "id": "8dc84529-0b17-49bf-b941-93093b24cdb0",
   "metadata": {},
   "source": [
    "Treino do modelo "
   ]
  },
  {
   "cell_type": "code",
   "execution_count": 133,
   "id": "b3e4f9db-a1f8-4625-ba36-7dbaad409ef9",
   "metadata": {},
   "outputs": [
    {
     "data": {
      "text/html": [
       "<style>#sk-container-id-6 {color: black;background-color: white;}#sk-container-id-6 pre{padding: 0;}#sk-container-id-6 div.sk-toggleable {background-color: white;}#sk-container-id-6 label.sk-toggleable__label {cursor: pointer;display: block;width: 100%;margin-bottom: 0;padding: 0.3em;box-sizing: border-box;text-align: center;}#sk-container-id-6 label.sk-toggleable__label-arrow:before {content: \"▸\";float: left;margin-right: 0.25em;color: #696969;}#sk-container-id-6 label.sk-toggleable__label-arrow:hover:before {color: black;}#sk-container-id-6 div.sk-estimator:hover label.sk-toggleable__label-arrow:before {color: black;}#sk-container-id-6 div.sk-toggleable__content {max-height: 0;max-width: 0;overflow: hidden;text-align: left;background-color: #f0f8ff;}#sk-container-id-6 div.sk-toggleable__content pre {margin: 0.2em;color: black;border-radius: 0.25em;background-color: #f0f8ff;}#sk-container-id-6 input.sk-toggleable__control:checked~div.sk-toggleable__content {max-height: 200px;max-width: 100%;overflow: auto;}#sk-container-id-6 input.sk-toggleable__control:checked~label.sk-toggleable__label-arrow:before {content: \"▾\";}#sk-container-id-6 div.sk-estimator input.sk-toggleable__control:checked~label.sk-toggleable__label {background-color: #d4ebff;}#sk-container-id-6 div.sk-label input.sk-toggleable__control:checked~label.sk-toggleable__label {background-color: #d4ebff;}#sk-container-id-6 input.sk-hidden--visually {border: 0;clip: rect(1px 1px 1px 1px);clip: rect(1px, 1px, 1px, 1px);height: 1px;margin: -1px;overflow: hidden;padding: 0;position: absolute;width: 1px;}#sk-container-id-6 div.sk-estimator {font-family: monospace;background-color: #f0f8ff;border: 1px dotted black;border-radius: 0.25em;box-sizing: border-box;margin-bottom: 0.5em;}#sk-container-id-6 div.sk-estimator:hover {background-color: #d4ebff;}#sk-container-id-6 div.sk-parallel-item::after {content: \"\";width: 100%;border-bottom: 1px solid gray;flex-grow: 1;}#sk-container-id-6 div.sk-label:hover label.sk-toggleable__label {background-color: #d4ebff;}#sk-container-id-6 div.sk-serial::before {content: \"\";position: absolute;border-left: 1px solid gray;box-sizing: border-box;top: 0;bottom: 0;left: 50%;z-index: 0;}#sk-container-id-6 div.sk-serial {display: flex;flex-direction: column;align-items: center;background-color: white;padding-right: 0.2em;padding-left: 0.2em;position: relative;}#sk-container-id-6 div.sk-item {position: relative;z-index: 1;}#sk-container-id-6 div.sk-parallel {display: flex;align-items: stretch;justify-content: center;background-color: white;position: relative;}#sk-container-id-6 div.sk-item::before, #sk-container-id-6 div.sk-parallel-item::before {content: \"\";position: absolute;border-left: 1px solid gray;box-sizing: border-box;top: 0;bottom: 0;left: 50%;z-index: -1;}#sk-container-id-6 div.sk-parallel-item {display: flex;flex-direction: column;z-index: 1;position: relative;background-color: white;}#sk-container-id-6 div.sk-parallel-item:first-child::after {align-self: flex-end;width: 50%;}#sk-container-id-6 div.sk-parallel-item:last-child::after {align-self: flex-start;width: 50%;}#sk-container-id-6 div.sk-parallel-item:only-child::after {width: 0;}#sk-container-id-6 div.sk-dashed-wrapped {border: 1px dashed gray;margin: 0 0.4em 0.5em 0.4em;box-sizing: border-box;padding-bottom: 0.4em;background-color: white;}#sk-container-id-6 div.sk-label label {font-family: monospace;font-weight: bold;display: inline-block;line-height: 1.2em;}#sk-container-id-6 div.sk-label-container {text-align: center;}#sk-container-id-6 div.sk-container {/* jupyter's `normalize.less` sets `[hidden] { display: none; }` but bootstrap.min.css set `[hidden] { display: none !important; }` so we also need the `!important` here to be able to override the default hidden behavior on the sphinx rendered scikit-learn.org. See: https://github.com/scikit-learn/scikit-learn/issues/21755 */display: inline-block !important;position: relative;}#sk-container-id-6 div.sk-text-repr-fallback {display: none;}</style><div id=\"sk-container-id-6\" class=\"sk-top-container\"><div class=\"sk-text-repr-fallback\"><pre>DecisionTreeClassifier(random_state=12)</pre><b>In a Jupyter environment, please rerun this cell to show the HTML representation or trust the notebook. <br />On GitHub, the HTML representation is unable to render, please try loading this page with nbviewer.org.</b></div><div class=\"sk-container\" hidden><div class=\"sk-item\"><div class=\"sk-estimator sk-toggleable\"><input class=\"sk-toggleable__control sk-hidden--visually\" id=\"sk-estimator-id-6\" type=\"checkbox\" checked><label for=\"sk-estimator-id-6\" class=\"sk-toggleable__label sk-toggleable__label-arrow\">DecisionTreeClassifier</label><div class=\"sk-toggleable__content\"><pre>DecisionTreeClassifier(random_state=12)</pre></div></div></div></div></div>"
      ],
      "text/plain": [
       "DecisionTreeClassifier(random_state=12)"
      ]
     },
     "execution_count": 133,
     "metadata": {},
     "output_type": "execute_result"
    }
   ],
   "source": [
    "dt.fit(X_train_std, y_train)"
   ]
  },
  {
   "cell_type": "markdown",
   "id": "55c02f63-a036-4e72-b26b-e149de1dc78c",
   "metadata": {},
   "source": [
    "Previsão valores e a acurácia"
   ]
  },
  {
   "cell_type": "code",
   "execution_count": 134,
   "id": "5d0e36b8-5b53-4ef9-82d8-c109553d1da2",
   "metadata": {},
   "outputs": [],
   "source": [
    "y_test_pred_dt = dt.predict(X_test_std)"
   ]
  },
  {
   "cell_type": "markdown",
   "id": "64fb8efe-b667-41dd-a7a4-5578b8d6ad1b",
   "metadata": {},
   "source": [
    "Previsão acurácia de treino"
   ]
  },
  {
   "cell_type": "code",
   "execution_count": 135,
   "id": "fbeadd5f-2cc2-49d9-b263-66f1c8bb1435",
   "metadata": {},
   "outputs": [
    {
     "name": "stdout",
     "output_type": "stream",
     "text": [
      "Score train:  1.0\n"
     ]
    }
   ],
   "source": [
    "score_train_dt = accuracy_score(y_train, dt.predict(X_train_std))\n",
    "print('Score train: ', score_train_dt)"
   ]
  },
  {
   "cell_type": "markdown",
   "id": "3731e476-3885-4c0c-8c34-bf41f5818c53",
   "metadata": {},
   "source": [
    "Previsão acurácia de teste"
   ]
  },
  {
   "cell_type": "code",
   "execution_count": 136,
   "id": "9a4d71ec-6211-446d-a3e8-159259959659",
   "metadata": {},
   "outputs": [
    {
     "name": "stdout",
     "output_type": "stream",
     "text": [
      "Score test:  0.9988\n"
     ]
    }
   ],
   "source": [
    "score_test_dt = accuracy_score(y_test, y_test_pred_dt)\n",
    "print('Score test: ', score_test_dt)"
   ]
  },
  {
   "cell_type": "markdown",
   "id": "7716a392-16b9-4cc2-83e4-1d6cd78f244a",
   "metadata": {},
   "source": [
    "Imprimindo a media aboluta"
   ]
  },
  {
   "cell_type": "code",
   "execution_count": 137,
   "id": "2bb721e6-d737-4541-9476-edb8e1b17bc5",
   "metadata": {},
   "outputs": [
    {
     "name": "stdout",
     "output_type": "stream",
     "text": [
      "Mean Absolute Error:  0.0012\n"
     ]
    }
   ],
   "source": [
    "mean_abs_dt = mean_absolute_error(y_test, y_test_pred_dt)\n",
    "print('Mean Absolute Error: ', mean_abs_dt)"
   ]
  },
  {
   "cell_type": "markdown",
   "id": "105e9e7c-462d-4250-830b-e480ba7b6159",
   "metadata": {},
   "source": [
    "Criando a matriz de confusão modelo treino"
   ]
  },
  {
   "cell_type": "code",
   "execution_count": 138,
   "id": "b6ebfb69-9d53-4de0-96fe-b62466e4ad1b",
   "metadata": {},
   "outputs": [
    {
     "data": {
      "image/png": "[encoded data removed]",
      "text/plain": [
       "<Figure size 432x288 with 2 Axes>"
      ]
     },
     "metadata": {
      "needs_background": "light"
     },
     "output_type": "display_data"
    }
   ],
   "source": [
    "sns.heatmap(confusion_matrix(y_train, dt.predict(X_train_std)), \n",
    "            annot = True, \n",
    "            fmt = '4d'\n",
    "           )\n",
    "\n",
    "plt.title('Confusion Matrix Decision Tree - Train')\n",
    "plt.xlabel('Predict')\n",
    "plt.ylabel('Real');\n",
    "plt.savefig(\"../Projeto-Integrador-III--Fraude-Cartao-Credito/img/confusion-DT-train.png\", dpi = 600 )"
   ]
  },
  {
   "cell_type": "markdown",
   "id": "c4b1929b-27e5-4867-9afa-f0911918c1c2",
   "metadata": {},
   "source": [
    "Criando a matriz de confusão modelo teste"
   ]
  },
  {
   "cell_type": "code",
   "execution_count": 139,
   "id": "507cd256-9ea0-4a3f-bab0-ad7ca6e24472",
   "metadata": {},
   "outputs": [
    {
     "data": {
      "image/png": "[encoded data removed]",
      "text/plain": [
       "<Figure size 432x288 with 2 Axes>"
      ]
     },
     "metadata": {
      "needs_background": "light"
     },
     "output_type": "display_data"
    }
   ],
   "source": [
    "sns.heatmap(confusion_matrix(y_test, dt.predict(X_test_std)), \n",
    "            annot = True, \n",
    "            fmt = '4d'\n",
    "           )\n",
    "\n",
    "plt.title('Confusion Matrix Decision Tree - Test')\n",
    "plt.xlabel('Predict')\n",
    "plt.ylabel('Real');\n",
    "plt.savefig(\"../Projeto-Integrador-III--Fraude-Cartao-Credito/img/confusion-DT-test.png\", dpi = 600 )"
   ]
  },
  {
   "cell_type": "code",
   "execution_count": 140,
   "id": "efe25972-3fc7-4ec9-8cf3-d65b7c5cf656",
   "metadata": {},
   "outputs": [
    {
     "name": "stdout",
     "output_type": "stream",
     "text": [
      "Classification Report:\n",
      "----------------------\n",
      "               precision    recall  f1-score   support\n",
      "\n",
      "  No Fraud 0       1.00      1.00      1.00      1250\n",
      "     Fraud 1       1.00      1.00      1.00      1250\n",
      "\n",
      "    accuracy                           1.00      2500\n",
      "   macro avg       1.00      1.00      1.00      2500\n",
      "weighted avg       1.00      1.00      1.00      2500\n",
      "\n"
     ]
    }
   ],
   "source": [
    "target_names=['No Fraud 0', 'Fraud 1']\n",
    "report_class = classification_report(y_test, y_test_pred_dt, target_names=target_names)\n",
    "print(\"Classification Report:\\n----------------------\\n\", report_class)"
   ]
  },
  {
   "cell_type": "markdown",
   "id": "1f8dcf80-77f2-4f48-93d9-a79d644d0918",
   "metadata": {},
   "source": [
    "Inserindo as métricas na lista para armazenamento"
   ]
  },
  {
   "cell_type": "code",
   "execution_count": 141,
   "id": "66db79ab-24aa-4858-893e-8bb0c5315919",
   "metadata": {},
   "outputs": [],
   "source": [
    "m='DT'\n",
    "test_recall_dt = recall_score(y_test, y_test_pred_dt, pos_label=1)\n",
    "fpr_dt, tpr_dt, thresholds = roc_curve(y_test, y_test_pred_dt, pos_label=1)\n",
    "test_auc_dt = auc(fpr_dt,tpr_dt)\n",
    "f1_score_dt = f1_score(y_test, y_test_pred_dt)\n",
    "data_all.append([m,score_train_dt,score_test_dt,test_recall_dt,test_auc_dt,f1_score_dt])"
   ]
  },
  {
   "cell_type": "markdown",
   "id": "1771643f-5e71-415e-b1e2-a0b1351e2126",
   "metadata": {},
   "source": [
    "### Calculando as probabilidades para a previsão "
   ]
  },
  {
   "cell_type": "code",
   "execution_count": 142,
   "id": "bf1f85bc-4e24-482d-b57a-ae34bfcf85d2",
   "metadata": {},
   "outputs": [],
   "source": [
    "r_probs = [0 for _ in range (len(y_test))]\n",
    "lr_probs = lr.predict_proba(X_test_std)\n",
    "rf_probs = rf.predict_proba(X_test_std)\n",
    "knn_probs = knn.predict_proba(X_test_std)\n",
    "dt_probs = dt.predict_proba(X_test_std)"
   ]
  },
  {
   "cell_type": "code",
   "execution_count": 143,
   "id": "1dd06b8b-cc8f-4d0b-b1b8-20a426938139",
   "metadata": {},
   "outputs": [],
   "source": [
    "lr_probs = lr_probs[:,1]\n",
    "rf_probs = rf_probs[:,1]\n",
    "knn_probs = knn_probs[:,1]\n",
    "dt_probs = dt_probs[:,1]"
   ]
  },
  {
   "cell_type": "code",
   "execution_count": 144,
   "id": "f5a76f99-6ee0-4e02-b791-aef202145e53",
   "metadata": {},
   "outputs": [],
   "source": [
    "r_auc = roc_auc_score(y_test, r_probs)\n",
    "lr_auc = roc_auc_score(y_test, lr_probs)\n",
    "rf_auc = roc_auc_score(y_test, rf_probs)\n",
    "knn_auc = roc_auc_score(y_test, knn_probs)\n",
    "dt_auc = roc_auc_score(y_test, dt_probs)"
   ]
  },
  {
   "cell_type": "markdown",
   "id": "524080b6-d06f-4bfe-aead-2f547fdd4dce",
   "metadata": {},
   "source": [
    "Imprimindo AUROC scores com os modelos Logistic Regression, Randon Forest e Decision Tree"
   ]
  },
  {
   "cell_type": "code",
   "execution_count": 145,
   "id": "8cb7e7a7-33f7-42cf-b33a-ef012ce2ae7e",
   "metadata": {},
   "outputs": [
    {
     "name": "stdout",
     "output_type": "stream",
     "text": [
      "Random (chance) Prediction: AUROC = 0.500\n",
      "Logistic Regression: AUROC = 0.979\n",
      "Random Forest: AUROC = 1.000\n",
      "KNeighbors Regressor: AUROC = 0.995\n",
      "Decision Tree: AUROC = 0.999\n"
     ]
    }
   ],
   "source": [
    "print('Random (chance) Prediction: AUROC = %.3f' % (r_auc))\n",
    "print('Logistic Regression: AUROC = %.3f' % (lr_auc))\n",
    "print('Random Forest: AUROC = %.3f' % (rf_auc))\n",
    "print('KNeighbors Regressor: AUROC = %.3f' % (knn_auc))\n",
    "print('Decision Tree: AUROC = %.3f' % (dt_auc))"
   ]
  },
  {
   "cell_type": "markdown",
   "id": "531cd698-4685-4059-9fe5-7483dfdc65bd",
   "metadata": {},
   "source": [
    "Calculando a Curva ROC dos modelos"
   ]
  },
  {
   "cell_type": "code",
   "execution_count": 146,
   "id": "f782de80-0808-4d37-a0e7-f5a1b4a8f3de",
   "metadata": {},
   "outputs": [],
   "source": [
    "r_fpr, r_tpr, _ = roc_curve(y_test, r_probs)\n",
    "lr_fpr, lr_tpr, _ = roc_curve(y_test, lr_probs)\n",
    "rf_fpr, rf_tpr, _ = roc_curve(y_test, rf_probs)\n",
    "knn_fpr, knn_tpr, _ = roc_curve(y_test, rf_probs)\n",
    "dt_fpr, dt_tpr, _ = roc_curve(y_test, dt_probs)"
   ]
  },
  {
   "cell_type": "markdown",
   "id": "e7cfd2c0-c1b6-452a-8a05-d7ceb282386a",
   "metadata": {},
   "source": [
    "Plotando a curva ROC"
   ]
  },
  {
   "cell_type": "code",
   "execution_count": 147,
   "id": "cdff0257-c71b-4c8a-99c5-38bb210c76a8",
   "metadata": {},
   "outputs": [
    {
     "data": {
      "image/png": "[encoded data removed]",
      "text/plain": [
       "<Figure size 1080x720 with 1 Axes>"
      ]
     },
     "metadata": {
      "needs_background": "light"
     },
     "output_type": "display_data"
    }
   ],
   "source": [
    "plt.figure(figsize = (15,10))\n",
    "plt.plot(r_fpr, r_tpr, linestyle='--', label='Random prediction (AUROC = %0.3f)' % r_auc)\n",
    "plt.plot(lr_fpr, lr_tpr, marker='.', label='Logistic Regression (AUROC = %0.3f)' % lr_auc)\n",
    "plt.plot(rf_fpr, rf_tpr, marker='.', label='Random Forest (AUROC = %0.3f)' % rf_auc)\n",
    "plt.plot(knn_fpr, knn_tpr, marker='.', label='KNeighbors Regressor (AUROC = %0.3f)' % knn_auc)\n",
    "plt.plot(dt_fpr, dt_tpr, marker='.', label='Decision Tree (AUROC = %0.3f)' % dt_auc)\n",
    "\n",
    "\n",
    "# Title\n",
    "plt.title('ROC Plot')\n",
    "# Axis labels\n",
    "plt.xlabel('False Positive Rate')\n",
    "plt.ylabel('True Positive Rate')\n",
    "# Show legend\n",
    "plt.legend() # \n",
    "# Show plot\n",
    "plt.savefig(\"../Projeto-Integrador-III--Fraude-Cartao-Credito/img/ROC-plot.png\", dpi = 600 )\n",
    "plt.show()"
   ]
  },
  {
   "cell_type": "markdown",
   "id": "e117bedb-e953-4821-92dc-eb327b4bc626",
   "metadata": {},
   "source": [
    "### Resumo das métricas dos modelos"
   ]
  },
  {
   "cell_type": "markdown",
   "id": "c875795b-23b2-470a-91ac-8aaae15eb8a0",
   "metadata": {},
   "source": [
    "Atribuindo nome das colunas no dataframe de métricas e imprimindo as informações de todos modelos."
   ]
  },
  {
   "cell_type": "code",
   "execution_count": 148,
   "id": "ed698501-37ba-41f2-9148-1a9e4b2873cd",
   "metadata": {},
   "outputs": [
    {
     "name": "stdout",
     "output_type": "stream",
     "text": [
      "                 model  train score  test score  test recall  test_auc  \\\n",
      "0  Logistic Regression     0.946133      0.9424       0.9512    0.9424   \n",
      "1        Randon Forest     1.000000      0.9984       1.0000    0.9984   \n",
      "2                  KNN     0.996133      0.9904       0.9984    0.9904   \n",
      "3                   DT     1.000000      0.9988       1.0000    0.9988   \n",
      "\n",
      "   F1 Score  \n",
      "0  0.942902  \n",
      "1  0.998403  \n",
      "2  0.990476  \n",
      "3  0.998801  \n"
     ]
    }
   ],
   "source": [
    "models=['Logistic','Randon Forest', 'KNeighbors','Decision Tree']\n",
    "pd_scores=pd.DataFrame(data_all,columns=['model','train score','test score','test recall','test_auc','F1 Score'])\n",
    "print(pd_scores)"
   ]
  },
  {
   "cell_type": "markdown",
   "id": "24acf264-1aa6-41b0-baf5-ad6f8fd0dd4b",
   "metadata": {},
   "source": [
    "## Diagramas de Confiabilidade"
   ]
  },
  {
   "cell_type": "markdown",
   "id": "376197ec-c4aa-41d7-b261-7f2539ecf6da",
   "metadata": {},
   "source": [
    "Vizualização de quão bem calibradas as probabilidades previstas estão usando curvas de calibração nos modelos de treino"
   ]
  },
  {
   "cell_type": "code",
   "execution_count": 149,
   "id": "e36963ec-3690-4eb5-890f-e53652db9c17",
   "metadata": {},
   "outputs": [],
   "source": [
    "gnb = GaussianNB()\n",
    "gnb_isotonic = CalibratedClassifierCV(gnb, cv=2, method=\"isotonic\")\n",
    "gnb_sigmoid = CalibratedClassifierCV(gnb, cv=2, method=\"sigmoid\")\n",
    "\n",
    "clf_list = [\n",
    "    (lr, \"Logistic\"),\n",
    "    (rf, \"RandomForest\"),\n",
    "    (knn, \"KNeighbors\"),\n",
    "    (gnb, \"Naive Bayes\"),\n",
    "    (dt, \"DecisionTree\"),\n",
    "    (gnb_isotonic, \"Naive Bayes + Isotonic\"),\n",
    "    (gnb_sigmoid, \"Naive Bayes + Sigmoid\"),\n",
    "]\n",
    "\n"
   ]
  },
  {
   "cell_type": "code",
   "execution_count": 150,
   "id": "a57fb62b-f6b2-400a-b7ae-57a0a43549ab",
   "metadata": {},
   "outputs": [
    {
     "name": "stderr",
     "output_type": "stream",
     "text": [
      "C:\\Anaconda\\lib\\site-packages\\sklearn\\linear_model\\_logistic.py:444: ConvergenceWarning: lbfgs failed to converge (status=1):\n",
      "STOP: TOTAL NO. of ITERATIONS REACHED LIMIT.\n",
      "\n",
      "Increase the number of iterations (max_iter) or scale the data as shown in:\n",
      "    https://scikit-learn.org/stable/modules/preprocessing.html\n",
      "Please also refer to the documentation for alternative solver options:\n",
      "    https://scikit-learn.org/stable/modules/linear_model.html#logistic-regression\n",
      "  n_iter_i = _check_optimize_result(\n"
     ]
    },
    {
     "data": {
      "image/png": "[encoded data removed]",
      "text/plain": [
       "<Figure size 1008x1008 with 8 Axes>"
      ]
     },
     "metadata": {
      "needs_background": "light"
     },
     "output_type": "display_data"
    }
   ],
   "source": [
    "fig = plt.figure(figsize=(14, 14))\n",
    "gs = GridSpec(6, 2)\n",
    "colors = plt.cm.get_cmap(\"Dark2\")\n",
    "\n",
    "ax_calibration_curve = fig.add_subplot(gs[:2, :2])\n",
    "calibration_displays = {}\n",
    "for i, (clf, name) in enumerate(clf_list):\n",
    "    clf.fit(X_train, y_train)\n",
    "    display = CalibrationDisplay.from_estimator(\n",
    "        clf,\n",
    "        X_test,\n",
    "        y_test,\n",
    "        n_bins=10,\n",
    "        name=name,\n",
    "        ax=ax_calibration_curve,\n",
    "        color=colors(i),\n",
    "    )\n",
    "    calibration_displays[name] = display\n",
    "\n",
    "ax_calibration_curve.grid()\n",
    "ax_calibration_curve.set_title(\"Calibration plots (Naive Bayes)\")\n",
    "\n",
    "# Add histogram\n",
    "grid_positions = [(2, 0), (2, 1), (3, 0), (3, 1), (4, 0), (4, 1), (5, 0)]\n",
    "for i, (_, name) in enumerate(clf_list):\n",
    "    row, col = grid_positions[i]\n",
    "    ax = fig.add_subplot(gs[row, col])\n",
    "\n",
    "    ax.hist(\n",
    "        calibration_displays[name].y_prob,\n",
    "        range=(0, 1),\n",
    "        bins=10,\n",
    "        label=name,\n",
    "        color=colors(i),\n",
    "    )\n",
    "    ax.set(title=name, xlabel=\"Mean predicted probability\", ylabel=\"Count\")\n",
    "\n",
    "plt.tight_layout()\n",
    "plt.savefig(\"../Projeto-Integrador-III--Fraude-Cartao-Credito/img/CalibrationDisplay-plot.png\", dpi = 600 )\n",
    "plt.show()\n"
   ]
  },
  {
   "cell_type": "code",
   "execution_count": null,
   "id": "7c26a131-5e91-4eb8-9228-26417608bb45",
   "metadata": {},
   "outputs": [],
   "source": []
  },
  {
   "cell_type": "code",
   "execution_count": null,
   "id": "436dde0b-cac7-491d-afab-824b42482d59",
   "metadata": {},
   "outputs": [],
   "source": []
  }
 ],
 "metadata": {
  "kernelspec": {
   "display_name": "Python 3 (ipykernel)",
   "language": "python",
   "name": "python3"
  },
  "language_info": {
   "codemirror_mode": {
    "name": "ipython",
    "version": 3
   },
   "file_extension": ".py",
   "mimetype": "text/x-python",
   "name": "python",
   "nbconvert_exporter": "python",
   "pygments_lexer": "ipython3",
   "version": "3.8.12"
  }
 },
 "nbformat": 4,
 "nbformat_minor": 5
}
