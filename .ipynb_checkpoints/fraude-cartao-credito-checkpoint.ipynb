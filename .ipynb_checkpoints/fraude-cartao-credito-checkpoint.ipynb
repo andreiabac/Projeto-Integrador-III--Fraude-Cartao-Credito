{
 "cells": [
  {
   "cell_type": "code",
   "execution_count": null,
   "id": "ae1b30fb-edfe-4780-b256-7ebb2423e422",
   "metadata": {},
   "outputs": [],
   "source": [
    "import pandas as pd\n",
    "import numpy as np\n",
    "import seaborn as sns\n",
    "import matplotlib.pyplot as plt\n",
    "from matplotlib.gridspec import GridSpec\n",
    "%matplotlib inline\n",
    "from sklearn.model_selection import train_test_split\n",
    "from sklearn.ensemble import RandomForestClassifier \n",
    "from sklearn.neighbors import KNeighborsClassifier\n",
    "from sklearn.model_selection import cross_val_score, KFold\n",
    "from sklearn.linear_model import LogisticRegression\n",
    "from sklearn.tree import DecisionTreeClassifier\n",
    "from sklearn.naive_bayes import GaussianNB\n",
    "from sklearn.preprocessing import StandardScaler, MinMaxScaler\n",
    "from sklearn.metrics import confusion_matrix, accuracy_score, recall_score, roc_curve, auc, roc_auc_score, f1_score, mean_absolute_error, classification_report \n",
    "from sklearn.calibration import CalibratedClassifierCV, CalibrationDisplay"
   ]
  },
  {
   "cell_type": "markdown",
   "id": "b11cbc04-25ed-4854-a7b5-db09b677b534",
   "metadata": {},
   "source": [
    "Análise Exploratória dos Dados"
   ]
  },
  {
   "cell_type": "code",
   "execution_count": null,
   "id": "8cd52585-6006-48eb-b82e-1d0e687051f2",
   "metadata": {},
   "outputs": [],
   "source": [
    "data_location = \"../Projeto-Integrador-III--Fraude-Cartao-Credito/Data/card_transdata.csv\"\n",
    "data = pd.read_csv(data_location, sep = \",\")"
   ]
  },
  {
   "cell_type": "code",
   "execution_count": null,
   "id": "3ce93d3c-01bc-47f6-a5ce-082d5f4ac01c",
   "metadata": {},
   "outputs": [],
   "source": [
    "data.head()"
   ]
  },
  {
   "cell_type": "markdown",
   "id": "7f717698-33b2-4ad3-9f8a-487a444bb556",
   "metadata": {},
   "source": [
    "Verificando se há dados nulos"
   ]
  },
  {
   "cell_type": "code",
   "execution_count": null,
   "id": "74e35297-0d45-484d-a545-02935b5d052e",
   "metadata": {},
   "outputs": [],
   "source": [
    "data.isnull().sum()"
   ]
  },
  {
   "cell_type": "code",
   "execution_count": null,
   "id": "ef1495b6-6d93-4df3-bc7c-17e6e427b537",
   "metadata": {},
   "outputs": [],
   "source": [
    "data.fraud.unique()"
   ]
  },
  {
   "cell_type": "code",
   "execution_count": null,
   "id": "6e2c8bca-6048-409e-9a44-f2182b62c5f8",
   "metadata": {},
   "outputs": [],
   "source": [
    "print('\\nConjunto de dados, linhas e colunas\\n')\n",
    "print('The shape of the data set is:',data.shape)\n",
    "print('\\n---------------------------------------------\\n')\n",
    "\n",
    "print('\\nCheck valores nulos\\n')\n",
    "print('Checking for missing values: \\n')\n",
    "print(pd.isnull(data).sum())\n",
    "print('\\n---------------------------------------------\\n')\n",
    "\n",
    "print('\\nEstatísticas\\n')\n",
    "print(data.describe())\n",
    "print('\\n---------------------------------------------\\n')\n",
    "\n",
    "print('\\nInformações do dataset\\n')\n",
    "print(data.info())\n",
    "print('\\n---------------------------------------------\\n')\n",
    "\n",
    "print('\\nCheck balanceamento da target fraud\\n')\n",
    "print(data['fraud'].value_counts())\n",
    "print('\\n---------------------------------------------\\n')"
   ]
  },
  {
   "cell_type": "markdown",
   "id": "2de6d114-61be-4a48-8eef-907744670aba",
   "metadata": {},
   "source": [
    "Observando a distribuição dos dados"
   ]
  },
  {
   "cell_type": "code",
   "execution_count": null,
   "id": "bd2bbc27-7503-401d-bb4e-7689c446b3d8",
   "metadata": {},
   "outputs": [],
   "source": [
    "# Quais variáveis estão mais correlacionadas com a variável target?\n",
    "plt.figure(figsize = (20,10))\n",
    "plt.title('Correlation')\n",
    "sns.heatmap(data.corr(), \n",
    "            annot = True, \n",
    "            vmin = -1, \n",
    "            cmap = 'Blues'\n",
    "           );\n",
    "plt.savefig(\"Correlation1.png\", dpi = 600 )"
   ]
  },
  {
   "cell_type": "markdown",
   "id": "afa1c728-7c78-43f4-ab7f-8aae57526a2e",
   "metadata": {},
   "source": [
    "# Balanceamento da variável target"
   ]
  },
  {
   "cell_type": "code",
   "execution_count": null,
   "id": "99a2067a-6a1c-4592-9bdb-d8a959e687d3",
   "metadata": {},
   "outputs": [],
   "source": [
    "data['fraud'].value_counts(normalize = True)"
   ]
  },
  {
   "cell_type": "code",
   "execution_count": null,
   "id": "ef6490a1-5069-498d-a222-a1ebc5267a45",
   "metadata": {},
   "outputs": [],
   "source": [
    "data.fraud.value_counts()"
   ]
  },
  {
   "cell_type": "markdown",
   "id": "4d15612e-46ec-4a3e-aac2-a3a2ba9dd907",
   "metadata": {},
   "source": [
    "Verificamos que nesse conjunto apenas 8% dos dados são de cartões fraudados"
   ]
  },
  {
   "cell_type": "markdown",
   "id": "5e90c711-eace-4acf-bad6-7240d79a275d",
   "metadata": {},
   "source": [
    "Para resolver o problema do balanceamento vamos primeiramente criar dois datasets, um para os dados com frades e outro com dados sem fraude"
   ]
  },
  {
   "cell_type": "code",
   "execution_count": null,
   "id": "da8810d1-34b9-4a37-9984-774a3d6aeb05",
   "metadata": {},
   "outputs": [],
   "source": [
    "no_fraud=data[data.fraud == 0]\n",
    "fraud=data[data.fraud == 1]"
   ]
  },
  {
   "cell_type": "markdown",
   "id": "da5e3360-3c13-4144-ab36-71efdc9a6942",
   "metadata": {},
   "source": [
    "Pegando uma amostra de 5000 para cada cada dataset, com fraude e sem fraude"
   ]
  },
  {
   "cell_type": "code",
   "execution_count": null,
   "id": "b27228f4-d450-4cc8-9045-f23d844181fa",
   "metadata": {},
   "outputs": [],
   "source": [
    "dt_no_fraude_sample=no_fraud.sample(n=5000)\n",
    "dt_fraude_sample=fraud.sample(n=5000)"
   ]
  },
  {
   "cell_type": "markdown",
   "id": "309832c5-975a-4115-8889-8cf400855656",
   "metadata": {},
   "source": [
    "Criação de um novo dataset com as amostras criadas anteriormente"
   ]
  },
  {
   "cell_type": "code",
   "execution_count": null,
   "id": "9a89c5c3-7cb6-45d9-a189-ca8a28932cb0",
   "metadata": {},
   "outputs": [],
   "source": [
    "data_fraud=pd.concat([dt_no_fraude_sample,dt_fraude_sample],axis=0)"
   ]
  },
  {
   "cell_type": "code",
   "execution_count": null,
   "id": "2ba34efc-90d8-43ba-8912-8fbd816d3c00",
   "metadata": {},
   "outputs": [],
   "source": [
    "data_fraud['fraud'].value_counts(normalize = True)"
   ]
  },
  {
   "cell_type": "code",
   "execution_count": null,
   "id": "4a6e169e",
   "metadata": {},
   "outputs": [],
   "source": [
    "data_fraud.shape"
   ]
  },
  {
   "cell_type": "code",
   "execution_count": null,
   "id": "4f9b12c8-7eed-4f8e-b14f-0f6e663366f4",
   "metadata": {},
   "outputs": [],
   "source": [
    "data_fraud.corr()"
   ]
  },
  {
   "cell_type": "code",
   "execution_count": null,
   "id": "c75c08aa-c012-40c8-b6f5-a055f7814aab",
   "metadata": {},
   "outputs": [],
   "source": [
    "plt.figure(figsize = (8,12))\n",
    "plt.title('Correlation')\n",
    "sns.heatmap(data_fraud.corr()[['fraud']], \n",
    "            annot = True\n",
    "           );\n",
    "plt.savefig(\"Correlation2.png\", dpi = 600 )"
   ]
  },
  {
   "cell_type": "markdown",
   "id": "0b0e08e5-6e66-418a-a4e8-7383f29cc80d",
   "metadata": {},
   "source": [
    "Observando a distribuição dos dados"
   ]
  },
  {
   "cell_type": "code",
   "execution_count": null,
   "id": "7a54fada-89dc-4d69-990f-7cf844e3a374",
   "metadata": {},
   "outputs": [],
   "source": [
    "#sns.pairplot(data_fraud, \n",
    "#            hue = 'fraud'\n",
    "#             );"
   ]
  },
  {
   "cell_type": "markdown",
   "id": "62e820e6-89bd-4a9d-bdcb-315c6a7ae7cb",
   "metadata": {},
   "source": [
    "# Criação de uma lista vazia para armazenar as métricas dos modelos"
   ]
  },
  {
   "cell_type": "code",
   "execution_count": null,
   "id": "e8d233c4-df62-422c-b5af-44f95f8d6cee",
   "metadata": {},
   "outputs": [],
   "source": [
    "data_all=[]"
   ]
  },
  {
   "cell_type": "markdown",
   "id": "4714a785-190f-495e-a497-93b93615429d",
   "metadata": {},
   "source": [
    "# Definição das matriz features, variável varget"
   ]
  },
  {
   "cell_type": "markdown",
   "id": "e5fd2d73-c8f7-42e7-ba27-3eb2af4ae48e",
   "metadata": {},
   "source": [
    "Definindo a matriz de features e a variável target"
   ]
  },
  {
   "cell_type": "code",
   "execution_count": null,
   "id": "2007bba7-2ba3-4f32-9198-3407f7175bfd",
   "metadata": {},
   "outputs": [],
   "source": [
    "X = data_fraud.drop(columns=['fraud'],axis=1)\n",
    "y = data_fraud[\"fraud\"]"
   ]
  },
  {
   "cell_type": "markdown",
   "id": "3b7e6882-350c-47c5-9f70-988cb855afaa",
   "metadata": {},
   "source": [
    "# Split do dataset de treino e de teste"
   ]
  },
  {
   "cell_type": "code",
   "execution_count": null,
   "id": "f5e77529-5854-4341-8089-cf6c3c720d94",
   "metadata": {},
   "outputs": [],
   "source": [
    "X_train, X_test, y_train, y_test = train_test_split(X,y, stratify=y, random_state=12)"
   ]
  },
  {
   "cell_type": "markdown",
   "id": "08da24c8-b3fa-4e77-8501-e2b48377dfaf",
   "metadata": {
    "tags": []
   },
   "source": [
    "Padronização das features do modelos de treino e de teste"
   ]
  },
  {
   "cell_type": "code",
   "execution_count": null,
   "id": "e16e179f-395a-446d-a359-b5c692fb6bfb",
   "metadata": {},
   "outputs": [],
   "source": [
    "scaler = StandardScaler()\n",
    "X_train_std = scaler.fit_transform(X_train)\n",
    "X_test_std = scaler.transform(X_test)"
   ]
  },
  {
   "cell_type": "markdown",
   "id": "56d67a1b-35aa-4714-b65b-e7623c6ba148",
   "metadata": {},
   "source": [
    "# Modelo 1: Regressão Logística"
   ]
  },
  {
   "cell_type": "markdown",
   "id": "7198f1ac-f38a-40de-8830-fe9eb610efe3",
   "metadata": {},
   "source": [
    "Instanciando um objeto da classe LogisticRegression"
   ]
  },
  {
   "cell_type": "code",
   "execution_count": null,
   "id": "1c567eda-7c55-4fbd-9b92-a2677e116132",
   "metadata": {},
   "outputs": [],
   "source": [
    "lr = LogisticRegression()"
   ]
  },
  {
   "cell_type": "markdown",
   "id": "940dddb3-1d99-4626-b928-08f40f521d23",
   "metadata": {},
   "source": [
    "Ajuste do modelo"
   ]
  },
  {
   "cell_type": "code",
   "execution_count": null,
   "id": "db8f47db-a2af-46da-8b6a-b9c88fb3f947",
   "metadata": {},
   "outputs": [],
   "source": [
    "lr.fit(X_train_std, y_train)"
   ]
  },
  {
   "cell_type": "markdown",
   "id": "a5ec6dc5-2db0-4fa6-b987-a119a7c1bc2b",
   "metadata": {},
   "source": [
    "Visualização dos coeficientes"
   ]
  },
  {
   "cell_type": "code",
   "execution_count": null,
   "id": "a72ceba4-f2de-400d-86fc-1032939336d5",
   "metadata": {},
   "outputs": [],
   "source": [
    "print(lr.coef_)\n",
    "print(lr.intercept_)"
   ]
  },
  {
   "cell_type": "markdown",
   "id": "7ff82ad3-f004-4b58-b697-e86face76808",
   "metadata": {},
   "source": [
    "Previsão da acurácia com o modelo treinado"
   ]
  },
  {
   "cell_type": "code",
   "execution_count": null,
   "id": "07a9a067-871b-4cc9-b63b-82fe65bb489c",
   "metadata": {},
   "outputs": [],
   "source": [
    "score_train_lr = accuracy_score(y_train, lr.predict(X_train_std))\n",
    "print('Score train: ', score_train_lr)"
   ]
  },
  {
   "cell_type": "markdown",
   "id": "b60f87de-01c5-45af-9d74-46823752a94b",
   "metadata": {},
   "source": [
    "Matriz de confusão do modelo de treino"
   ]
  },
  {
   "cell_type": "code",
   "execution_count": null,
   "id": "d8feb701-6a50-4ba7-9c78-9580d51876b9",
   "metadata": {},
   "outputs": [],
   "source": [
    "sns.heatmap(confusion_matrix(y_train, lr.predict(X_train_std)), \n",
    "            annot = True, \n",
    "            fmt = '4d'\n",
    "           )\n",
    "\n",
    "plt.title('Confusion Matrix Logistic Regression - Train')\n",
    "plt.xlabel('Predict')\n",
    "plt.ylabel('Real');\n",
    "plt.savefig(\"confusion-LR-Train.png\", dpi = 600 )"
   ]
  },
  {
   "cell_type": "markdown",
   "id": "e318e44f-b724-4d85-8f12-17f419ce7644",
   "metadata": {},
   "source": [
    "Observamos que há uma acurácia de 94%, dos 3750 casos positivos de fraud 3588 foram fraudes verdadeiras. Isso implica que nosso classificador está dizendo 95% das detecções de fraudes são positivas."
   ]
  },
  {
   "cell_type": "markdown",
   "id": "2a1d2ca4-a95c-402f-a82e-680f9caa0498",
   "metadata": {},
   "source": [
    "Previsão da acurácia com o modelo de teste"
   ]
  },
  {
   "cell_type": "code",
   "execution_count": null,
   "id": "57c1d141-f074-4089-bdd7-be1eaae78aeb",
   "metadata": {},
   "outputs": [],
   "source": [
    "y_test_pred_lr = lr.predict(X_test_std)"
   ]
  },
  {
   "cell_type": "markdown",
   "id": "e0d47df8-5fa9-44dd-8b22-0e9b2345c59a",
   "metadata": {},
   "source": [
    "Acurácia do modelo de teste"
   ]
  },
  {
   "cell_type": "code",
   "execution_count": null,
   "id": "4334dcbe-cb06-4652-9206-b26961bbb251",
   "metadata": {},
   "outputs": [],
   "source": [
    "score_test_lr = accuracy_score(y_test, y_test_pred_lr)\n",
    "print('Score test: ', score_test_lr)"
   ]
  },
  {
   "cell_type": "markdown",
   "id": "6d60ae2c-66f9-42a9-b298-55622c08fdf0",
   "metadata": {},
   "source": [
    "Matriz de confusão do modelo de teste"
   ]
  },
  {
   "cell_type": "code",
   "execution_count": null,
   "id": "0321ca02-e3e1-4112-8e77-f9f80f1808f5",
   "metadata": {
    "tags": []
   },
   "outputs": [],
   "source": [
    "sns.heatmap(confusion_matrix(y_test, lr.predict(X_test_std)), \n",
    "            annot = True, \n",
    "            fmt = '4d'\n",
    "           )\n",
    "\n",
    "plt.title('Confusion Matrix Logistic Regression - Test')\n",
    "plt.xlabel('Predict')\n",
    "plt.ylabel('Real');\n",
    "plt.savefig(\"confusion-LR-test.png\", dpi = 600 )"
   ]
  },
  {
   "cell_type": "markdown",
   "id": "2e859d87-ca24-4cb5-9deb-fb1eef3c7aa5",
   "metadata": {},
   "source": [
    "Observamos que há uma acurácia de 94%, dos 1250 casos positivos de fraud 1188 foram fraudes verdadeiras. Isso implica que nosso classificador está dizendo 95% das detecções de fraudes são positivas."
   ]
  },
  {
   "cell_type": "markdown",
   "id": "ed26ad0d-3720-4b70-aef5-09fb9a3946cb",
   "metadata": {},
   "source": [
    "Métricas do modelo de teste"
   ]
  },
  {
   "cell_type": "code",
   "execution_count": null,
   "id": "6f3bf1e4-4288-4619-b863-3d6d10bd5cfa",
   "metadata": {},
   "outputs": [],
   "source": [
    "target_names=['No Fraud 0', 'Fraud 1']\n",
    "report_class = classification_report(y_test, y_test_pred_lr, target_names=target_names)\n",
    "print(\"Classification Report:\\n----------------------\\n\", report_class)"
   ]
  },
  {
   "cell_type": "markdown",
   "id": "399331de-fa55-4b69-bf30-d7febe192f86",
   "metadata": {},
   "source": [
    "Inserindo as métricas na lista para armazenamento"
   ]
  },
  {
   "cell_type": "code",
   "execution_count": null,
   "id": "abf72c9d-e98d-45fa-8c41-6a556b545caf",
   "metadata": {},
   "outputs": [],
   "source": [
    "m='Logistic Regression'\n",
    "test_recall_lr = recall_score(y_test, y_test_pred_lr, pos_label=1)\n",
    "fpr_lr, tpr_lr, thresholds = roc_curve(y_test, y_test_pred_lr, pos_label=1)\n",
    "test_auc_lr = auc(fpr_lr,tpr_lr)\n",
    "f1_score_lr = f1_score(y_test, y_test_pred_lr)\n",
    "data_all.append([m,score_train_lr,score_test_lr,test_recall_lr,test_auc_lr,f1_score_lr])"
   ]
  },
  {
   "cell_type": "markdown",
   "id": "af0550b0-cf56-4d70-8209-3ec22b02bd68",
   "metadata": {},
   "source": [
    "# Modelo 2: Randon Forest"
   ]
  },
  {
   "cell_type": "markdown",
   "id": "aceb6509-d6c5-4d3d-9237-9ba1eeb488ae",
   "metadata": {},
   "source": [
    "Instanciando a classe Randon Forest"
   ]
  },
  {
   "cell_type": "code",
   "execution_count": null,
   "id": "cdd09fa5-232e-4011-af82-f2b71c15152e",
   "metadata": {},
   "outputs": [],
   "source": [
    "rf=RandomForestClassifier()"
   ]
  },
  {
   "cell_type": "markdown",
   "id": "fb91dc72-856b-4eb7-9302-7439a24d30b3",
   "metadata": {},
   "source": [
    "Treino do modelo usando os conjuntos de treinamento y_pred=clf.predict(X_test)"
   ]
  },
  {
   "cell_type": "code",
   "execution_count": null,
   "id": "c527a47f-77fd-4f23-9c35-bbefac0614ab",
   "metadata": {},
   "outputs": [],
   "source": [
    "rf.fit(X_train_std, y_train)"
   ]
  },
  {
   "cell_type": "markdown",
   "id": "ef065c99-4f8d-4c4f-a35a-41acb36c1349",
   "metadata": {},
   "source": [
    "Previsão da acurácia com o modelo de teste"
   ]
  },
  {
   "cell_type": "code",
   "execution_count": null,
   "id": "aa2278a3-b346-4736-ad9e-8dc269f94713",
   "metadata": {},
   "outputs": [],
   "source": [
    "score_train_rf = accuracy_score(y_train, rf.predict(X_train_std))\n",
    "print('Score train: ', score_train_rf)"
   ]
  },
  {
   "cell_type": "markdown",
   "id": "73da44ac-9e83-4331-a25c-cdfa8a90bd21",
   "metadata": {},
   "source": [
    "Atribuindo A variável y_test_pred a previsão"
   ]
  },
  {
   "cell_type": "code",
   "execution_count": null,
   "id": "b7cc0e1b-9b31-474f-8031-466a0c857595",
   "metadata": {},
   "outputs": [],
   "source": [
    "y_test_pred_rf = rf.predict(X_test_std)"
   ]
  },
  {
   "cell_type": "markdown",
   "id": "74929443-ca3b-4182-8b27-40dfbed85fcc",
   "metadata": {},
   "source": [
    "Atribuindo a variável score_test a acurácia"
   ]
  },
  {
   "cell_type": "code",
   "execution_count": null,
   "id": "2c73e251-9ad6-4148-9816-04456a6c3561",
   "metadata": {},
   "outputs": [],
   "source": [
    "score_test_rf = accuracy_score(y_test, y_test_pred_rf)\n",
    "print('Score test: ', score_test_rf)"
   ]
  },
  {
   "cell_type": "markdown",
   "id": "d2aca1c4-6150-479a-9103-2a4bd8426848",
   "metadata": {},
   "source": [
    "Matriz de confusão do modelo de treino"
   ]
  },
  {
   "cell_type": "code",
   "execution_count": null,
   "id": "15e74e5f-9827-4da4-8ce7-d06a6230c9f7",
   "metadata": {},
   "outputs": [],
   "source": [
    "sns.heatmap(confusion_matrix(y_train, rf.predict(X_train_std)), \n",
    "            annot = True, \n",
    "            fmt = '4d'\n",
    "           )\n",
    "\n",
    "plt.title('Confusion Matrix Randon Forest - Train')\n",
    "plt.xlabel('Predict')\n",
    "plt.ylabel('Real');\n",
    "plt.savefig(\"confusion-RF-train.png\", dpi = 600 )"
   ]
  },
  {
   "cell_type": "markdown",
   "id": "2116d66b-0340-48fd-9b47-6356c9bd149d",
   "metadata": {},
   "source": [
    "Matriz de confusão do modelo de teste"
   ]
  },
  {
   "cell_type": "code",
   "execution_count": null,
   "id": "436c74e7-9fdf-4b37-ae25-0b1a59637faf",
   "metadata": {},
   "outputs": [],
   "source": [
    "sns.heatmap(confusion_matrix(y_test, rf.predict(X_test_std)), \n",
    "            annot = True, \n",
    "            fmt = '4d'\n",
    "           )\n",
    "\n",
    "plt.title('Confusion Matrix Randon Forest - Test')\n",
    "plt.xlabel('Predict')\n",
    "plt.ylabel('Real');\n",
    "plt.savefig(\"confusion-RF-test.png\", dpi = 600 )"
   ]
  },
  {
   "cell_type": "markdown",
   "id": "ded4a69c-ecad-406f-a9b4-b517b1d0cc48",
   "metadata": {},
   "source": [
    "Observando as métricas"
   ]
  },
  {
   "cell_type": "code",
   "execution_count": null,
   "id": "095e0d90-818a-4dd5-b54b-7a2f0b599799",
   "metadata": {},
   "outputs": [],
   "source": [
    "target_names=['No Fraud 0', 'Fraud 1']\n",
    "report_class = classification_report(y_test, y_test_pred_rf, target_names=target_names)\n",
    "print(\"Classification Report:\\n----------------------\\n\", report_class)"
   ]
  },
  {
   "cell_type": "markdown",
   "id": "6871d281-0929-4208-8481-c7d01497222d",
   "metadata": {},
   "source": [
    "Inserindo as métricas na lista para armazenamento"
   ]
  },
  {
   "cell_type": "code",
   "execution_count": null,
   "id": "1a0f9891-49b7-473b-85ed-643f450404fa",
   "metadata": {},
   "outputs": [],
   "source": [
    "m='Randon Forest'\n",
    "test_recall_rf = recall_score(y_test, y_test_pred_rf, pos_label=1)\n",
    "fpr_rf, tpr_rf, thresholds = roc_curve(y_test, y_test_pred_rf, pos_label=1)\n",
    "test_auc_rf = auc(fpr_rf,tpr_rf)\n",
    "f1_score_rf = f1_score(y_test, y_test_pred_rf)\n",
    "data_all.append([m,score_train_rf,score_test_rf,test_recall_rf,test_auc_rf,f1_score_rf])"
   ]
  },
  {
   "cell_type": "markdown",
   "id": "ec34f1c2",
   "metadata": {},
   "source": [
    "# Modelo 3: KNeighborsRegressor"
   ]
  },
  {
   "cell_type": "markdown",
   "id": "f484d622",
   "metadata": {},
   "source": [
    "Escolha da escolher metrica (Euclidean,  Manhattan ou Chebyshev)\n",
    "Escolher com quantos vizinhos a quantidade de vizinhos próximos pelo modelo de validação cruzada."
   ]
  },
  {
   "cell_type": "code",
   "execution_count": null,
   "id": "1efccb5a-130e-45a3-adbb-8659d0b70d36",
   "metadata": {},
   "outputs": [],
   "source": [
    "# Usamos cross validation co, 5 folds\n",
    "kf = KFold(n_splits = 5, shuffle = True, random_state = 12)\n",
    "scores_para_df = []\n",
    "for i in range(1, 26):\n",
    "# Em cada iteração, instanciamos o modelo com um hiperparâmetro diferente\n",
    "    model_euclidean = KNeighborsClassifier(metric = 'euclidean', n_neighbors = i)\n",
    "    model_manhattan = KNeighborsClassifier(metric = 'manhattan', n_neighbors = i)\n",
    "    model_chebyshev = KNeighborsClassifier(metric = 'chebyshev', n_neighbors = i)\n",
    "# cross_val_scores retorna uma matriz de 5 resultados,\n",
    "# um para cada partição que automaticamente criou CV\n",
    "    cv_scores = cross_val_score(model_euclidean, X_train_std, y_train, cv = kf)\n",
    "    cv_scores2 = cross_val_score(model_manhattan, X_train_std, y_train, cv = kf)\n",
    "    cv_scores3 = cross_val_score(model_chebyshev, X_train_std, y_train, cv = kf)\n",
    "# Para cada valor de n_neighbours, criamos um dicionário com o valor\n",
    "# de n_neighbours e a média das pontuações\n",
    "    dict_row_score = { 'n_neighbors': i, 'euclidean': np.mean(cv_scores),'manhattan': np.mean(cv_scores2),'chebyshev': np.mean(cv_scores3)}\n",
    "\n",
    "# Salvamos cada um na lista definida fora do loop\n",
    "    scores_para_df.append(dict_row_score)"
   ]
  },
  {
   "cell_type": "markdown",
   "id": "810527b1",
   "metadata": {},
   "source": [
    "De acordo com os vizinhos próximos as 3 melhores accuracy das metricas estão grifadas em amarelo"
   ]
  },
  {
   "cell_type": "code",
   "execution_count": null,
   "id": "943ddafe-a8cd-41ba-a1c2-c8e85715fa2e",
   "metadata": {},
   "outputs": [],
   "source": [
    "df_scores = pd.DataFrame(scores_para_df)"
   ]
  },
  {
   "cell_type": "code",
   "execution_count": null,
   "id": "dd05a37f",
   "metadata": {},
   "outputs": [],
   "source": [
    "df_scores.style.highlight_max(subset=['euclidean','manhattan','chebyshev'])"
   ]
  },
  {
   "cell_type": "markdown",
   "id": "39fa2b7d",
   "metadata": {},
   "source": [
    "Conforme identificado acima qual melhor parâmetro de distância e vizinhos se aplica ao modelo."
   ]
  },
  {
   "cell_type": "code",
   "execution_count": null,
   "id": "936599d2",
   "metadata": {},
   "outputs": [],
   "source": [
    "knn = KNeighborsClassifier(metric = 'euclidean', n_neighbors = 3)"
   ]
  },
  {
   "cell_type": "markdown",
   "id": "17bd2f38-5fee-4408-b549-f7a46a4f7337",
   "metadata": {},
   "source": [
    "Treino do modelo usando a distancia e métrica identificada"
   ]
  },
  {
   "cell_type": "code",
   "execution_count": null,
   "id": "69720f2c",
   "metadata": {},
   "outputs": [],
   "source": [
    "knn.fit(X_train_std, y_train);"
   ]
  },
  {
   "cell_type": "markdown",
   "id": "d6f872f8-d12b-45d4-9364-3f0ab1e4aa68",
   "metadata": {},
   "source": [
    "Previsão com o modelo de teste"
   ]
  },
  {
   "cell_type": "code",
   "execution_count": null,
   "id": "c1eff078",
   "metadata": {},
   "outputs": [],
   "source": [
    "y_test_pred_knn = knn.predict(X_test_std)"
   ]
  },
  {
   "cell_type": "markdown",
   "id": "e13ac802-d9fc-4d92-9069-485904e2a03f",
   "metadata": {},
   "source": [
    "Previsão valores e a acurácia"
   ]
  },
  {
   "cell_type": "code",
   "execution_count": null,
   "id": "d48e17d7-f17f-450f-a2a9-49904d42d230",
   "metadata": {},
   "outputs": [],
   "source": [
    "accuracy_score(y_test, y_test_pred_knn).round(4)"
   ]
  },
  {
   "cell_type": "code",
   "execution_count": null,
   "id": "250e12e7-00ed-44f8-bf30-206137d6e6cd",
   "metadata": {},
   "outputs": [],
   "source": [
    "score_train_knn = accuracy_score(y_train, knn.predict(X_train_std))\n",
    "print('Score train: ', score_train_knn)"
   ]
  },
  {
   "cell_type": "code",
   "execution_count": null,
   "id": "113420fd-1d76-47e9-8e4f-1ab4290bd3d6",
   "metadata": {},
   "outputs": [],
   "source": [
    "score_test_knn = accuracy_score(y_test, y_test_pred_knn)\n",
    "print('Score test: ', score_test_knn)"
   ]
  },
  {
   "cell_type": "markdown",
   "id": "f29cb5a9-42ec-4cf2-ab15-2145093ceff8",
   "metadata": {},
   "source": [
    "Matriz de confusão modelo treino"
   ]
  },
  {
   "cell_type": "code",
   "execution_count": null,
   "id": "4a14f145-1b83-4d6c-966b-1c5f0f472779",
   "metadata": {},
   "outputs": [],
   "source": [
    "sns.heatmap(confusion_matrix(y_train, knn.predict(X_train_std)), \n",
    "            annot = True, \n",
    "            fmt = '4d'\n",
    "           )\n",
    "\n",
    "plt.title('Confusion Matrix KNeighbors Regressor - Train')\n",
    "plt.xlabel('Predict')\n",
    "plt.ylabel('Real');\n",
    "plt.savefig(\"confusion-knn-train.png\", dpi = 600 )"
   ]
  },
  {
   "cell_type": "markdown",
   "id": "b2d85c04-faf9-4421-a1c8-d1c7b103822d",
   "metadata": {},
   "source": [
    "Matriz de confusão modelo teste"
   ]
  },
  {
   "cell_type": "code",
   "execution_count": null,
   "id": "e1df5d44",
   "metadata": {},
   "outputs": [],
   "source": [
    "confusion_matrix(y_test,y_test_pred_knn)"
   ]
  },
  {
   "cell_type": "code",
   "execution_count": null,
   "id": "5e4a2674",
   "metadata": {},
   "outputs": [],
   "source": [
    "sns.heatmap(confusion_matrix(y_test, knn.predict(X_test_std)), \n",
    "            annot = True, \n",
    "            fmt = '4d'\n",
    "           )\n",
    "\n",
    "plt.title('Confusion Matrix KNeighbors Regressor -  Test')\n",
    "plt.xlabel('Predict')\n",
    "plt.ylabel('Real');\n",
    "plt.savefig(\"confusion-knn-test.png\", dpi = 600 )"
   ]
  },
  {
   "cell_type": "markdown",
   "id": "b4d9b783-231f-467e-9ae2-075ee594fec3",
   "metadata": {},
   "source": [
    "Observando as métricas"
   ]
  },
  {
   "cell_type": "code",
   "execution_count": null,
   "id": "56569772",
   "metadata": {},
   "outputs": [],
   "source": [
    "target_names=['No Fraud 0', 'Fraud 1']\n",
    "report_class = classification_report(y_test, y_test_pred_knn, target_names=target_names)\n",
    "print(\"Classification Report:\\n----------------------\\n\", report_class)"
   ]
  },
  {
   "cell_type": "markdown",
   "id": "c5c05ede-1884-44ff-8133-6c4d6268c12f",
   "metadata": {},
   "source": [
    "Inserindo as métricas na lista para armazenamento"
   ]
  },
  {
   "cell_type": "code",
   "execution_count": null,
   "id": "2a2bc586-a12a-4f05-987c-c2ea77e93d41",
   "metadata": {},
   "outputs": [],
   "source": [
    "m='KNN'\n",
    "test_recall_knn = recall_score(y_test, y_test_pred_knn, pos_label=1)\n",
    "fpr_knn, tpr_knn, thresholds = roc_curve(y_test, y_test_pred_knn, pos_label=1)\n",
    "test_auc_knn = auc(fpr_knn,tpr_knn)\n",
    "f1_score_knn = f1_score(y_test, y_test_pred_knn)\n",
    "data_all.append([m,score_train_knn,score_test_knn,test_recall_knn,test_auc_knn,f1_score_knn])"
   ]
  },
  {
   "cell_type": "markdown",
   "id": "455cd2b6-23d6-4595-b743-03b89bda08fb",
   "metadata": {},
   "source": [
    "# Modelo 4: Decision Tree Classifier"
   ]
  },
  {
   "cell_type": "markdown",
   "id": "e7c69a08-cf97-4e05-b118-359fa907e80a",
   "metadata": {},
   "source": [
    "Intanciando a classe Decison Tree Classifier, definimos o random_state de 12"
   ]
  },
  {
   "cell_type": "code",
   "execution_count": null,
   "id": "1f4cf783-95d9-4550-9d92-afb9822b52ca",
   "metadata": {},
   "outputs": [],
   "source": [
    "dt = DecisionTreeClassifier(random_state=12)"
   ]
  },
  {
   "cell_type": "markdown",
   "id": "8dc84529-0b17-49bf-b941-93093b24cdb0",
   "metadata": {},
   "source": [
    "Treino do modelo "
   ]
  },
  {
   "cell_type": "code",
   "execution_count": null,
   "id": "b3e4f9db-a1f8-4625-ba36-7dbaad409ef9",
   "metadata": {},
   "outputs": [],
   "source": [
    "dt.fit(X_train_std, y_train)"
   ]
  },
  {
   "cell_type": "markdown",
   "id": "55c02f63-a036-4e72-b26b-e149de1dc78c",
   "metadata": {},
   "source": [
    "Previsão valores e a acurácia"
   ]
  },
  {
   "cell_type": "code",
   "execution_count": null,
   "id": "5d0e36b8-5b53-4ef9-82d8-c109553d1da2",
   "metadata": {},
   "outputs": [],
   "source": [
    "y_test_pred_dt = dt.predict(X_test_std)"
   ]
  },
  {
   "cell_type": "markdown",
   "id": "64fb8efe-b667-41dd-a7a4-5578b8d6ad1b",
   "metadata": {},
   "source": [
    "Previsão acurácia de treino"
   ]
  },
  {
   "cell_type": "code",
   "execution_count": null,
   "id": "fbeadd5f-2cc2-49d9-b263-66f1c8bb1435",
   "metadata": {},
   "outputs": [],
   "source": [
    "score_train_dt = accuracy_score(y_train, dt.predict(X_train_std))\n",
    "print('Score train: ', score_train_dt)"
   ]
  },
  {
   "cell_type": "markdown",
   "id": "3731e476-3885-4c0c-8c34-bf41f5818c53",
   "metadata": {},
   "source": [
    "Previsão acurácia de teste"
   ]
  },
  {
   "cell_type": "code",
   "execution_count": null,
   "id": "9a4d71ec-6211-446d-a3e8-159259959659",
   "metadata": {},
   "outputs": [],
   "source": [
    "score_test_dt = accuracy_score(y_test, y_test_pred_dt)\n",
    "print('Score test: ', score_test_dt)"
   ]
  },
  {
   "cell_type": "markdown",
   "id": "7716a392-16b9-4cc2-83e4-1d6cd78f244a",
   "metadata": {},
   "source": [
    "Imprimindo a media aboluta"
   ]
  },
  {
   "cell_type": "code",
   "execution_count": null,
   "id": "2bb721e6-d737-4541-9476-edb8e1b17bc5",
   "metadata": {},
   "outputs": [],
   "source": [
    "mean_abs_dt = mean_absolute_error(y_test, y_test_pred_dt)\n",
    "print('Mean Absolute Error: ', mean_abs_dt)"
   ]
  },
  {
   "cell_type": "markdown",
   "id": "105e9e7c-462d-4250-830b-e480ba7b6159",
   "metadata": {},
   "source": [
    "Criando a matriz de confusão modelo treino"
   ]
  },
  {
   "cell_type": "code",
   "execution_count": null,
   "id": "b6ebfb69-9d53-4de0-96fe-b62466e4ad1b",
   "metadata": {},
   "outputs": [],
   "source": [
    "sns.heatmap(confusion_matrix(y_train, dt.predict(X_train_std)), \n",
    "            annot = True, \n",
    "            fmt = '4d'\n",
    "           )\n",
    "\n",
    "plt.title('Confusion Matrix Decision Tree - Train')\n",
    "plt.xlabel('Predict')\n",
    "plt.ylabel('Real');\n",
    "plt.savefig(\"confusion-DT-train.png\", dpi = 600 )"
   ]
  },
  {
   "cell_type": "markdown",
   "id": "c4b1929b-27e5-4867-9afa-f0911918c1c2",
   "metadata": {},
   "source": [
    "Criando a matriz de confusão modelo teste"
   ]
  },
  {
   "cell_type": "code",
   "execution_count": null,
   "id": "507cd256-9ea0-4a3f-bab0-ad7ca6e24472",
   "metadata": {},
   "outputs": [],
   "source": [
    "sns.heatmap(confusion_matrix(y_test, dt.predict(X_test_std)), \n",
    "            annot = True, \n",
    "            fmt = '4d'\n",
    "           )\n",
    "\n",
    "plt.title('Confusion Matrix Decision Tree - Test')\n",
    "plt.xlabel('Predict')\n",
    "plt.ylabel('Real');\n",
    "plt.savefig(\"confusion-DT-test.png\", dpi = 600 )"
   ]
  },
  {
   "cell_type": "code",
   "execution_count": null,
   "id": "efe25972-3fc7-4ec9-8cf3-d65b7c5cf656",
   "metadata": {},
   "outputs": [],
   "source": [
    "target_names=['No Fraud 0', 'Fraud 1']\n",
    "report_class = classification_report(y_test, y_test_pred_dt, target_names=target_names)\n",
    "print(\"Classification Report:\\n----------------------\\n\", report_class)"
   ]
  },
  {
   "cell_type": "markdown",
   "id": "1f8dcf80-77f2-4f48-93d9-a79d644d0918",
   "metadata": {},
   "source": [
    "Inserindo as métricas na lista para armazenamento"
   ]
  },
  {
   "cell_type": "code",
   "execution_count": null,
   "id": "66db79ab-24aa-4858-893e-8bb0c5315919",
   "metadata": {},
   "outputs": [],
   "source": [
    "m='DT'\n",
    "test_recall_dt = recall_score(y_test, y_test_pred_dt, pos_label=1)\n",
    "fpr_dt, tpr_dt, thresholds = roc_curve(y_test, y_test_pred_dt, pos_label=1)\n",
    "test_auc_dt = auc(fpr_dt,tpr_dt)\n",
    "f1_score_dt = f1_score(y_test, y_test_pred_dt)\n",
    "data_all.append([m,score_train_dt,score_test_dt,test_recall_dt,test_auc_dt,f1_score_dt])"
   ]
  },
  {
   "cell_type": "markdown",
   "id": "1771643f-5e71-415e-b1e2-a0b1351e2126",
   "metadata": {},
   "source": [
    "### Calculando as probabilidades para a previsão "
   ]
  },
  {
   "cell_type": "code",
   "execution_count": null,
   "id": "bf1f85bc-4e24-482d-b57a-ae34bfcf85d2",
   "metadata": {},
   "outputs": [],
   "source": [
    "r_probs = [0 for _ in range (len(y_test))]\n",
    "lr_probs = lr.predict_proba(X_test_std)\n",
    "rf_probs = rf.predict_proba(X_test_std)\n",
    "knn_probs = knn.predict_proba(X_test_std)\n",
    "dt_probs = dt.predict_proba(X_test_std)"
   ]
  },
  {
   "cell_type": "code",
   "execution_count": null,
   "id": "1dd06b8b-cc8f-4d0b-b1b8-20a426938139",
   "metadata": {},
   "outputs": [],
   "source": [
    "lr_probs = lr_probs[:,1]\n",
    "rf_probs = rf_probs[:,1]\n",
    "knn_probs = knn_probs[:,1]\n",
    "dt_probs = dt_probs[:,1]"
   ]
  },
  {
   "cell_type": "code",
   "execution_count": null,
   "id": "f5a76f99-6ee0-4e02-b791-aef202145e53",
   "metadata": {},
   "outputs": [],
   "source": [
    "r_auc = roc_auc_score(y_test, r_probs)\n",
    "lr_auc = roc_auc_score(y_test, lr_probs)\n",
    "rf_auc = roc_auc_score(y_test, rf_probs)\n",
    "knn_auc = roc_auc_score(y_test, knn_probs)\n",
    "dt_auc = roc_auc_score(y_test, dt_probs)"
   ]
  },
  {
   "cell_type": "markdown",
   "id": "524080b6-d06f-4bfe-aead-2f547fdd4dce",
   "metadata": {},
   "source": [
    "Imprimindo AUROC scores com os modelos Logistic Regression, Randon Forest e Decision Tree"
   ]
  },
  {
   "cell_type": "code",
   "execution_count": null,
   "id": "8cb7e7a7-33f7-42cf-b33a-ef012ce2ae7e",
   "metadata": {},
   "outputs": [],
   "source": [
    "print('Random (chance) Prediction: AUROC = %.3f' % (r_auc))\n",
    "print('Logistic Regression: AUROC = %.3f' % (lr_auc))\n",
    "print('Random Forest: AUROC = %.3f' % (rf_auc))\n",
    "print('KNeighbors Regressor: AUROC = %.3f' % (knn_auc))\n",
    "print('Decision Tree: AUROC = %.3f' % (dt_auc))"
   ]
  },
  {
   "cell_type": "markdown",
   "id": "531cd698-4685-4059-9fe5-7483dfdc65bd",
   "metadata": {},
   "source": [
    "Calculando a Curva ROC dos modelos"
   ]
  },
  {
   "cell_type": "code",
   "execution_count": null,
   "id": "f782de80-0808-4d37-a0e7-f5a1b4a8f3de",
   "metadata": {},
   "outputs": [],
   "source": [
    "r_fpr, r_tpr, _ = roc_curve(y_test, r_probs)\n",
    "lr_fpr, lr_tpr, _ = roc_curve(y_test, lr_probs)\n",
    "rf_fpr, rf_tpr, _ = roc_curve(y_test, rf_probs)\n",
    "knn_fpr, knn_tpr, _ = roc_curve(y_test, rf_probs)\n",
    "dt_fpr, dt_tpr, _ = roc_curve(y_test, dt_probs)"
   ]
  },
  {
   "cell_type": "markdown",
   "id": "e7cfd2c0-c1b6-452a-8a05-d7ceb282386a",
   "metadata": {},
   "source": [
    "Plotando a curva ROC"
   ]
  },
  {
   "cell_type": "code",
   "execution_count": null,
   "id": "cdff0257-c71b-4c8a-99c5-38bb210c76a8",
   "metadata": {},
   "outputs": [],
   "source": [
    "plt.figure(figsize = (15,10))\n",
    "plt.plot(r_fpr, r_tpr, linestyle='--', label='Random prediction (AUROC = %0.3f)' % r_auc)\n",
    "plt.plot(lr_fpr, lr_tpr, marker='.', label='Logistic Regression (AUROC = %0.3f)' % lr_auc)\n",
    "plt.plot(rf_fpr, rf_tpr, marker='.', label='Random Forest (AUROC = %0.3f)' % rf_auc)\n",
    "plt.plot(knn_fpr, knn_tpr, marker='.', label='KNeighbors Regressor (AUROC = %0.3f)' % knn_auc)\n",
    "plt.plot(dt_fpr, dt_tpr, marker='.', label='Decision Tree (AUROC = %0.3f)' % dt_auc)\n",
    "\n",
    "\n",
    "# Title\n",
    "plt.title('ROC Plot')\n",
    "# Axis labels\n",
    "plt.xlabel('False Positive Rate')\n",
    "plt.ylabel('True Positive Rate')\n",
    "# Show legend\n",
    "plt.legend() # \n",
    "# Show plot\n",
    "plt.savefig(\"ROC-plot.png\", dpi = 600 )\n",
    "plt.show()"
   ]
  },
  {
   "cell_type": "markdown",
   "id": "e117bedb-e953-4821-92dc-eb327b4bc626",
   "metadata": {},
   "source": [
    "### Resumo das métricas dos modelos"
   ]
  },
  {
   "cell_type": "markdown",
   "id": "c875795b-23b2-470a-91ac-8aaae15eb8a0",
   "metadata": {},
   "source": [
    "Atribuindo nome das colunas no dataframe de métricas e imprimindo as informações de todos modelos."
   ]
  },
  {
   "cell_type": "code",
   "execution_count": null,
   "id": "ed698501-37ba-41f2-9148-1a9e4b2873cd",
   "metadata": {},
   "outputs": [],
   "source": [
    "models=['Logistic','Randon Forest', 'KNeighbors','Decision Tree']\n",
    "pd_scores=pd.DataFrame(data_all,columns=['model','train score','test score','test recall','test_auc','F1 Score'])\n",
    "print(pd_scores)"
   ]
  },
  {
   "cell_type": "markdown",
   "id": "24acf264-1aa6-41b0-baf5-ad6f8fd0dd4b",
   "metadata": {},
   "source": [
    "## Diagramas de Confiabilidade"
   ]
  },
  {
   "cell_type": "markdown",
   "id": "376197ec-c4aa-41d7-b261-7f2539ecf6da",
   "metadata": {},
   "source": [
    "Vizualização de quão bem calibradas as probabilidades previstas estão usando curvas de calibração nos modelos de treino"
   ]
  },
  {
   "cell_type": "code",
   "execution_count": null,
   "id": "e36963ec-3690-4eb5-890f-e53652db9c17",
   "metadata": {},
   "outputs": [],
   "source": [
    "gnb = GaussianNB()\n",
    "gnb_isotonic = CalibratedClassifierCV(gnb, cv=2, method=\"isotonic\")\n",
    "gnb_sigmoid = CalibratedClassifierCV(gnb, cv=2, method=\"sigmoid\")\n",
    "\n",
    "clf_list = [\n",
    "    (lr, \"Logistic\"),\n",
    "    (rf, \"RandomForest\"),\n",
    "    (knn, \"KNeighbors\"),\n",
    "    (gnb, \"Naive Bayes\"),\n",
    "    (dt, \"DecisionTree\"),\n",
    "    (gnb_isotonic, \"Naive Bayes + Isotonic\"),\n",
    "    (gnb_sigmoid, \"Naive Bayes + Sigmoid\"),\n",
    "]\n",
    "\n"
   ]
  },
  {
   "cell_type": "code",
   "execution_count": null,
   "id": "a57fb62b-f6b2-400a-b7ae-57a0a43549ab",
   "metadata": {},
   "outputs": [],
   "source": [
    "fig = plt.figure(figsize=(14, 14))\n",
    "gs = GridSpec(6, 2)\n",
    "colors = plt.cm.get_cmap(\"Dark2\")\n",
    "\n",
    "ax_calibration_curve = fig.add_subplot(gs[:2, :2])\n",
    "calibration_displays = {}\n",
    "for i, (clf, name) in enumerate(clf_list):\n",
    "    clf.fit(X_train, y_train)\n",
    "    display = CalibrationDisplay.from_estimator(\n",
    "        clf,\n",
    "        X_test,\n",
    "        y_test,\n",
    "        n_bins=10,\n",
    "        name=name,\n",
    "        ax=ax_calibration_curve,\n",
    "        color=colors(i),\n",
    "    )\n",
    "    calibration_displays[name] = display\n",
    "\n",
    "ax_calibration_curve.grid()\n",
    "ax_calibration_curve.set_title(\"Calibration plots (Naive Bayes)\")\n",
    "\n",
    "# Add histogram\n",
    "grid_positions = [(2, 0), (2, 1), (3, 0), (3, 1), (4, 0), (4, 1), (5, 0)]\n",
    "for i, (_, name) in enumerate(clf_list):\n",
    "    row, col = grid_positions[i]\n",
    "    ax = fig.add_subplot(gs[row, col])\n",
    "\n",
    "    ax.hist(\n",
    "        calibration_displays[name].y_prob,\n",
    "        range=(0, 1),\n",
    "        bins=10,\n",
    "        label=name,\n",
    "        color=colors(i),\n",
    "    )\n",
    "    ax.set(title=name, xlabel=\"Mean predicted probability\", ylabel=\"Count\")\n",
    "\n",
    "plt.tight_layout()\n",
    "plt.savefig(\"CalibrationDisplay-plot.png\", dpi = 600 )\n",
    "plt.show()\n"
   ]
  },
  {
   "cell_type": "code",
   "execution_count": null,
   "id": "7c26a131-5e91-4eb8-9228-26417608bb45",
   "metadata": {},
   "outputs": [],
   "source": []
  },
  {
   "cell_type": "code",
   "execution_count": null,
   "id": "436dde0b-cac7-491d-afab-824b42482d59",
   "metadata": {},
   "outputs": [],
   "source": []
  }
 ],
 "metadata": {
  "kernelspec": {
   "display_name": "Python 3 (ipykernel)",
   "language": "python",
   "name": "python3"
  },
  "language_info": {
   "codemirror_mode": {
    "name": "ipython",
    "version": 3
   },
   "file_extension": ".py",
   "mimetype": "text/x-python",
   "name": "python",
   "nbconvert_exporter": "python",
   "pygments_lexer": "ipython3",
   "version": "3.8.12"
  }
 },
 "nbformat": 4,
 "nbformat_minor": 5
}
