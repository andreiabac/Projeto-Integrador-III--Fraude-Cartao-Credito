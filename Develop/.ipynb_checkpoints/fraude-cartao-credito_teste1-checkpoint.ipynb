{
 "cells": [
  {
   "cell_type": "code",
   "execution_count": 96,
   "id": "ae1b30fb-edfe-4780-b256-7ebb2423e422",
   "metadata": {},
   "outputs": [],
   "source": [
    "import pandas as pd\n",
    "import numpy as np\n",
    "import seaborn as sns\n",
    "import matplotlib.pyplot as plt\n",
    "%matplotlib inline\n",
    "from sklearn.model_selection import train_test_split\n",
    "from sklearn.preprocessing import StandardScaler\n",
    "from sklearn.metrics import confusion_matrix, accuracy_score, recall_score, roc_curve, auc\n",
    "from sklearn.preprocessing import MinMaxScaler\n",
    "from sklearn.linear_model import LogisticRegression\n",
    "from sklearn.metrics import classification_report"
   ]
  },
  {
   "cell_type": "markdown",
   "id": "b11cbc04-25ed-4854-a7b5-db09b677b534",
   "metadata": {},
   "source": [
    "Análise Exploratória dos Dados"
   ]
  },
  {
   "cell_type": "code",
   "execution_count": 2,
   "id": "8cd52585-6006-48eb-b82e-1d0e687051f2",
   "metadata": {},
   "outputs": [],
   "source": [
    "data_location = \"../Projeto-Integrador-III--Fraude-Cartao-Credito/Data/card_transdata.csv\"\n",
    "data = pd.read_csv(data_location, sep = \",\")"
   ]
  },
  {
   "cell_type": "code",
   "execution_count": 3,
   "id": "3ce93d3c-01bc-47f6-a5ce-082d5f4ac01c",
   "metadata": {},
   "outputs": [
    {
     "data": {
      "text/html": [
       "<div>\n",
       "<style scoped>\n",
       "    .dataframe tbody tr th:only-of-type {\n",
       "        vertical-align: middle;\n",
       "    }\n",
       "\n",
       "    .dataframe tbody tr th {\n",
       "        vertical-align: top;\n",
       "    }\n",
       "\n",
       "    .dataframe thead th {\n",
       "        text-align: right;\n",
       "    }\n",
       "</style>\n",
       "<table border=\"1\" class=\"dataframe\">\n",
       "  <thead>\n",
       "    <tr style=\"text-align: right;\">\n",
       "      <th></th>\n",
       "      <th>distance_from_home</th>\n",
       "      <th>distance_from_last_transaction</th>\n",
       "      <th>ratio_to_median_purchase_price</th>\n",
       "      <th>repeat_retailer</th>\n",
       "      <th>used_chip</th>\n",
       "      <th>used_pin_number</th>\n",
       "      <th>online_order</th>\n",
       "      <th>fraud</th>\n",
       "    </tr>\n",
       "  </thead>\n",
       "  <tbody>\n",
       "    <tr>\n",
       "      <th>0</th>\n",
       "      <td>57.877857</td>\n",
       "      <td>0.311140</td>\n",
       "      <td>1.945940</td>\n",
       "      <td>1.0</td>\n",
       "      <td>1.0</td>\n",
       "      <td>0.0</td>\n",
       "      <td>0.0</td>\n",
       "      <td>0.0</td>\n",
       "    </tr>\n",
       "    <tr>\n",
       "      <th>1</th>\n",
       "      <td>10.829943</td>\n",
       "      <td>0.175592</td>\n",
       "      <td>1.294219</td>\n",
       "      <td>1.0</td>\n",
       "      <td>0.0</td>\n",
       "      <td>0.0</td>\n",
       "      <td>0.0</td>\n",
       "      <td>0.0</td>\n",
       "    </tr>\n",
       "    <tr>\n",
       "      <th>2</th>\n",
       "      <td>5.091079</td>\n",
       "      <td>0.805153</td>\n",
       "      <td>0.427715</td>\n",
       "      <td>1.0</td>\n",
       "      <td>0.0</td>\n",
       "      <td>0.0</td>\n",
       "      <td>1.0</td>\n",
       "      <td>0.0</td>\n",
       "    </tr>\n",
       "    <tr>\n",
       "      <th>3</th>\n",
       "      <td>2.247564</td>\n",
       "      <td>5.600044</td>\n",
       "      <td>0.362663</td>\n",
       "      <td>1.0</td>\n",
       "      <td>1.0</td>\n",
       "      <td>0.0</td>\n",
       "      <td>1.0</td>\n",
       "      <td>0.0</td>\n",
       "    </tr>\n",
       "    <tr>\n",
       "      <th>4</th>\n",
       "      <td>44.190936</td>\n",
       "      <td>0.566486</td>\n",
       "      <td>2.222767</td>\n",
       "      <td>1.0</td>\n",
       "      <td>1.0</td>\n",
       "      <td>0.0</td>\n",
       "      <td>1.0</td>\n",
       "      <td>0.0</td>\n",
       "    </tr>\n",
       "  </tbody>\n",
       "</table>\n",
       "</div>"
      ],
      "text/plain": [
       "   distance_from_home  distance_from_last_transaction  \\\n",
       "0           57.877857                        0.311140   \n",
       "1           10.829943                        0.175592   \n",
       "2            5.091079                        0.805153   \n",
       "3            2.247564                        5.600044   \n",
       "4           44.190936                        0.566486   \n",
       "\n",
       "   ratio_to_median_purchase_price  repeat_retailer  used_chip  \\\n",
       "0                        1.945940              1.0        1.0   \n",
       "1                        1.294219              1.0        0.0   \n",
       "2                        0.427715              1.0        0.0   \n",
       "3                        0.362663              1.0        1.0   \n",
       "4                        2.222767              1.0        1.0   \n",
       "\n",
       "   used_pin_number  online_order  fraud  \n",
       "0              0.0           0.0    0.0  \n",
       "1              0.0           0.0    0.0  \n",
       "2              0.0           1.0    0.0  \n",
       "3              0.0           1.0    0.0  \n",
       "4              0.0           1.0    0.0  "
      ]
     },
     "execution_count": 3,
     "metadata": {},
     "output_type": "execute_result"
    }
   ],
   "source": [
    "data.head()"
   ]
  },
  {
   "cell_type": "code",
   "execution_count": 4,
   "id": "6e2c8bca-6048-409e-9a44-f2182b62c5f8",
   "metadata": {},
   "outputs": [
    {
     "name": "stdout",
     "output_type": "stream",
     "text": [
      "\n",
      "Conjunto de dados, linhas e colunas\n",
      "\n",
      "The shape of the data set is: (1000000, 8)\n",
      "\n",
      "---------------------------------------------\n",
      "\n",
      "\n",
      "Check valores nulos\n",
      "\n",
      "Checking for missing values: \n",
      "\n",
      "distance_from_home                0\n",
      "distance_from_last_transaction    0\n",
      "ratio_to_median_purchase_price    0\n",
      "repeat_retailer                   0\n",
      "used_chip                         0\n",
      "used_pin_number                   0\n",
      "online_order                      0\n",
      "fraud                             0\n",
      "dtype: int64\n",
      "\n",
      "---------------------------------------------\n",
      "\n",
      "\n",
      "Estatísticas\n",
      "\n",
      "       distance_from_home  distance_from_last_transaction  \\\n",
      "count      1000000.000000                  1000000.000000   \n",
      "mean            26.628792                        5.036519   \n",
      "std             65.390784                       25.843093   \n",
      "min              0.004874                        0.000118   \n",
      "25%              3.878008                        0.296671   \n",
      "50%              9.967760                        0.998650   \n",
      "75%             25.743985                        3.355748   \n",
      "max          10632.723672                    11851.104565   \n",
      "\n",
      "       ratio_to_median_purchase_price  repeat_retailer       used_chip  \\\n",
      "count                  1000000.000000   1000000.000000  1000000.000000   \n",
      "mean                         1.824182         0.881536        0.350399   \n",
      "std                          2.799589         0.323157        0.477095   \n",
      "min                          0.004399         0.000000        0.000000   \n",
      "25%                          0.475673         1.000000        0.000000   \n",
      "50%                          0.997717         1.000000        0.000000   \n",
      "75%                          2.096370         1.000000        1.000000   \n",
      "max                        267.802942         1.000000        1.000000   \n",
      "\n",
      "       used_pin_number    online_order           fraud  \n",
      "count   1000000.000000  1000000.000000  1000000.000000  \n",
      "mean          0.100608        0.650552        0.087403  \n",
      "std           0.300809        0.476796        0.282425  \n",
      "min           0.000000        0.000000        0.000000  \n",
      "25%           0.000000        0.000000        0.000000  \n",
      "50%           0.000000        1.000000        0.000000  \n",
      "75%           0.000000        1.000000        0.000000  \n",
      "max           1.000000        1.000000        1.000000  \n",
      "\n",
      "---------------------------------------------\n",
      "\n",
      "\n",
      "Informações do dataset\n",
      "\n",
      "<class 'pandas.core.frame.DataFrame'>\n",
      "RangeIndex: 1000000 entries, 0 to 999999\n",
      "Data columns (total 8 columns):\n",
      " #   Column                          Non-Null Count    Dtype  \n",
      "---  ------                          --------------    -----  \n",
      " 0   distance_from_home              1000000 non-null  float64\n",
      " 1   distance_from_last_transaction  1000000 non-null  float64\n",
      " 2   ratio_to_median_purchase_price  1000000 non-null  float64\n",
      " 3   repeat_retailer                 1000000 non-null  float64\n",
      " 4   used_chip                       1000000 non-null  float64\n",
      " 5   used_pin_number                 1000000 non-null  float64\n",
      " 6   online_order                    1000000 non-null  float64\n",
      " 7   fraud                           1000000 non-null  float64\n",
      "dtypes: float64(8)\n",
      "memory usage: 61.0 MB\n",
      "None\n",
      "\n",
      "---------------------------------------------\n",
      "\n",
      "\n",
      "Check balanceamento da target fraud\n",
      "\n",
      "0.0    912597\n",
      "1.0     87403\n",
      "Name: fraud, dtype: int64\n",
      "\n",
      "---------------------------------------------\n",
      "\n"
     ]
    }
   ],
   "source": [
    "print('\\nConjunto de dados, linhas e colunas\\n')\n",
    "print('The shape of the data set is:',data.shape)\n",
    "print('\\n---------------------------------------------\\n')\n",
    "\n",
    "print('\\nCheck valores nulos\\n')\n",
    "print('Checking for missing values: \\n')\n",
    "print(pd.isnull(data).sum())\n",
    "print('\\n---------------------------------------------\\n')\n",
    "\n",
    "print('\\nEstatísticas\\n')\n",
    "print(data.describe())\n",
    "print('\\n---------------------------------------------\\n')\n",
    "\n",
    "print('\\nInformações do dataset\\n')\n",
    "print(data.info())\n",
    "print('\\n---------------------------------------------\\n')\n",
    "\n",
    "print('\\nCheck balanceamento da target fraud\\n')\n",
    "print(data['fraud'].value_counts())\n",
    "print('\\n---------------------------------------------\\n')"
   ]
  },
  {
   "cell_type": "markdown",
   "id": "2de6d114-61be-4a48-8eef-907744670aba",
   "metadata": {},
   "source": [
    "Observando a distribuição dos dados"
   ]
  },
  {
   "cell_type": "code",
   "execution_count": 5,
   "id": "e9d36099-22b6-44d5-ae0a-68702e128364",
   "metadata": {},
   "outputs": [],
   "source": [
    "#sns.pairplot(data, \n",
    "#             hue = 'fraud'\n",
    "#            );"
   ]
  },
  {
   "cell_type": "markdown",
   "id": "afa1c728-7c78-43f4-ab7f-8aae57526a2e",
   "metadata": {},
   "source": [
    "# Balanceamento da variável target"
   ]
  },
  {
   "cell_type": "code",
   "execution_count": 6,
   "id": "99a2067a-6a1c-4592-9bdb-d8a959e687d3",
   "metadata": {},
   "outputs": [
    {
     "data": {
      "text/plain": [
       "0.0    0.912597\n",
       "1.0    0.087403\n",
       "Name: fraud, dtype: float64"
      ]
     },
     "execution_count": 6,
     "metadata": {},
     "output_type": "execute_result"
    }
   ],
   "source": [
    "data['fraud'].value_counts(normalize = True)"
   ]
  },
  {
   "cell_type": "markdown",
   "id": "4d15612e-46ec-4a3e-aac2-a3a2ba9dd907",
   "metadata": {},
   "source": [
    "Verificamos que nesse conjunto apenas 8% dos dados são de cartões fraudados"
   ]
  },
  {
   "cell_type": "markdown",
   "id": "b528f9aa-b150-45fc-a469-3b7acae69d90",
   "metadata": {},
   "source": [
    "Observando a distribuição dos dados"
   ]
  },
  {
   "cell_type": "markdown",
   "id": "5e90c711-eace-4acf-bad6-7240d79a275d",
   "metadata": {},
   "source": [
    "Para resolver o problema do balanceamento vamos primeiramente criar dois datasets, um para os dados com frades e outro com dados sem fraude"
   ]
  },
  {
   "cell_type": "code",
   "execution_count": 7,
   "id": "da8810d1-34b9-4a37-9984-774a3d6aeb05",
   "metadata": {},
   "outputs": [],
   "source": [
    "no_fraud=data[data.fraud == 0]\n",
    "fraud=data[data.fraud == 1]"
   ]
  },
  {
   "cell_type": "markdown",
   "id": "da5e3360-3c13-4144-ab36-71efdc9a6942",
   "metadata": {},
   "source": [
    "Pegando uma amostra de 5000 para cada cada dataset, com fraude e sem fraude"
   ]
  },
  {
   "cell_type": "code",
   "execution_count": 10,
   "id": "b27228f4-d450-4cc8-9045-f23d844181fa",
   "metadata": {},
   "outputs": [],
   "source": [
    "dt_no_fraude_sample=no_fraud.sample(n=5000)\n",
    "dt_fraude_sample=fraud.sample(n=5000)"
   ]
  },
  {
   "cell_type": "markdown",
   "id": "309832c5-975a-4115-8889-8cf400855656",
   "metadata": {},
   "source": [
    "Criação de um novo dataset com as amostras criadas anteriormente"
   ]
  },
  {
   "cell_type": "code",
   "execution_count": 11,
   "id": "9a89c5c3-7cb6-45d9-a189-ca8a28932cb0",
   "metadata": {},
   "outputs": [],
   "source": [
    "data_fraud=pd.concat([dt_no_fraude_sample,dt_fraude_sample],axis=0)"
   ]
  },
  {
   "cell_type": "code",
   "execution_count": 12,
   "id": "2ba34efc-90d8-43ba-8912-8fbd816d3c00",
   "metadata": {},
   "outputs": [
    {
     "data": {
      "text/plain": [
       "0.0    0.5\n",
       "1.0    0.5\n",
       "Name: fraud, dtype: float64"
      ]
     },
     "execution_count": 12,
     "metadata": {},
     "output_type": "execute_result"
    }
   ],
   "source": [
    "data_fraud['fraud'].value_counts(normalize = True)"
   ]
  },
  {
   "cell_type": "code",
   "execution_count": 13,
   "id": "4f9b12c8-7eed-4f8e-b14f-0f6e663366f4",
   "metadata": {},
   "outputs": [
    {
     "data": {
      "text/html": [
       "<div>\n",
       "<style scoped>\n",
       "    .dataframe tbody tr th:only-of-type {\n",
       "        vertical-align: middle;\n",
       "    }\n",
       "\n",
       "    .dataframe tbody tr th {\n",
       "        vertical-align: top;\n",
       "    }\n",
       "\n",
       "    .dataframe thead th {\n",
       "        text-align: right;\n",
       "    }\n",
       "</style>\n",
       "<table border=\"1\" class=\"dataframe\">\n",
       "  <thead>\n",
       "    <tr style=\"text-align: right;\">\n",
       "      <th></th>\n",
       "      <th>distance_from_home</th>\n",
       "      <th>distance_from_last_transaction</th>\n",
       "      <th>ratio_to_median_purchase_price</th>\n",
       "      <th>repeat_retailer</th>\n",
       "      <th>used_chip</th>\n",
       "      <th>used_pin_number</th>\n",
       "      <th>online_order</th>\n",
       "      <th>fraud</th>\n",
       "    </tr>\n",
       "  </thead>\n",
       "  <tbody>\n",
       "    <tr>\n",
       "      <th>distance_from_home</th>\n",
       "      <td>1.000000</td>\n",
       "      <td>-0.021910</td>\n",
       "      <td>-0.083728</td>\n",
       "      <td>0.174320</td>\n",
       "      <td>-0.106320</td>\n",
       "      <td>-0.030136</td>\n",
       "      <td>0.069126</td>\n",
       "      <td>0.221974</td>\n",
       "    </tr>\n",
       "    <tr>\n",
       "      <th>distance_from_last_transaction</th>\n",
       "      <td>-0.021910</td>\n",
       "      <td>1.000000</td>\n",
       "      <td>-0.044499</td>\n",
       "      <td>-0.012492</td>\n",
       "      <td>-0.045420</td>\n",
       "      <td>-0.031970</td>\n",
       "      <td>0.022678</td>\n",
       "      <td>0.130282</td>\n",
       "    </tr>\n",
       "    <tr>\n",
       "      <th>ratio_to_median_purchase_price</th>\n",
       "      <td>-0.083728</td>\n",
       "      <td>-0.044499</td>\n",
       "      <td>1.000000</td>\n",
       "      <td>-0.049309</td>\n",
       "      <td>0.029302</td>\n",
       "      <td>-0.103094</td>\n",
       "      <td>0.140356</td>\n",
       "      <td>0.510013</td>\n",
       "    </tr>\n",
       "    <tr>\n",
       "      <th>repeat_retailer</th>\n",
       "      <td>0.174320</td>\n",
       "      <td>-0.012492</td>\n",
       "      <td>-0.049309</td>\n",
       "      <td>1.000000</td>\n",
       "      <td>-0.011454</td>\n",
       "      <td>0.002161</td>\n",
       "      <td>0.076219</td>\n",
       "      <td>-0.013143</td>\n",
       "    </tr>\n",
       "    <tr>\n",
       "      <th>used_chip</th>\n",
       "      <td>-0.106320</td>\n",
       "      <td>-0.045420</td>\n",
       "      <td>0.029302</td>\n",
       "      <td>-0.011454</td>\n",
       "      <td>1.000000</td>\n",
       "      <td>0.000454</td>\n",
       "      <td>-0.026611</td>\n",
       "      <td>-0.112615</td>\n",
       "    </tr>\n",
       "    <tr>\n",
       "      <th>used_pin_number</th>\n",
       "      <td>-0.030136</td>\n",
       "      <td>-0.031970</td>\n",
       "      <td>-0.103094</td>\n",
       "      <td>0.002161</td>\n",
       "      <td>0.000454</td>\n",
       "      <td>1.000000</td>\n",
       "      <td>-0.074607</td>\n",
       "      <td>-0.237310</td>\n",
       "    </tr>\n",
       "    <tr>\n",
       "      <th>online_order</th>\n",
       "      <td>0.069126</td>\n",
       "      <td>0.022678</td>\n",
       "      <td>0.140356</td>\n",
       "      <td>0.076219</td>\n",
       "      <td>-0.026611</td>\n",
       "      <td>-0.074607</td>\n",
       "      <td>1.000000</td>\n",
       "      <td>0.384745</td>\n",
       "    </tr>\n",
       "    <tr>\n",
       "      <th>fraud</th>\n",
       "      <td>0.221974</td>\n",
       "      <td>0.130282</td>\n",
       "      <td>0.510013</td>\n",
       "      <td>-0.013143</td>\n",
       "      <td>-0.112615</td>\n",
       "      <td>-0.237310</td>\n",
       "      <td>0.384745</td>\n",
       "      <td>1.000000</td>\n",
       "    </tr>\n",
       "  </tbody>\n",
       "</table>\n",
       "</div>"
      ],
      "text/plain": [
       "                                distance_from_home  \\\n",
       "distance_from_home                        1.000000   \n",
       "distance_from_last_transaction           -0.021910   \n",
       "ratio_to_median_purchase_price           -0.083728   \n",
       "repeat_retailer                           0.174320   \n",
       "used_chip                                -0.106320   \n",
       "used_pin_number                          -0.030136   \n",
       "online_order                              0.069126   \n",
       "fraud                                     0.221974   \n",
       "\n",
       "                                distance_from_last_transaction  \\\n",
       "distance_from_home                                   -0.021910   \n",
       "distance_from_last_transaction                        1.000000   \n",
       "ratio_to_median_purchase_price                       -0.044499   \n",
       "repeat_retailer                                      -0.012492   \n",
       "used_chip                                            -0.045420   \n",
       "used_pin_number                                      -0.031970   \n",
       "online_order                                          0.022678   \n",
       "fraud                                                 0.130282   \n",
       "\n",
       "                                ratio_to_median_purchase_price  \\\n",
       "distance_from_home                                   -0.083728   \n",
       "distance_from_last_transaction                       -0.044499   \n",
       "ratio_to_median_purchase_price                        1.000000   \n",
       "repeat_retailer                                      -0.049309   \n",
       "used_chip                                             0.029302   \n",
       "used_pin_number                                      -0.103094   \n",
       "online_order                                          0.140356   \n",
       "fraud                                                 0.510013   \n",
       "\n",
       "                                repeat_retailer  used_chip  used_pin_number  \\\n",
       "distance_from_home                     0.174320  -0.106320        -0.030136   \n",
       "distance_from_last_transaction        -0.012492  -0.045420        -0.031970   \n",
       "ratio_to_median_purchase_price        -0.049309   0.029302        -0.103094   \n",
       "repeat_retailer                        1.000000  -0.011454         0.002161   \n",
       "used_chip                             -0.011454   1.000000         0.000454   \n",
       "used_pin_number                        0.002161   0.000454         1.000000   \n",
       "online_order                           0.076219  -0.026611        -0.074607   \n",
       "fraud                                 -0.013143  -0.112615        -0.237310   \n",
       "\n",
       "                                online_order     fraud  \n",
       "distance_from_home                  0.069126  0.221974  \n",
       "distance_from_last_transaction      0.022678  0.130282  \n",
       "ratio_to_median_purchase_price      0.140356  0.510013  \n",
       "repeat_retailer                     0.076219 -0.013143  \n",
       "used_chip                          -0.026611 -0.112615  \n",
       "used_pin_number                    -0.074607 -0.237310  \n",
       "online_order                        1.000000  0.384745  \n",
       "fraud                               0.384745  1.000000  "
      ]
     },
     "execution_count": 13,
     "metadata": {},
     "output_type": "execute_result"
    }
   ],
   "source": [
    "data_fraud.corr()"
   ]
  },
  {
   "cell_type": "code",
   "execution_count": 14,
   "id": "c75c08aa-c012-40c8-b6f5-a055f7814aab",
   "metadata": {},
   "outputs": [
    {
     "data": {
      "image/png": "[encoded data removed]",
      "text/plain": [
       "<Figure size 576x864 with 2 Axes>"
      ]
     },
     "metadata": {
      "needs_background": "light"
     },
     "output_type": "display_data"
    }
   ],
   "source": [
    "plt.figure(figsize = (8,12))\n",
    "sns.heatmap(data_fraud.corr()[['fraud']], \n",
    "            annot = True\n",
    "           );"
   ]
  },
  {
   "cell_type": "markdown",
   "id": "56d67a1b-35aa-4714-b65b-e7623c6ba148",
   "metadata": {},
   "source": [
    "# Regressão Logística"
   ]
  },
  {
   "cell_type": "markdown",
   "id": "7198f1ac-f38a-40de-8830-fe9eb610efe3",
   "metadata": {},
   "source": [
    "Instanciando um objeto da classe LogisticRegression"
   ]
  },
  {
   "cell_type": "code",
   "execution_count": 97,
   "id": "1c567eda-7c55-4fbd-9b92-a2677e116132",
   "metadata": {},
   "outputs": [],
   "source": [
    "lr = LogisticRegression()"
   ]
  },
  {
   "cell_type": "markdown",
   "id": "89093000-41de-4007-821b-2b0fdff4ff60",
   "metadata": {},
   "source": [
    "Definindo a matriz de features e a variável target"
   ]
  },
  {
   "cell_type": "code",
   "execution_count": 98,
   "id": "2007bba7-2ba3-4f32-9198-3407f7175bfd",
   "metadata": {},
   "outputs": [],
   "source": [
    "X = data_fraud.drop(columns=['fraud'],axis=1)\n",
    "y = data_fraud[\"fraud\"]"
   ]
  },
  {
   "cell_type": "markdown",
   "id": "aba0d182-2b12-42b1-9aeb-6d4e6cd205b6",
   "metadata": {},
   "source": [
    "Split do dataset de treino e de teste"
   ]
  },
  {
   "cell_type": "code",
   "execution_count": 99,
   "id": "c5e2d1af-dd76-4008-92d4-a3e0f34d34a9",
   "metadata": {},
   "outputs": [],
   "source": [
    "X_train, X_test, y_train, y_test = train_test_split(X,y, stratify=y, random_state=12)"
   ]
  },
  {
   "cell_type": "markdown",
   "id": "c7302914-7f1a-47a1-a94d-9fa849517218",
   "metadata": {},
   "source": [
    "Verificando se as proporções da variável target no treino e teste são correspondentes"
   ]
  },
  {
   "cell_type": "code",
   "execution_count": 100,
   "id": "2028904c-05e7-4c2d-9660-aa57280eddf7",
   "metadata": {},
   "outputs": [
    {
     "data": {
      "text/plain": [
       "(0.5, 0.5)"
      ]
     },
     "execution_count": 100,
     "metadata": {},
     "output_type": "execute_result"
    }
   ],
   "source": [
    "y_train.mean(), y_test.mean()"
   ]
  },
  {
   "cell_type": "markdown",
   "id": "9af3f328-8587-4bca-990a-1a37136cbdc1",
   "metadata": {},
   "source": [
    "Check dos dataset de treino e teste"
   ]
  },
  {
   "cell_type": "code",
   "execution_count": 101,
   "id": "854e217d-be11-4ea2-ad7e-82ef99dced7d",
   "metadata": {},
   "outputs": [
    {
     "name": "stdout",
     "output_type": "stream",
     "text": [
      "X_train: (7500, 7)\n",
      "y_train: (7500,)\n",
      "X_test: (2500, 7)\n",
      "y_test: (2500,)\n"
     ]
    }
   ],
   "source": [
    "print('X_train:',X_train.shape)\n",
    "print('y_train:',y_train.shape)\n",
    "print('X_test:',X_test.shape)\n",
    "print('y_test:',y_test.shape)"
   ]
  },
  {
   "cell_type": "markdown",
   "id": "bf7c8b51-2fdb-41b5-a1d2-f5d8b03121c6",
   "metadata": {},
   "source": [
    "Padronização das features do modelosd e treino e de teste"
   ]
  },
  {
   "cell_type": "code",
   "execution_count": 102,
   "id": "56c4ecfd-8bbf-4187-9f74-93f3877bf007",
   "metadata": {},
   "outputs": [],
   "source": [
    "scaler = StandardScaler()\n",
    "X_train_std = scaler.fit_transform(X_train)\n",
    "X_test_std = scaler.transform(X_test)"
   ]
  },
  {
   "cell_type": "markdown",
   "id": "940dddb3-1d99-4626-b928-08f40f521d23",
   "metadata": {},
   "source": [
    "Ajuste do modelo"
   ]
  },
  {
   "cell_type": "code",
   "execution_count": 103,
   "id": "db8f47db-a2af-46da-8b6a-b9c88fb3f947",
   "metadata": {},
   "outputs": [
    {
     "data": {
      "text/plain": [
       "LogisticRegression()"
      ]
     },
     "execution_count": 103,
     "metadata": {},
     "output_type": "execute_result"
    }
   ],
   "source": [
    "lr.fit(X_train_std, y_train)"
   ]
  },
  {
   "cell_type": "markdown",
   "id": "a5ec6dc5-2db0-4fa6-b987-a119a7c1bc2b",
   "metadata": {},
   "source": [
    "Visualização dos coeficientes"
   ]
  },
  {
   "cell_type": "code",
   "execution_count": 104,
   "id": "a72ceba4-f2de-400d-86fc-1032939336d5",
   "metadata": {},
   "outputs": [
    {
     "name": "stdout",
     "output_type": "stream",
     "text": [
      "[[ 2.81528201  1.62130559  5.73782239 -0.50465977 -0.62921161 -3.37362923\n",
      "   2.1340336 ]]\n",
      "[0.06562332]\n"
     ]
    }
   ],
   "source": [
    "print(lr.coef_)\n",
    "print(lr.intercept_)"
   ]
  },
  {
   "cell_type": "markdown",
   "id": "7ff82ad3-f004-4b58-b697-e86face76808",
   "metadata": {},
   "source": [
    "Previsão da acurácia com o modelo treinado"
   ]
  },
  {
   "cell_type": "code",
   "execution_count": 105,
   "id": "07a9a067-871b-4cc9-b63b-82fe65bb489c",
   "metadata": {},
   "outputs": [
    {
     "data": {
      "text/plain": [
       "0.9416"
      ]
     },
     "execution_count": 105,
     "metadata": {},
     "output_type": "execute_result"
    }
   ],
   "source": [
    "accuracy_score(y_train, lr.predict(X_train_std))"
   ]
  },
  {
   "cell_type": "markdown",
   "id": "b60f87de-01c5-45af-9d74-46823752a94b",
   "metadata": {},
   "source": [
    "Matriz de confusão do modelo de treino"
   ]
  },
  {
   "cell_type": "code",
   "execution_count": 106,
   "id": "d8feb701-6a50-4ba7-9c78-9580d51876b9",
   "metadata": {},
   "outputs": [
    {
     "data": {
      "image/png": "[encoded data removed]",
      "text/plain": [
       "<Figure size 432x288 with 2 Axes>"
      ]
     },
     "metadata": {
      "needs_background": "light"
     },
     "output_type": "display_data"
    }
   ],
   "source": [
    "sns.heatmap(confusion_matrix(y_train, lr.predict(X_train_std)), \n",
    "            annot = True, \n",
    "            fmt = '4d'\n",
    "           )\n",
    "\n",
    "plt.xlabel('Previstos')\n",
    "plt.ylabel('Reais');"
   ]
  },
  {
   "cell_type": "markdown",
   "id": "e318e44f-b724-4d85-8f12-17f419ce7644",
   "metadata": {},
   "source": [
    "Observamos que há uma acurácia de 94%, porém dos 3750 casos positivos, e que 3588 (95%) estão sendo detectados. Isso implica que nosso classificador está dizendo 95% das detecções de fraudes são positivas."
   ]
  },
  {
   "cell_type": "markdown",
   "id": "2a1d2ca4-a95c-402f-a82e-680f9caa0498",
   "metadata": {},
   "source": [
    "Previsão da acurácia com o modelo de teste"
   ]
  },
  {
   "cell_type": "code",
   "execution_count": 108,
   "id": "4334dcbe-cb06-4652-9206-b26961bbb251",
   "metadata": {},
   "outputs": [
    {
     "name": "stdout",
     "output_type": "stream",
     "text": [
      "0.9416\n"
     ]
    }
   ],
   "source": [
    "test_pred=accuracy_score(y_test, lr.predict(X_test_std))\n",
    "print(test_pred)"
   ]
  },
  {
   "cell_type": "markdown",
   "id": "6d60ae2c-66f9-42a9-b298-55622c08fdf0",
   "metadata": {},
   "source": [
    "Matriz de confusão do modelo de teste"
   ]
  },
  {
   "cell_type": "code",
   "execution_count": 109,
   "id": "0321ca02-e3e1-4112-8e77-f9f80f1808f5",
   "metadata": {
    "tags": []
   },
   "outputs": [
    {
     "data": {
      "image/png": "[encoded data removed]",
      "text/plain": [
       "<Figure size 432x288 with 2 Axes>"
      ]
     },
     "metadata": {
      "needs_background": "light"
     },
     "output_type": "display_data"
    }
   ],
   "source": [
    "sns.heatmap(confusion_matrix(y_test, lr.predict(X_test_std)), \n",
    "            annot = True, \n",
    "            fmt = '4d'\n",
    "           )\n",
    "\n",
    "plt.xlabel('Previstos')\n",
    "plt.ylabel('Reais');"
   ]
  },
  {
   "cell_type": "markdown",
   "id": "2e859d87-ca24-4cb5-9deb-fb1eef3c7aa5",
   "metadata": {},
   "source": [
    "Observamos que há uma acurácia de 94%. No teste também notamos que dos 1250 casos positivos, 1188 (95%) são detectadas como fruades verdadeiras. "
   ]
  },
  {
   "cell_type": "code",
   "execution_count": 110,
   "id": "8ccf4fbe-e878-433e-a147-75f8050905aa",
   "metadata": {},
   "outputs": [
    {
     "ename": "TypeError",
     "evalue": "Singleton array 0.9416 cannot be considered a valid collection.",
     "output_type": "error",
     "traceback": [
      "\u001b[1;31m---------------------------------------------------------------------------\u001b[0m",
      "\u001b[1;31mTypeError\u001b[0m                                 Traceback (most recent call last)",
      "\u001b[1;32mC:\\Users\\ANDREI~1\\AppData\\Local\\Temp/ipykernel_22852/406930428.py\u001b[0m in \u001b[0;36m<module>\u001b[1;34m\u001b[0m\n\u001b[1;32m----> 1\u001b[1;33m \u001b[0mreport_class\u001b[0m \u001b[1;33m=\u001b[0m \u001b[0mclassification_report\u001b[0m\u001b[1;33m(\u001b[0m\u001b[0my_test\u001b[0m\u001b[1;33m,\u001b[0m \u001b[0mtest_pred\u001b[0m\u001b[1;33m)\u001b[0m\u001b[1;33m\u001b[0m\u001b[1;33m\u001b[0m\u001b[0m\n\u001b[0m",
      "\u001b[1;32mC:\\Anaconda\\lib\\site-packages\\sklearn\\utils\\validation.py\u001b[0m in \u001b[0;36minner_f\u001b[1;34m(*args, **kwargs)\u001b[0m\n\u001b[0;32m     61\u001b[0m             \u001b[0mextra_args\u001b[0m \u001b[1;33m=\u001b[0m \u001b[0mlen\u001b[0m\u001b[1;33m(\u001b[0m\u001b[0margs\u001b[0m\u001b[1;33m)\u001b[0m \u001b[1;33m-\u001b[0m \u001b[0mlen\u001b[0m\u001b[1;33m(\u001b[0m\u001b[0mall_args\u001b[0m\u001b[1;33m)\u001b[0m\u001b[1;33m\u001b[0m\u001b[1;33m\u001b[0m\u001b[0m\n\u001b[0;32m     62\u001b[0m             \u001b[1;32mif\u001b[0m \u001b[0mextra_args\u001b[0m \u001b[1;33m<=\u001b[0m \u001b[1;36m0\u001b[0m\u001b[1;33m:\u001b[0m\u001b[1;33m\u001b[0m\u001b[1;33m\u001b[0m\u001b[0m\n\u001b[1;32m---> 63\u001b[1;33m                 \u001b[1;32mreturn\u001b[0m \u001b[0mf\u001b[0m\u001b[1;33m(\u001b[0m\u001b[1;33m*\u001b[0m\u001b[0margs\u001b[0m\u001b[1;33m,\u001b[0m \u001b[1;33m**\u001b[0m\u001b[0mkwargs\u001b[0m\u001b[1;33m)\u001b[0m\u001b[1;33m\u001b[0m\u001b[1;33m\u001b[0m\u001b[0m\n\u001b[0m\u001b[0;32m     64\u001b[0m \u001b[1;33m\u001b[0m\u001b[0m\n\u001b[0;32m     65\u001b[0m             \u001b[1;31m# extra_args > 0\u001b[0m\u001b[1;33m\u001b[0m\u001b[1;33m\u001b[0m\u001b[1;33m\u001b[0m\u001b[0m\n",
      "\u001b[1;32mC:\\Anaconda\\lib\\site-packages\\sklearn\\metrics\\_classification.py\u001b[0m in \u001b[0;36mclassification_report\u001b[1;34m(y_true, y_pred, labels, target_names, sample_weight, digits, output_dict, zero_division)\u001b[0m\n\u001b[0;32m   1968\u001b[0m     \"\"\"\n\u001b[0;32m   1969\u001b[0m \u001b[1;33m\u001b[0m\u001b[0m\n\u001b[1;32m-> 1970\u001b[1;33m     \u001b[0my_type\u001b[0m\u001b[1;33m,\u001b[0m \u001b[0my_true\u001b[0m\u001b[1;33m,\u001b[0m \u001b[0my_pred\u001b[0m \u001b[1;33m=\u001b[0m \u001b[0m_check_targets\u001b[0m\u001b[1;33m(\u001b[0m\u001b[0my_true\u001b[0m\u001b[1;33m,\u001b[0m \u001b[0my_pred\u001b[0m\u001b[1;33m)\u001b[0m\u001b[1;33m\u001b[0m\u001b[1;33m\u001b[0m\u001b[0m\n\u001b[0m\u001b[0;32m   1971\u001b[0m \u001b[1;33m\u001b[0m\u001b[0m\n\u001b[0;32m   1972\u001b[0m     \u001b[1;32mif\u001b[0m \u001b[0mlabels\u001b[0m \u001b[1;32mis\u001b[0m \u001b[1;32mNone\u001b[0m\u001b[1;33m:\u001b[0m\u001b[1;33m\u001b[0m\u001b[1;33m\u001b[0m\u001b[0m\n",
      "\u001b[1;32mC:\\Anaconda\\lib\\site-packages\\sklearn\\metrics\\_classification.py\u001b[0m in \u001b[0;36m_check_targets\u001b[1;34m(y_true, y_pred)\u001b[0m\n\u001b[0;32m     81\u001b[0m     \u001b[0my_pred\u001b[0m \u001b[1;33m:\u001b[0m \u001b[0marray\u001b[0m \u001b[1;32mor\u001b[0m \u001b[0mindicator\u001b[0m \u001b[0mmatrix\u001b[0m\u001b[1;33m\u001b[0m\u001b[1;33m\u001b[0m\u001b[0m\n\u001b[0;32m     82\u001b[0m     \"\"\"\n\u001b[1;32m---> 83\u001b[1;33m     \u001b[0mcheck_consistent_length\u001b[0m\u001b[1;33m(\u001b[0m\u001b[0my_true\u001b[0m\u001b[1;33m,\u001b[0m \u001b[0my_pred\u001b[0m\u001b[1;33m)\u001b[0m\u001b[1;33m\u001b[0m\u001b[1;33m\u001b[0m\u001b[0m\n\u001b[0m\u001b[0;32m     84\u001b[0m     \u001b[0mtype_true\u001b[0m \u001b[1;33m=\u001b[0m \u001b[0mtype_of_target\u001b[0m\u001b[1;33m(\u001b[0m\u001b[0my_true\u001b[0m\u001b[1;33m)\u001b[0m\u001b[1;33m\u001b[0m\u001b[1;33m\u001b[0m\u001b[0m\n\u001b[0;32m     85\u001b[0m     \u001b[0mtype_pred\u001b[0m \u001b[1;33m=\u001b[0m \u001b[0mtype_of_target\u001b[0m\u001b[1;33m(\u001b[0m\u001b[0my_pred\u001b[0m\u001b[1;33m)\u001b[0m\u001b[1;33m\u001b[0m\u001b[1;33m\u001b[0m\u001b[0m\n",
      "\u001b[1;32mC:\\Anaconda\\lib\\site-packages\\sklearn\\utils\\validation.py\u001b[0m in \u001b[0;36mcheck_consistent_length\u001b[1;34m(*arrays)\u001b[0m\n\u001b[0;32m    314\u001b[0m     \"\"\"\n\u001b[0;32m    315\u001b[0m \u001b[1;33m\u001b[0m\u001b[0m\n\u001b[1;32m--> 316\u001b[1;33m     \u001b[0mlengths\u001b[0m \u001b[1;33m=\u001b[0m \u001b[1;33m[\u001b[0m\u001b[0m_num_samples\u001b[0m\u001b[1;33m(\u001b[0m\u001b[0mX\u001b[0m\u001b[1;33m)\u001b[0m \u001b[1;32mfor\u001b[0m \u001b[0mX\u001b[0m \u001b[1;32min\u001b[0m \u001b[0marrays\u001b[0m \u001b[1;32mif\u001b[0m \u001b[0mX\u001b[0m \u001b[1;32mis\u001b[0m \u001b[1;32mnot\u001b[0m \u001b[1;32mNone\u001b[0m\u001b[1;33m]\u001b[0m\u001b[1;33m\u001b[0m\u001b[1;33m\u001b[0m\u001b[0m\n\u001b[0m\u001b[0;32m    317\u001b[0m     \u001b[0muniques\u001b[0m \u001b[1;33m=\u001b[0m \u001b[0mnp\u001b[0m\u001b[1;33m.\u001b[0m\u001b[0munique\u001b[0m\u001b[1;33m(\u001b[0m\u001b[0mlengths\u001b[0m\u001b[1;33m)\u001b[0m\u001b[1;33m\u001b[0m\u001b[1;33m\u001b[0m\u001b[0m\n\u001b[0;32m    318\u001b[0m     \u001b[1;32mif\u001b[0m \u001b[0mlen\u001b[0m\u001b[1;33m(\u001b[0m\u001b[0muniques\u001b[0m\u001b[1;33m)\u001b[0m \u001b[1;33m>\u001b[0m \u001b[1;36m1\u001b[0m\u001b[1;33m:\u001b[0m\u001b[1;33m\u001b[0m\u001b[1;33m\u001b[0m\u001b[0m\n",
      "\u001b[1;32mC:\\Anaconda\\lib\\site-packages\\sklearn\\utils\\validation.py\u001b[0m in \u001b[0;36m<listcomp>\u001b[1;34m(.0)\u001b[0m\n\u001b[0;32m    314\u001b[0m     \"\"\"\n\u001b[0;32m    315\u001b[0m \u001b[1;33m\u001b[0m\u001b[0m\n\u001b[1;32m--> 316\u001b[1;33m     \u001b[0mlengths\u001b[0m \u001b[1;33m=\u001b[0m \u001b[1;33m[\u001b[0m\u001b[0m_num_samples\u001b[0m\u001b[1;33m(\u001b[0m\u001b[0mX\u001b[0m\u001b[1;33m)\u001b[0m \u001b[1;32mfor\u001b[0m \u001b[0mX\u001b[0m \u001b[1;32min\u001b[0m \u001b[0marrays\u001b[0m \u001b[1;32mif\u001b[0m \u001b[0mX\u001b[0m \u001b[1;32mis\u001b[0m \u001b[1;32mnot\u001b[0m \u001b[1;32mNone\u001b[0m\u001b[1;33m]\u001b[0m\u001b[1;33m\u001b[0m\u001b[1;33m\u001b[0m\u001b[0m\n\u001b[0m\u001b[0;32m    317\u001b[0m     \u001b[0muniques\u001b[0m \u001b[1;33m=\u001b[0m \u001b[0mnp\u001b[0m\u001b[1;33m.\u001b[0m\u001b[0munique\u001b[0m\u001b[1;33m(\u001b[0m\u001b[0mlengths\u001b[0m\u001b[1;33m)\u001b[0m\u001b[1;33m\u001b[0m\u001b[1;33m\u001b[0m\u001b[0m\n\u001b[0;32m    318\u001b[0m     \u001b[1;32mif\u001b[0m \u001b[0mlen\u001b[0m\u001b[1;33m(\u001b[0m\u001b[0muniques\u001b[0m\u001b[1;33m)\u001b[0m \u001b[1;33m>\u001b[0m \u001b[1;36m1\u001b[0m\u001b[1;33m:\u001b[0m\u001b[1;33m\u001b[0m\u001b[1;33m\u001b[0m\u001b[0m\n",
      "\u001b[1;32mC:\\Anaconda\\lib\\site-packages\\sklearn\\utils\\validation.py\u001b[0m in \u001b[0;36m_num_samples\u001b[1;34m(x)\u001b[0m\n\u001b[0;32m    257\u001b[0m     \u001b[1;32mif\u001b[0m \u001b[0mhasattr\u001b[0m\u001b[1;33m(\u001b[0m\u001b[0mx\u001b[0m\u001b[1;33m,\u001b[0m \u001b[1;34m'shape'\u001b[0m\u001b[1;33m)\u001b[0m \u001b[1;32mand\u001b[0m \u001b[0mx\u001b[0m\u001b[1;33m.\u001b[0m\u001b[0mshape\u001b[0m \u001b[1;32mis\u001b[0m \u001b[1;32mnot\u001b[0m \u001b[1;32mNone\u001b[0m\u001b[1;33m:\u001b[0m\u001b[1;33m\u001b[0m\u001b[1;33m\u001b[0m\u001b[0m\n\u001b[0;32m    258\u001b[0m         \u001b[1;32mif\u001b[0m \u001b[0mlen\u001b[0m\u001b[1;33m(\u001b[0m\u001b[0mx\u001b[0m\u001b[1;33m.\u001b[0m\u001b[0mshape\u001b[0m\u001b[1;33m)\u001b[0m \u001b[1;33m==\u001b[0m \u001b[1;36m0\u001b[0m\u001b[1;33m:\u001b[0m\u001b[1;33m\u001b[0m\u001b[1;33m\u001b[0m\u001b[0m\n\u001b[1;32m--> 259\u001b[1;33m             raise TypeError(\"Singleton array %r cannot be considered\"\n\u001b[0m\u001b[0;32m    260\u001b[0m                             \" a valid collection.\" % x)\n\u001b[0;32m    261\u001b[0m         \u001b[1;31m# Check that shape is returning an integer or default to len\u001b[0m\u001b[1;33m\u001b[0m\u001b[1;33m\u001b[0m\u001b[1;33m\u001b[0m\u001b[0m\n",
      "\u001b[1;31mTypeError\u001b[0m: Singleton array 0.9416 cannot be considered a valid collection."
     ]
    }
   ],
   "source": [
    "report_class = classification_report(y_test, test_pred)"
   ]
  },
  {
   "cell_type": "code",
   "execution_count": null,
   "id": "6f3bf1e4-4288-4619-b863-3d6d10bd5cfa",
   "metadata": {},
   "outputs": [],
   "source": [
    "print(\"Classification Report:\\n----------------------\\n\", report_class)"
   ]
  },
  {
   "cell_type": "code",
   "execution_count": null,
   "id": "d8289ced-347a-4caf-98d1-bd955e5c3417",
   "metadata": {},
   "outputs": [],
   "source": []
  },
  {
   "cell_type": "markdown",
   "id": "0c1adf95-e966-4f8e-baa6-5e0b88449943",
   "metadata": {},
   "source": [
    "# Regressão Logistica 2"
   ]
  },
  {
   "cell_type": "code",
   "execution_count": 67,
   "id": "346ddb98-3436-44a5-9eae-71095b79d3c0",
   "metadata": {},
   "outputs": [],
   "source": [
    "model_lr= LogisticRegression(max_iter=1000)"
   ]
  },
  {
   "cell_type": "code",
   "execution_count": 76,
   "id": "264e84c4-fab2-4a29-89a1-29f3e4571eca",
   "metadata": {},
   "outputs": [],
   "source": [
    "X2 = data_fraud.drop(columns=['fraud'],axis=1)\n",
    "y2 = data_fraud[\"fraud\"]"
   ]
  },
  {
   "cell_type": "code",
   "execution_count": 77,
   "id": "12849c63-af6b-4661-a678-177238bf0b2d",
   "metadata": {},
   "outputs": [],
   "source": [
    "X_train2, X_test2, y_train2, y_test2 = train_test_split(X2,y2, stratify=y, random_state=12)"
   ]
  },
  {
   "cell_type": "code",
   "execution_count": 78,
   "id": "de86774f-e584-4b72-aa08-fb819e1139e7",
   "metadata": {},
   "outputs": [],
   "source": [
    "scale=MinMaxScaler().fit(X_train2)\n",
    "train_features_scaled=scale.transform(X_train2)\n",
    "test_features_scaled=scale.transform(X_test2)"
   ]
  },
  {
   "cell_type": "code",
   "execution_count": null,
   "id": "4558a401-763a-496f-87d9-e738f8778890",
   "metadata": {},
   "outputs": [],
   "source": []
  },
  {
   "cell_type": "code",
   "execution_count": 79,
   "id": "fc2d4702-687d-4a05-8c79-b8da73ebc4eb",
   "metadata": {},
   "outputs": [],
   "source": [
    "param_lr={\n",
    "    \"solver\": ['newton-cg','lbfgs','liblinear'],\n",
    "    \"C\":[100, 10, 1.0, 0.1, 0.01],\n",
    "    \"penalty\":['l2']\n",
    "}"
   ]
  },
  {
   "cell_type": "code",
   "execution_count": 80,
   "id": "bb67d42a-f75d-43cb-bc1f-99451db3a6ea",
   "metadata": {},
   "outputs": [],
   "source": [
    "from sklearn.model_selection import RandomizedSearchCV"
   ]
  },
  {
   "cell_type": "code",
   "execution_count": 81,
   "id": "6332a7a5-4a93-4580-b62a-43966d058276",
   "metadata": {},
   "outputs": [],
   "source": [
    "random_lr=RandomizedSearchCV(estimator=model_lr, param_distributions=param_lr, n_iter = 15 , scoring='accuracy', cv = 10, verbose=2, n_jobs=-1,random_state=43)"
   ]
  },
  {
   "cell_type": "code",
   "execution_count": 83,
   "id": "162b3860-2090-4f78-af81-0342616e6b4e",
   "metadata": {},
   "outputs": [
    {
     "name": "stdout",
     "output_type": "stream",
     "text": [
      "Fitting 10 folds for each of 15 candidates, totalling 150 fits\n"
     ]
    },
    {
     "data": {
      "text/plain": [
       "RandomizedSearchCV(cv=10, estimator=LogisticRegression(max_iter=1000),\n",
       "                   n_iter=15, n_jobs=-1,\n",
       "                   param_distributions={'C': [100, 10, 1.0, 0.1, 0.01],\n",
       "                                        'penalty': ['l2'],\n",
       "                                        'solver': ['newton-cg', 'lbfgs',\n",
       "                                                   'liblinear']},\n",
       "                   random_state=43, scoring='accuracy', verbose=2)"
      ]
     },
     "execution_count": 83,
     "metadata": {},
     "output_type": "execute_result"
    }
   ],
   "source": [
    "random_lr.fit(train_features_scaled,y_train2)"
   ]
  },
  {
   "cell_type": "code",
   "execution_count": 84,
   "id": "a1fed4ec-de9d-4572-a434-3156f387d1cc",
   "metadata": {},
   "outputs": [],
   "source": [
    "model_lr=random_lr.best_estimator_"
   ]
  },
  {
   "cell_type": "code",
   "execution_count": 86,
   "id": "a7617257-2823-4ecd-bc46-5b159df960f0",
   "metadata": {},
   "outputs": [],
   "source": [
    "from sklearn.model_selection import cross_val_score"
   ]
  },
  {
   "cell_type": "code",
   "execution_count": 87,
   "id": "e94c2f3e-957d-44ae-b9fc-164cb30aacbd",
   "metadata": {},
   "outputs": [],
   "source": [
    "crossval = cross_val_score(model_lr,train_features_scaled,y_train2,cv=5,scoring='accuracy')"
   ]
  },
  {
   "cell_type": "code",
   "execution_count": 88,
   "id": "b03931b9-5fe7-4717-93e6-23b64b61e1d3",
   "metadata": {},
   "outputs": [],
   "source": [
    "scores = np.mean(crossval)"
   ]
  },
  {
   "cell_type": "code",
   "execution_count": 91,
   "id": "8d0d2ef7-b2ea-41ae-80e4-d7954f26353c",
   "metadata": {},
   "outputs": [],
   "source": [
    "test_pred=model_lr.predict(test_features_scaled)\n",
    "test_recall = recall_score(y_test2, test_pred, pos_label=1)\n",
    "fpr,tpr,thresholds = roc_curve(y_test2, test_pred, pos_label=1)\n",
    "test_auc = auc(fpr,tpr)"
   ]
  },
  {
   "cell_type": "code",
   "execution_count": 92,
   "id": "5d3bfd8b-46e6-4924-a8fd-42fa756895f1",
   "metadata": {},
   "outputs": [
    {
     "name": "stdout",
     "output_type": "stream",
     "text": [
      "Train acc: 94.09 %\n",
      "Test acc: 94.4 %\n",
      "Best solver: newton-cg\n",
      "Best C: 10\n",
      "Best penalty: l2\n"
     ]
    }
   ],
   "source": [
    "print('Train acc:',round(scores*100,2),'%')\n",
    "print('Test acc:',round(accuracy_score(y_test2,test_pred)*100,2),'%')\n",
    "print('Best solver:',random_lr.best_estimator_.get_params()['solver'])\n",
    "print('Best C:',random_lr.best_estimator_.get_params()['C'])\n",
    "print('Best penalty:',random_lr.best_estimator_.get_params()['penalty'])"
   ]
  },
  {
   "cell_type": "code",
   "execution_count": 94,
   "id": "6d1856e6-ae62-4257-9016-49104fa05bef",
   "metadata": {},
   "outputs": [],
   "source": [
    "from sklearn.metrics import classification_report"
   ]
  },
  {
   "cell_type": "code",
   "execution_count": 95,
   "id": "2fd2a352-4cb3-4a35-9aa7-5e6a4f48fe32",
   "metadata": {},
   "outputs": [
    {
     "data": {
      "image/png": "[encoded data removed]",
      "text/plain": [
       "<Figure size 360x360 with 1 Axes>"
      ]
     },
     "metadata": {
      "needs_background": "light"
     },
     "output_type": "display_data"
    },
    {
     "name": "stdout",
     "output_type": "stream",
     "text": [
      "Classification Report:\n",
      "----------------------\n",
      "               precision    recall  f1-score   support\n",
      "\n",
      "         0.0       0.95      0.94      0.94      1250\n",
      "         1.0       0.94      0.95      0.94      1250\n",
      "\n",
      "    accuracy                           0.94      2500\n",
      "   macro avg       0.94      0.94      0.94      2500\n",
      "weighted avg       0.94      0.94      0.94      2500\n",
      "\n"
     ]
    }
   ],
   "source": [
    "test_pred=model_lr.predict(test_features_scaled)\n",
    "cm = confusion_matrix(y_test2, test_pred)\n",
    "clr = classification_report(y_test2, test_pred)\n",
    "plt.figure(figsize=(5, 5))\n",
    "sns.heatmap(cm, annot=True, vmin=0, fmt='g', cbar=False, cmap='Blues')\n",
    "plt.xlabel(\"Predicted\")\n",
    "plt.ylabel(\"Actual\")\n",
    "plt.title(\"Confusion Matrix:Log Reg\")\n",
    "plt.show()\n",
    "print(\"Classification Report:\\n----------------------\\n\", clr)"
   ]
  },
  {
   "cell_type": "code",
   "execution_count": null,
   "id": "51b2bf09-1308-43d4-a688-4edfcf19f62e",
   "metadata": {},
   "outputs": [],
   "source": []
  }
 ],
 "metadata": {
  "kernelspec": {
   "display_name": "Python 3 (ipykernel)",
   "language": "python",
   "name": "python3"
  },
  "language_info": {
   "codemirror_mode": {
    "name": "ipython",
    "version": 3
   },
   "file_extension": ".py",
   "mimetype": "text/x-python",
   "name": "python",
   "nbconvert_exporter": "python",
   "pygments_lexer": "ipython3",
   "version": "3.8.12"
  }
 },
 "nbformat": 4,
 "nbformat_minor": 5
}
